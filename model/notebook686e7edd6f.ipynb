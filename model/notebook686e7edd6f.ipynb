{
 "cells": [
  {
   "cell_type": "code",
   "execution_count": 1,
   "id": "STxK8DOteFhP",
   "metadata": {
    "colab": {
     "base_uri": "https://localhost:8080/"
    },
    "execution": {
     "iopub.execute_input": "2025-06-22T23:23:07.216582Z",
     "iopub.status.busy": "2025-06-22T23:23:07.216329Z",
     "iopub.status.idle": "2025-06-22T23:23:07.220808Z",
     "shell.execute_reply": "2025-06-22T23:23:07.220068Z",
     "shell.execute_reply.started": "2025-06-22T23:23:07.216558Z"
    },
    "id": "STxK8DOteFhP",
    "outputId": "f9fb613a-f312-4aff-f687-863ca95b7610",
    "trusted": true
   },
   "outputs": [],
   "source": [
    "# !gdown --fuzzy \"https://drive.google.com/file/d/1A3hCNFQoM9KJy43j8e54Q-beP_vokzY-/view?usp=sharing\"\n",
    "# !unzip -q dataset.zip"
   ]
  },
  {
   "cell_type": "code",
   "execution_count": 2,
   "id": "ea72e0f0",
   "metadata": {
    "execution": {
     "iopub.execute_input": "2025-06-22T23:23:07.222463Z",
     "iopub.status.busy": "2025-06-22T23:23:07.222268Z",
     "iopub.status.idle": "2025-06-22T23:23:21.445692Z",
     "shell.execute_reply": "2025-06-22T23:23:21.444811Z",
     "shell.execute_reply.started": "2025-06-22T23:23:07.222446Z"
    },
    "id": "ea72e0f0",
    "trusted": true
   },
   "outputs": [],
   "source": [
    "import os\n",
    "import torch\n",
    "from torch.utils.data import Dataset, DataLoader\n",
    "from torchvision import transforms\n",
    "from torchvision.transforms import functional as TF\n",
    "import torchvision.models as models\n",
    "from PIL import Image\n",
    "import numpy as np\n",
    "from pytorch_lightning import LightningModule, Trainer\n",
    "from pytorch_lightning.callbacks import ModelCheckpoint\n",
    "from torch.utils.data import random_split"
   ]
  },
  {
   "cell_type": "code",
   "execution_count": 3,
   "id": "dd69d21d-56c3-4a40-a373-12b561dbdb17",
   "metadata": {
    "execution": {
     "iopub.execute_input": "2025-06-22T23:23:21.446846Z",
     "iopub.status.busy": "2025-06-22T23:23:21.446505Z",
     "iopub.status.idle": "2025-06-22T23:23:21.450425Z",
     "shell.execute_reply": "2025-06-22T23:23:21.449676Z",
     "shell.execute_reply.started": "2025-06-22T23:23:21.446827Z"
    },
    "trusted": true
   },
   "outputs": [],
   "source": [
    "# DATASET = '/kaggle/input/sber-sk-practice-dataset-1/dataset'\n",
    "DATASET = 'dataset'"
   ]
  },
  {
   "cell_type": "code",
   "execution_count": 4,
   "id": "bc3a37fa",
   "metadata": {
    "execution": {
     "iopub.execute_input": "2025-06-22T23:23:21.451485Z",
     "iopub.status.busy": "2025-06-22T23:23:21.451207Z",
     "iopub.status.idle": "2025-06-22T23:23:21.483218Z",
     "shell.execute_reply": "2025-06-22T23:23:21.482450Z",
     "shell.execute_reply.started": "2025-06-22T23:23:21.451461Z"
    },
    "id": "bc3a37fa",
    "trusted": true
   },
   "outputs": [],
   "source": [
    "# -------- 1. Dataset --------\n",
    "class LithoZernikeDataset(Dataset):\n",
    "    def __init__(self, root_dir, num_zernike=20, image_size=512, augment=True):\n",
    "        self.pairs = []  # (input_img_path, target_img_path, coeffs)\n",
    "        self.num_zernike = num_zernike\n",
    "        self.image_size = image_size\n",
    "        self.augment = augment\n",
    "\n",
    "        for ab_folder in sorted(os.listdir(root_dir)):\n",
    "            folder_path = os.path.join(root_dir, ab_folder)\n",
    "            if not os.path.isdir(folder_path):\n",
    "                continue\n",
    "            # Parse Zernike index and coefficient from folder name, e.g., \"4Z3\"\n",
    "            if 'Z' in ab_folder:\n",
    "                parts = ab_folder.replace('-', ' -').split('Z')\n",
    "                coef = float(parts[0])\n",
    "                idx = int(parts[1])\n",
    "                coeffs = np.zeros(num_zernike, dtype=np.float32)\n",
    "                if idx < num_zernike:\n",
    "                    coeffs[idx] = coef\n",
    "            else:\n",
    "                continue\n",
    "\n",
    "            for imgname in os.listdir(folder_path):\n",
    "                if not imgname.endswith(('.png', '.jpg', '.jpeg', '.bmp')):\n",
    "                    continue\n",
    "                input_img_path = os.path.join(folder_path, imgname)\n",
    "                # Предполагаем, что у тебя есть target-изображение с тем же именем в папке \"target\"\n",
    "                target_img_path = os.path.join(root_dir, 'target', imgname)\n",
    "                self.pairs.append((input_img_path, target_img_path, coeffs.copy()))\n",
    "\n",
    "        self.transform = transforms.Compose([\n",
    "            transforms.Resize((self.image_size, self.image_size)),\n",
    "            transforms.ToTensor()\n",
    "        ])\n",
    "\n",
    "    def __len__(self):\n",
    "        return len(self.pairs)\n",
    "\n",
    "    def __getitem__(self, idx):\n",
    "        input_img_path, target_img_path, coeffs = self.pairs[idx]\n",
    "        input_img = Image.open(input_img_path).convert('L')\n",
    "        target_img = Image.open(target_img_path).convert('L')\n",
    "\n",
    "        # Augmentation (rotation + flip)\n",
    "        if self.augment:\n",
    "            angle = np.random.choice([0, 90, 180, 270])\n",
    "            flip_h = np.random.rand() > 0.5\n",
    "            flip_v = np.random.rand() > 0.5\n",
    "            input_img = TF.rotate(input_img, angle)\n",
    "            target_img = TF.rotate(target_img, angle)\n",
    "            if flip_h:\n",
    "                input_img = TF.hflip(input_img)\n",
    "                target_img = TF.hflip(target_img)\n",
    "            if flip_v:\n",
    "                input_img = TF.vflip(input_img)\n",
    "                target_img = TF.vflip(target_img)\n",
    "\n",
    "        input_img = self.transform(input_img)  # 1 x H x W\n",
    "        target_img = self.transform(target_img)\n",
    "        # Stack to shape [2, H, W]\n",
    "        imgs = torch.cat([input_img, target_img], dim=0)\n",
    "        return imgs, torch.from_numpy(coeffs)"
   ]
  },
  {
   "cell_type": "code",
   "execution_count": 5,
   "id": "0be659ee-aa1d-4b71-97cf-3ea05ec3498c",
   "metadata": {
    "execution": {
     "iopub.execute_input": "2025-06-22T23:23:21.485084Z",
     "iopub.status.busy": "2025-06-22T23:23:21.484851Z",
     "iopub.status.idle": "2025-06-22T23:23:21.502368Z",
     "shell.execute_reply": "2025-06-22T23:23:21.501513Z",
     "shell.execute_reply.started": "2025-06-22T23:23:21.485067Z"
    },
    "trusted": true
   },
   "outputs": [],
   "source": [
    "def get_backbone(model_name, in_chans=2, pretrained=True, num_classes=20):\n",
    "    if model_name.startswith('resnet'):\n",
    "        backbone = getattr(models, model_name)(pretrained=pretrained)\n",
    "        # Меняем первый слой под два канала\n",
    "        backbone.conv1 = torch.nn.Conv2d(\n",
    "            in_chans, backbone.conv1.out_channels,\n",
    "            kernel_size=backbone.conv1.kernel_size,\n",
    "            stride=backbone.conv1.stride,\n",
    "            padding=backbone.conv1.padding,\n",
    "            bias=False)\n",
    "        num_features = backbone.fc.in_features\n",
    "        backbone.fc = torch.nn.Linear(num_features, num_classes)\n",
    "    elif model_name.startswith('efficientnet'):\n",
    "        backbone = getattr(models, model_name)(pretrained=pretrained)\n",
    "        # Первый слой EfficientNet называется \"features[0][0]\"\n",
    "        backbone.features[0][0] = torch.nn.Conv2d(\n",
    "            in_chans, backbone.features[0][0].out_channels,\n",
    "            kernel_size=3, stride=2, padding=1, bias=False)\n",
    "        num_features = backbone.classifier[1].in_features\n",
    "        backbone.classifier[1] = torch.nn.Linear(num_features, num_classes)\n",
    "    elif model_name.startswith('convnext'):\n",
    "        backbone = getattr(models, model_name)(pretrained=pretrained)\n",
    "        backbone.features[0][0] = torch.nn.Conv2d(\n",
    "            in_chans, backbone.features[0][0].out_channels,\n",
    "            kernel_size=4, stride=4)\n",
    "        num_features = backbone.classifier[2].in_features\n",
    "        backbone.classifier[2] = torch.nn.Linear(num_features, num_classes)\n",
    "    elif model_name.startswith('swin'):\n",
    "        backbone = getattr(models, model_name)(pretrained=pretrained)\n",
    "        backbone.features[0][0] = torch.nn.Conv2d(\n",
    "            in_chans, backbone.features[0][0].out_channels,\n",
    "            kernel_size=4, stride=4)\n",
    "        num_features = backbone.head.in_features\n",
    "        backbone.head = torch.nn.Linear(num_features, num_classes)\n",
    "    elif model_name.startswith('vit'):\n",
    "        backbone = getattr(models, model_name)(pretrained=pretrained)\n",
    "        # vit expects 3 channels by default, patchify works on in_chans\n",
    "        backbone.conv_proj = torch.nn.Conv2d(\n",
    "            in_chans, backbone.conv_proj.out_channels,\n",
    "            kernel_size=backbone.conv_proj.kernel_size,\n",
    "            stride=backbone.conv_proj.stride,\n",
    "            padding=backbone.conv_proj.padding,\n",
    "            bias=False)\n",
    "        num_features = backbone.heads.head.in_features\n",
    "        backbone.heads.head = torch.nn.Linear(num_features, num_classes)\n",
    "    else:\n",
    "        raise NotImplementedError(f'Unknown model: {model_name}')\n",
    "    return backbone"
   ]
  },
  {
   "cell_type": "code",
   "execution_count": 6,
   "id": "9a0b8576",
   "metadata": {
    "execution": {
     "iopub.execute_input": "2025-06-22T23:23:21.503359Z",
     "iopub.status.busy": "2025-06-22T23:23:21.503089Z",
     "iopub.status.idle": "2025-06-22T23:23:21.516323Z",
     "shell.execute_reply": "2025-06-22T23:23:21.515688Z",
     "shell.execute_reply.started": "2025-06-22T23:23:21.503331Z"
    },
    "id": "9a0b8576",
    "trusted": true
   },
   "outputs": [],
   "source": [
    "# -------- 2. Model --------\n",
    "class LithoZernikeRegressor(LightningModule):\n",
    "    def __init__(self, model_name='efficientnet_b0', num_zernike=20, lr=1e-3):\n",
    "        super().__init__()\n",
    "        self.save_hyperparameters()\n",
    "        self.backbone = get_backbone(model_name, in_chans=2, num_classes=num_zernike)\n",
    "\n",
    "    def forward(self, x):\n",
    "        return self.backbone(x)\n",
    "\n",
    "    def training_step(self, batch, batch_idx):\n",
    "        imgs, coeffs = batch\n",
    "        preds = self(imgs)\n",
    "        loss = torch.nn.functional.mse_loss(preds, coeffs)\n",
    "        self.log('train_loss', loss, prog_bar=True)\n",
    "        return loss\n",
    "\n",
    "    def validation_step(self, batch, batch_idx):\n",
    "        imgs, coeffs = batch\n",
    "        preds = self(imgs)\n",
    "        loss = torch.nn.functional.mse_loss(preds, coeffs)\n",
    "        self.log('val_loss', loss, prog_bar=True)\n",
    "        return loss\n",
    "\n",
    "    def configure_optimizers(self):\n",
    "        return torch.optim.Adam(self.parameters(), lr=self.hparams.lr)"
   ]
  },
  {
   "cell_type": "code",
   "execution_count": 7,
   "id": "abc88b28",
   "metadata": {
    "execution": {
     "iopub.execute_input": "2025-06-22T23:23:21.517282Z",
     "iopub.status.busy": "2025-06-22T23:23:21.517041Z",
     "iopub.status.idle": "2025-06-22T23:23:21.533931Z",
     "shell.execute_reply": "2025-06-22T23:23:21.533091Z",
     "shell.execute_reply.started": "2025-06-22T23:23:21.517265Z"
    },
    "id": "abc88b28",
    "trusted": true
   },
   "outputs": [],
   "source": [
    "# -------- 3. DataLoader --------\n",
    "def make_dataloaders(root, batch_size=16, num_zernike=20, split=0.8):\n",
    "    # train_dataset = LithoZernikeDataset(root, num_zernike=num_zernike, augment=False)\n",
    "    # val_dataset = LithoZernikeDataset(root, num_zernike=num_zernike, augment=False)\n",
    "    dataset = LithoZernikeDataset(root, num_zernike=num_zernike, augment=False)\n",
    "    train_size = int(split * len(dataset))\n",
    "    val_size = len(dataset) - train_size\n",
    "    train_dataset, val_dataset = random_split(dataset, [train_size, val_size])\n",
    "    train_loader = DataLoader(train_dataset, batch_size=batch_size, shuffle=True, num_workers=4)\n",
    "    val_loader = DataLoader(val_dataset, batch_size=batch_size, shuffle=False, num_workers=4)\n",
    "    return train_loader, val_loader"
   ]
  },
  {
   "cell_type": "code",
   "execution_count": 8,
   "id": "5c55a1d1",
   "metadata": {
    "execution": {
     "iopub.execute_input": "2025-06-22T23:23:21.535182Z",
     "iopub.status.busy": "2025-06-22T23:23:21.534857Z",
     "iopub.status.idle": "2025-06-22T23:23:23.214656Z",
     "shell.execute_reply": "2025-06-22T23:23:23.213779Z",
     "shell.execute_reply.started": "2025-06-22T23:23:21.535158Z"
    },
    "id": "5c55a1d1",
    "trusted": true
   },
   "outputs": [
    {
     "name": "stdout",
     "output_type": "stream",
     "text": [
      "Aberrations: Z=[ 0. -3.  0.  0.  0.  0.]\n"
     ]
    },
    {
     "data": {
      "image/png": "[encoded data removed]",
      "text/plain": [
       "<Figure size 1200x500 with 2 Axes>"
      ]
     },
     "metadata": {},
     "output_type": "display_data"
    }
   ],
   "source": [
    "from matplotlib import pyplot as plt\n",
    "\n",
    "train_loader, val_loader = make_dataloaders(DATASET, batch_size=1, num_zernike=6)\n",
    "a = next(iter(train_loader))\n",
    "i = 0\n",
    "\n",
    "fig = plt.figure(figsize=(12,5))\n",
    "ax = plt.subplot(1,2,1)\n",
    "plt.imshow(a[0][i][0])\n",
    "ax.set_title(\"Result\")\n",
    "ax = plt.subplot(1,2,2)\n",
    "plt.imshow(a[0][i][1])\n",
    "ax.set_title(\"Target\")\n",
    "print(f\"Aberrations: Z={a[1][i].numpy()}\")\n",
    "plt.show()"
   ]
  },
  {
   "cell_type": "code",
   "execution_count": null,
   "id": "6f25737a",
   "metadata": {
    "execution": {
     "execution_failed": "2025-06-22T23:24:26.250Z",
     "iopub.execute_input": "2025-06-22T23:23:23.216036Z",
     "iopub.status.busy": "2025-06-22T23:23:23.215735Z"
    },
    "id": "6f25737a",
    "trusted": true
   },
   "outputs": [
    {
     "name": "stderr",
     "output_type": "stream",
     "text": [
      "/root/anaconda3/envs/SK/lib/python3.11/site-packages/torchvision/models/_utils.py:208: UserWarning: The parameter 'pretrained' is deprecated since 0.13 and may be removed in the future, please use 'weights' instead.\n",
      "  warnings.warn(\n",
      "/root/anaconda3/envs/SK/lib/python3.11/site-packages/torchvision/models/_utils.py:223: UserWarning: Arguments other than a weight enum or `None` for 'weights' are deprecated since 0.13 and may be removed in the future. The current behavior is equivalent to passing `weights=EfficientNet_B0_Weights.IMAGENET1K_V1`. You can also use `weights=EfficientNet_B0_Weights.DEFAULT` to get the most up-to-date weights.\n",
      "  warnings.warn(msg)\n"
     ]
    },
    {
     "name": "stdout",
     "output_type": "stream",
     "text": [
      "Downloading: \"https://download.pytorch.org/models/efficientnet_b0_rwightman-7f5810bc.pth\" to /root/.cache/torch/hub/checkpoints/efficientnet_b0_rwightman-7f5810bc.pth\n"
     ]
    },
    {
     "name": "stderr",
     "output_type": "stream",
     "text": [
      "100%|██████████| 20.5M/20.5M [00:02<00:00, 9.99MB/s]\n",
      "Using 16bit Automatic Mixed Precision (AMP)\n",
      "GPU available: True (cuda), used: True\n",
      "TPU available: False, using: 0 TPU cores\n",
      "HPU available: False, using: 0 HPUs\n",
      "/root/anaconda3/envs/SK/lib/python3.11/site-packages/pytorch_lightning/trainer/connectors/logger_connector/logger_connector.py:76: Starting from v1.9.0, `tensorboardX` has been removed as a dependency of the `pytorch_lightning` package, due to potential conflicts with other packages in the ML ecosystem. For this reason, `logger=True` will use `CSVLogger` as the default logger, unless the `tensorboard` or `tensorboardX` packages are found. Please `pip install lightning[extra]` or one of them to enable TensorBoard support by default\n",
      "You are using a CUDA device ('NVIDIA GeForce RTX 3060 Laptop GPU') that has Tensor Cores. To properly utilize them, you should set `torch.set_float32_matmul_precision('medium' | 'high')` which will trade-off precision for performance. For more details, read https://pytorch.org/docs/stable/generated/torch.set_float32_matmul_precision.html#torch.set_float32_matmul_precision\n",
      "LOCAL_RANK: 0 - CUDA_VISIBLE_DEVICES: [0]\n",
      "\n",
      "  | Name     | Type         | Params | Mode \n",
      "--------------------------------------------------\n",
      "0 | backbone | EfficientNet | 4.0 M  | train\n",
      "--------------------------------------------------\n",
      "4.0 M     Trainable params\n",
      "0         Non-trainable params\n",
      "4.0 M     Total params\n",
      "16.060    Total estimated model params size (MB)\n",
      "337       Modules in train mode\n",
      "0         Modules in eval mode\n"
     ]
    },
    {
     "data": {
      "application/vnd.jupyter.widget-view+json": {
       "model_id": "5240a0a452f0462599e856892daa1ce6",
       "version_major": 2,
       "version_minor": 0
      },
      "text/plain": [
       "Sanity Checking: |          | 0/? [00:00<?, ?it/s]"
      ]
     },
     "metadata": {},
     "output_type": "display_data"
    },
    {
     "data": {
      "application/vnd.jupyter.widget-view+json": {
       "model_id": "7236776a400f4dc79525559c240eab1b",
       "version_major": 2,
       "version_minor": 0
      },
      "text/plain": [
       "Training: |          | 0/? [00:00<?, ?it/s]"
      ]
     },
     "metadata": {},
     "output_type": "display_data"
    }
   ],
   "source": [
    "# -------- 4. Training --------\n",
    "train_loader, val_loader = make_dataloaders(DATASET, batch_size=48, num_zernike=6)\n",
    "model = LithoZernikeRegressor(num_zernike=6)\n",
    "checkpoint_callback = ModelCheckpoint(\n",
    "    monitor='val_loss',\n",
    "    save_top_k=1,\n",
    "    mode='min',\n",
    "    filename='best-model'\n",
    ")\n",
    "trainer = Trainer(max_epochs=15, accelerator=\"auto\", callbacks=[checkpoint_callback],\n",
    "                  accumulate_grad_batches = 4, gradient_clip_val=1., precision=\"16-mixed\")\n",
    "trainer.fit(model, train_loader, val_loader)"
   ]
  },
  {
   "cell_type": "code",
   "execution_count": null,
   "id": "e47c22b9-3881-4832-af09-fbc479bd03b0",
   "metadata": {
    "execution": {
     "execution_failed": "2025-06-22T23:24:26.250Z"
    },
    "trusted": true
   },
   "outputs": [],
   "source": [
    "# Получить финальный val_loss\n",
    "final_val_loss = trainer.callback_metrics['val_loss'].item()\n",
    "print('Final validation loss:', final_val_loss)\n",
    "\n",
    "# Где лежит best checkpoint\n",
    "print('Best model saved at:', checkpoint_callback.best_model_path)\n",
    "\n",
    "# Сохранить вручную\n",
    "torch.save(model.state_dict(), 'final_model.pt')"
   ]
  }
 ],
 "metadata": {
  "accelerator": "GPU",
  "colab": {
   "gpuType": "T4",
   "provenance": []
  },
  "kaggle": {
   "accelerator": "gpu",
   "dataSources": [
    {
     "datasetId": 7719098,
     "sourceId": 12250816,
     "sourceType": "datasetVersion"
    }
   ],
   "dockerImageVersionId": 31041,
   "isGpuEnabled": true,
   "isInternetEnabled": true,
   "language": "python",
   "sourceType": "notebook"
  },
  "kernelspec": {
   "display_name": "SK",
   "language": "python",
   "name": "python3"
  },
  "language_info": {
   "codemirror_mode": {
    "name": "ipython",
    "version": 3
   },
   "file_extension": ".py",
   "mimetype": "text/x-python",
   "name": "python",
   "nbconvert_exporter": "python",
   "pygments_lexer": "ipython3",
   "version": "3.11.10"
  }
 },
 "nbformat": 4,
 "nbformat_minor": 5
}
