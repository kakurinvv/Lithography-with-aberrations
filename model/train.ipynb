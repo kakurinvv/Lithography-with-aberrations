{
 "cells": [
  {
   "cell_type": "code",
   "execution_count": 1,
   "id": "ea72e0f0",
   "metadata": {},
   "outputs": [],
   "source": [
    "import os\n",
    "import torch\n",
    "from torch.utils.data import Dataset, DataLoader\n",
    "from torchvision import transforms\n",
    "from torchvision.transforms import functional as TF\n",
    "from PIL import Image\n",
    "import numpy as np\n",
    "from pytorch_lightning import LightningModule, Trainer\n",
    "from efficientnet_pytorch import EfficientNet"
   ]
  },
  {
   "cell_type": "code",
   "execution_count": 2,
   "id": "bc3a37fa",
   "metadata": {},
   "outputs": [],
   "source": [
    "# -------- 1. Dataset --------\n",
    "class LithoZernikeDataset(Dataset):\n",
    "    def __init__(self, root_dir, num_zernike=20, image_size=2048, augment=True):\n",
    "        self.pairs = []  # (input_img_path, target_img_path, coeffs)\n",
    "        self.num_zernike = num_zernike\n",
    "        self.image_size = image_size\n",
    "        self.augment = augment\n",
    "\n",
    "        for ab_folder in sorted(os.listdir(root_dir)):\n",
    "            folder_path = os.path.join(root_dir, ab_folder)\n",
    "            if not os.path.isdir(folder_path):\n",
    "                continue\n",
    "            # Parse Zernike index and coefficient from folder name, e.g., \"4Z3\"\n",
    "            if 'Z' in ab_folder:\n",
    "                parts = ab_folder.replace('-', ' -').split('Z')\n",
    "                coef = float(parts[0])\n",
    "                idx = int(parts[1])\n",
    "                coeffs = np.zeros(num_zernike, dtype=np.float32)\n",
    "                if idx < num_zernike:\n",
    "                    coeffs[idx] = coef\n",
    "            else:\n",
    "                continue\n",
    "\n",
    "            for imgname in os.listdir(folder_path):\n",
    "                if not imgname.endswith(('.png', '.jpg', '.jpeg', '.bmp')):\n",
    "                    continue\n",
    "                input_img_path = os.path.join(folder_path, imgname)\n",
    "                # Предполагаем, что у тебя есть target-изображение с тем же именем в папке \"target\"\n",
    "                target_img_path = os.path.join(root_dir, 'target', imgname)\n",
    "                self.pairs.append((input_img_path, target_img_path, coeffs.copy()))\n",
    "\n",
    "        self.transform = transforms.Compose([\n",
    "            transforms.Resize((self.image_size, self.image_size)),\n",
    "            transforms.ToTensor()\n",
    "        ])\n",
    "\n",
    "    def __len__(self):\n",
    "        return len(self.pairs)\n",
    "\n",
    "    def __getitem__(self, idx):\n",
    "        input_img_path, target_img_path, coeffs = self.pairs[idx]\n",
    "        input_img = Image.open(input_img_path).convert('L')\n",
    "        target_img = Image.open(target_img_path).convert('L')\n",
    "\n",
    "        # Augmentation (rotation + flip)\n",
    "        if self.augment:\n",
    "            angle = np.random.choice([0, 90, 180, 270])\n",
    "            flip_h = np.random.rand() > 0.5\n",
    "            flip_v = np.random.rand() > 0.5\n",
    "            input_img = TF.rotate(input_img, angle)\n",
    "            target_img = TF.rotate(target_img, angle)\n",
    "            if flip_h:\n",
    "                input_img = TF.hflip(input_img)\n",
    "                target_img = TF.hflip(target_img)\n",
    "            if flip_v:\n",
    "                input_img = TF.vflip(input_img)\n",
    "                target_img = TF.vflip(target_img)\n",
    "\n",
    "        input_img = self.transform(input_img)  # 1 x H x W\n",
    "        target_img = self.transform(target_img)\n",
    "        # Stack to shape [2, H, W]\n",
    "        imgs = torch.cat([input_img, target_img], dim=0)\n",
    "        return imgs, torch.from_numpy(coeffs)"
   ]
  },
  {
   "cell_type": "code",
   "execution_count": 3,
   "id": "9a0b8576",
   "metadata": {},
   "outputs": [],
   "source": [
    "# -------- 2. Model --------\n",
    "class LithoZernikeRegressor(LightningModule):\n",
    "    def __init__(self, num_zernike=20, lr=1e-3):\n",
    "        super().__init__()\n",
    "        self.save_hyperparameters()\n",
    "        self.backbone = EfficientNet.from_name('efficientnet-b0', in_channels=2)\n",
    "        in_features = self.backbone._fc.in_features\n",
    "        self.backbone._fc = torch.nn.Linear(in_features, num_zernike)\n",
    "\n",
    "    def forward(self, x):\n",
    "        return self.backbone(x)\n",
    "\n",
    "    def training_step(self, batch, batch_idx):\n",
    "        imgs, coeffs = batch\n",
    "        preds = self(imgs)\n",
    "        loss = torch.nn.functional.mse_loss(preds, coeffs)\n",
    "        self.log('train_loss', loss)\n",
    "        return loss\n",
    "\n",
    "    def validation_step(self, batch, batch_idx):\n",
    "        imgs, coeffs = batch\n",
    "        preds = self(imgs)\n",
    "        loss = torch.nn.functional.mse_loss(preds, coeffs)\n",
    "        self.log('val_loss', loss)\n",
    "        return loss\n",
    "\n",
    "    def configure_optimizers(self):\n",
    "        return torch.optim.Adam(self.parameters(), lr=self.hparams.lr)"
   ]
  },
  {
   "cell_type": "code",
   "execution_count": 4,
   "id": "abc88b28",
   "metadata": {},
   "outputs": [],
   "source": [
    "# -------- 3. DataLoader --------\n",
    "def make_dataloaders(root, batch_size=16, num_zernike=20):\n",
    "    train_dataset = LithoZernikeDataset(root, num_zernike=num_zernike, augment=False)\n",
    "    val_dataset = LithoZernikeDataset(root, num_zernike=num_zernike, augment=False)\n",
    "    train_loader = DataLoader(train_dataset, batch_size=batch_size, shuffle=True, num_workers=8)\n",
    "    val_loader = DataLoader(val_dataset, batch_size=batch_size, shuffle=False, num_workers=8)\n",
    "    return train_loader, val_loader"
   ]
  },
  {
   "cell_type": "code",
   "execution_count": 5,
   "id": "e486e16d",
   "metadata": {},
   "outputs": [
    {
     "data": {
      "text/plain": [
       "2"
      ]
     },
     "execution_count": 5,
     "metadata": {},
     "output_type": "execute_result"
    }
   ],
   "source": [
    "train_loader, val_loader = make_dataloaders('dataset', batch_size=4, num_zernike=6)\n",
    "a = next(iter(train_loader))\n",
    "len(a)"
   ]
  },
  {
   "cell_type": "code",
   "execution_count": 6,
   "id": "5c55a1d1",
   "metadata": {},
   "outputs": [
    {
     "name": "stdout",
     "output_type": "stream",
     "text": [
      "Aberrations: Z=[0. 3. 0. 0. 0. 0.]\n"
     ]
    },
    {
     "data": {
      "image/png": "[encoded data removed]",
      "text/plain": [
       "<Figure size 1200x500 with 2 Axes>"
      ]
     },
     "metadata": {},
     "output_type": "display_data"
    }
   ],
   "source": [
    "from matplotlib import pyplot as plt\n",
    "\n",
    "i = 3\n",
    "fig = plt.figure(figsize=(12,5))\n",
    "ax = plt.subplot(1,2,1)\n",
    "plt.imshow(a[0][i][0])\n",
    "ax.set_title(\"Result\")\n",
    "ax = plt.subplot(1,2,2)\n",
    "plt.imshow(a[0][i][1])\n",
    "ax.set_title(\"Target\")\n",
    "print(f\"Aberrations: Z={a[1][i].numpy()}\")\n",
    "plt.show()"
   ]
  },
  {
   "cell_type": "code",
   "execution_count": null,
   "id": "6f25737a",
   "metadata": {},
   "outputs": [
    {
     "name": "stderr",
     "output_type": "stream",
     "text": [
      "Using 16bit Automatic Mixed Precision (AMP)\n",
      "GPU available: True (cuda), used: True\n",
      "TPU available: False, using: 0 TPU cores\n",
      "HPU available: False, using: 0 HPUs\n",
      "/root/anaconda3/envs/SK/lib/python3.11/site-packages/pytorch_lightning/trainer/connectors/logger_connector/logger_connector.py:76: Starting from v1.9.0, `tensorboardX` has been removed as a dependency of the `pytorch_lightning` package, due to potential conflicts with other packages in the ML ecosystem. For this reason, `logger=True` will use `CSVLogger` as the default logger, unless the `tensorboard` or `tensorboardX` packages are found. Please `pip install lightning[extra]` or one of them to enable TensorBoard support by default\n",
      "You are using a CUDA device ('NVIDIA GeForce RTX 3060 Laptop GPU') that has Tensor Cores. To properly utilize them, you should set `torch.set_float32_matmul_precision('medium' | 'high')` which will trade-off precision for performance. For more details, read https://pytorch.org/docs/stable/generated/torch.set_float32_matmul_precision.html#torch.set_float32_matmul_precision\n",
      "LOCAL_RANK: 0 - CUDA_VISIBLE_DEVICES: [0]\n",
      "\n",
      "  | Name     | Type         | Params | Mode \n",
      "--------------------------------------------------\n",
      "0 | backbone | EfficientNet | 4.0 M  | train\n",
      "--------------------------------------------------\n",
      "4.0 M     Trainable params\n",
      "0         Non-trainable params\n",
      "4.0 M     Total params\n",
      "16.060    Total estimated model params size (MB)\n",
      "249       Modules in train mode\n",
      "0         Modules in eval mode\n"
     ]
    },
    {
     "data": {
      "application/vnd.jupyter.widget-view+json": {
       "model_id": "e65e4cb4cc6647fcbe4f1088253fe1b4",
       "version_major": 2,
       "version_minor": 0
      },
      "text/plain": [
       "Sanity Checking: |          | 0/? [00:00<?, ?it/s]"
      ]
     },
     "metadata": {},
     "output_type": "display_data"
    },
    {
     "data": {
      "application/vnd.jupyter.widget-view+json": {
       "model_id": "38c5127d275640ad8fe982eccb84cb65",
       "version_major": 2,
       "version_minor": 0
      },
      "text/plain": [
       "Training: |          | 0/? [00:00<?, ?it/s]"
      ]
     },
     "metadata": {},
     "output_type": "display_data"
    }
   ],
   "source": [
    "# -------- 4. Training --------\n",
    "train_loader, val_loader = make_dataloaders('dataset', batch_size=4, num_zernike=6)\n",
    "model = LithoZernikeRegressor(num_zernike=6)\n",
    "trainer = Trainer(max_epochs=20, accelerator='auto', accumulate_grad_batches = 32,\n",
    "    gradient_clip_val=1., precision=\"16-mixed\")\n",
    "trainer.fit(model, train_loader, val_loader)"
   ]
  }
 ],
 "metadata": {
  "kernelspec": {
   "display_name": "SK",
   "language": "python",
   "name": "python3"
  },
  "language_info": {
   "codemirror_mode": {
    "name": "ipython",
    "version": 3
   },
   "file_extension": ".py",
   "mimetype": "text/x-python",
   "name": "python",
   "nbconvert_exporter": "python",
   "pygments_lexer": "ipython3",
   "version": "3.11.10"
  }
 },
 "nbformat": 4,
 "nbformat_minor": 5
}
