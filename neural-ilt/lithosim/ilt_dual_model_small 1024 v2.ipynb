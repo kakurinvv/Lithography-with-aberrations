{
 "cells": [
  {
   "cell_type": "code",
   "execution_count": 1,
   "id": "ea72e0f0",
   "metadata": {
    "id": "ea72e0f0"
   },
   "outputs": [],
   "source": [
    "import os\n",
    "import torch\n",
    "torch.manual_seed(int(1e9+7e7+17+3))\n",
    "from torch.utils.data import DataLoader\n",
    "from matplotlib import pyplot as plt\n",
    "# %matplotlib widget\n",
    "from pytorch_lightning import Trainer\n",
    "from pytorch_lightning.callbacks import ModelCheckpoint\n",
    "from pytorch_lightning.loggers import TensorBoardLogger\n",
    "from torch.utils.data import random_split\n",
    "from ilt_data import PNGFolderDataset, tensor_to_image\n",
    "from ilt_model import DualLithoZernikeRegressor\n",
    "# torch.multiprocessing.set_start_method('spawn') # extremely slow\n",
    "# import warnings\n",
    "# warnings.filterwarnings('ignore', category=UserWarning, message='Torchinductor does not support code generation for complex operators. Performance may be worse than eager.')"
   ]
  },
  {
   "cell_type": "code",
   "execution_count": 2,
   "id": "1a147bb5",
   "metadata": {},
   "outputs": [],
   "source": [
    "DATASET_ROOT = os.path.join('..', 'dataset', 'train_layouts')\n",
    "workers = 4\n",
    "device = torch.device('cuda' if torch.cuda.is_available() else 'cpu')\n",
    "dataset_device=torch.device('cuda' if torch.cuda.is_available() else 'cpu')\n",
    "# torch.zeros((1,), device=device)"
   ]
  },
  {
   "cell_type": "code",
   "execution_count": 3,
   "id": "abc88b28",
   "metadata": {
    "id": "abc88b28"
   },
   "outputs": [],
   "source": [
    "# -------- 3. DataLoader --------\n",
    "def make_dataloaders(root, batch_size=16, num_zernike=20, split=0.8, workers=1, load_all_to_ram=False):\n",
    "    dataset = PNGFolderDataset(root, N_zernike=num_zernike, image_size=1024, aberr_max=6.,\n",
    "                               device=dataset_device, load_all_to_ram=load_all_to_ram, num_threads=workers)\n",
    "    train_size = int(split * len(dataset))\n",
    "    val_size = len(dataset) - train_size\n",
    "    train_dataset, val_dataset = random_split(dataset, [train_size, val_size])\n",
    "    train_loader = DataLoader(train_dataset, batch_size=batch_size, shuffle=True, num_workers=workers)\n",
    "    val_loader = DataLoader(val_dataset, batch_size=batch_size, shuffle=False, num_workers=workers)\n",
    "    return train_loader, val_loader, dataset"
   ]
  },
  {
   "cell_type": "markdown",
   "id": "559c2042-a843-4a50-b570-347afd58b1d9",
   "metadata": {},
   "source": [
    "## Train"
   ]
  },
  {
   "cell_type": "code",
   "execution_count": 4,
   "id": "5c55a1d1",
   "metadata": {
    "id": "5c55a1d1"
   },
   "outputs": [
    {
     "name": "stdout",
     "output_type": "stream",
     "text": [
      "Aberrations: Z=[-9.9025704e-03 -3.0470660e+00  1.3667786e-01 -4.0827855e-03\n",
      "  8.1856376e-01  3.7618944e-09 -2.5245436e-02 -2.0244482e+00\n",
      " -1.2266799e-03  1.7481959e-01 -1.6764041e+00  1.4575389e-03\n",
      "  6.7406520e-02 -4.2915401e-01  2.4903512e-01]\n"
     ]
    },
    {
     "data": {
      "image/png": "[encoded data removed]",
      "text/plain": [
       "<Figure size 1200x500 with 2 Axes>"
      ]
     },
     "metadata": {},
     "output_type": "display_data"
    }
   ],
   "source": [
    "train_loader, val_loader, dataset = make_dataloaders(DATASET_ROOT, batch_size=1, num_zernike=15, workers=0)\n",
    "a = next(iter(train_loader))\n",
    "i = 0\n",
    "\n",
    "fig = plt.figure(figsize=(12,5))\n",
    "ax = plt.subplot(1,2,1)\n",
    "plt.imshow(dataset.intensity_tensor_to_image(a[0][i][0]))\n",
    "ax.set_title(\"Design\")\n",
    "ax = plt.subplot(1,2,2)\n",
    "plt.imshow(dataset.intensity_tensor_to_image(a[0][i][1]))\n",
    "ax.set_title(\"Aberrated\")\n",
    "print(f\"Aberrations: Z={a[1][i].cpu().numpy()}\")\n",
    "plt.show()"
   ]
  },
  {
   "cell_type": "code",
   "execution_count": null,
   "id": "6f25737a",
   "metadata": {
    "id": "6f25737a",
    "tags": []
   },
   "outputs": [
    {
     "name": "stderr",
     "output_type": "stream",
     "text": [
      "Caching images: 100%|██████████| 4875/4875 [01:23<00:00, 58.08it/s]\n",
      "/home/vvkakurin/.conda/envs/SK/lib/python3.11/site-packages/torchvision/models/_utils.py:208: UserWarning: The parameter 'pretrained' is deprecated since 0.13 and may be removed in the future, please use 'weights' instead.\n",
      "  warnings.warn(\n",
      "/home/vvkakurin/.conda/envs/SK/lib/python3.11/site-packages/torchvision/models/_utils.py:223: UserWarning: Arguments other than a weight enum or `None` for 'weights' are deprecated since 0.13 and may be removed in the future. The current behavior is equivalent to passing `weights=MobileNet_V3_Large_Weights.IMAGENET1K_V1`. You can also use `weights=MobileNet_V3_Large_Weights.DEFAULT` to get the most up-to-date weights.\n",
      "  warnings.warn(msg)\n",
      "Using 16bit Automatic Mixed Precision (AMP)\n",
      "GPU available: True (cuda), used: True\n",
      "TPU available: False, using: 0 TPU cores\n",
      "HPU available: False, using: 0 HPUs\n",
      "/home/vvkakurin/.conda/envs/SK/lib/python3.11/site-packages/pytorch_lightning/callbacks/model_checkpoint.py:658: Checkpoint directory ./lightning_logs/Dual Mobilenet_v3 1024 v3/checkpoints exists and is not empty.\n",
      "Restoring states from the checkpoint path at lightning_logs/Dual Mobilenet_v3 1024 v3/checkpoints/best-model-v1.ckpt\n",
      "LOCAL_RANK: 0 - CUDA_VISIBLE_DEVICES: [0]\n",
      "Loading `train_dataloader` to estimate number of stepping batches.\n",
      "/home/vvkakurin/.conda/envs/SK/lib/python3.11/site-packages/pytorch_lightning/trainer/connectors/data_connector.py:425: The 'train_dataloader' does not have many workers which may be a bottleneck. Consider increasing the value of the `num_workers` argument` to `num_workers=3` in the `DataLoader` to improve performance.\n",
      "\n",
      "  | Name     | Type        | Params | Mode \n",
      "-------------------------------------------------\n",
      "0 | sim      | LTSimulator | 0      | train\n",
      "1 | backbone | MobileNetV3 | 4.2 M  | train\n",
      "-------------------------------------------------\n",
      "4.2 M     Trainable params\n",
      "0         Non-trainable params\n",
      "4.2 M     Total params\n",
      "16.961    Total estimated model params size (MB)\n",
      "256       Modules in train mode\n",
      "0         Modules in eval mode\n",
      "Restored all states from the checkpoint at lightning_logs/Dual Mobilenet_v3 1024 v3/checkpoints/best-model-v1.ckpt\n",
      "SLURM auto-requeueing enabled. Setting signal handlers.\n"
     ]
    },
    {
     "data": {
      "application/vnd.jupyter.widget-view+json": {
       "model_id": "",
       "version_major": 2,
       "version_minor": 0
      },
      "text/plain": [
       "Sanity Checking: |          | 0/? [00:00<?, ?it/s]"
      ]
     },
     "metadata": {},
     "output_type": "display_data"
    },
    {
     "name": "stderr",
     "output_type": "stream",
     "text": [
      "/home/vvkakurin/.conda/envs/SK/lib/python3.11/site-packages/pytorch_lightning/trainer/connectors/data_connector.py:425: The 'val_dataloader' does not have many workers which may be a bottleneck. Consider increasing the value of the `num_workers` argument` to `num_workers=3` in the `DataLoader` to improve performance.\n"
     ]
    },
    {
     "data": {
      "application/vnd.jupyter.widget-view+json": {
       "model_id": "edef17a695b14c76a9df355e7f49b5c3",
       "version_major": 2,
       "version_minor": 0
      },
      "text/plain": [
       "Training: |          | 0/? [00:00<?, ?it/s]"
      ]
     },
     "metadata": {},
     "output_type": "display_data"
    },
    {
     "data": {
      "application/vnd.jupyter.widget-view+json": {
       "model_id": "",
       "version_major": 2,
       "version_minor": 0
      },
      "text/plain": [
       "Validation: |          | 0/? [00:00<?, ?it/s]"
      ]
     },
     "metadata": {},
     "output_type": "display_data"
    },
    {
     "data": {
      "application/vnd.jupyter.widget-view+json": {
       "model_id": "",
       "version_major": 2,
       "version_minor": 0
      },
      "text/plain": [
       "Validation: |          | 0/? [00:00<?, ?it/s]"
      ]
     },
     "metadata": {},
     "output_type": "display_data"
    },
    {
     "data": {
      "application/vnd.jupyter.widget-view+json": {
       "model_id": "",
       "version_major": 2,
       "version_minor": 0
      },
      "text/plain": [
       "Validation: |          | 0/? [00:00<?, ?it/s]"
      ]
     },
     "metadata": {},
     "output_type": "display_data"
    },
    {
     "data": {
      "application/vnd.jupyter.widget-view+json": {
       "model_id": "",
       "version_major": 2,
       "version_minor": 0
      },
      "text/plain": [
       "Validation: |          | 0/? [00:00<?, ?it/s]"
      ]
     },
     "metadata": {},
     "output_type": "display_data"
    },
    {
     "data": {
      "application/vnd.jupyter.widget-view+json": {
       "model_id": "",
       "version_major": 2,
       "version_minor": 0
      },
      "text/plain": [
       "Validation: |          | 0/? [00:00<?, ?it/s]"
      ]
     },
     "metadata": {},
     "output_type": "display_data"
    },
    {
     "data": {
      "application/vnd.jupyter.widget-view+json": {
       "model_id": "",
       "version_major": 2,
       "version_minor": 0
      },
      "text/plain": [
       "Validation: |          | 0/? [00:00<?, ?it/s]"
      ]
     },
     "metadata": {},
     "output_type": "display_data"
    },
    {
     "data": {
      "application/vnd.jupyter.widget-view+json": {
       "model_id": "",
       "version_major": 2,
       "version_minor": 0
      },
      "text/plain": [
       "Validation: |          | 0/? [00:00<?, ?it/s]"
      ]
     },
     "metadata": {},
     "output_type": "display_data"
    },
    {
     "data": {
      "application/vnd.jupyter.widget-view+json": {
       "model_id": "",
       "version_major": 2,
       "version_minor": 0
      },
      "text/plain": [
       "Validation: |          | 0/? [00:00<?, ?it/s]"
      ]
     },
     "metadata": {},
     "output_type": "display_data"
    },
    {
     "data": {
      "application/vnd.jupyter.widget-view+json": {
       "model_id": "",
       "version_major": 2,
       "version_minor": 0
      },
      "text/plain": [
       "Validation: |          | 0/? [00:00<?, ?it/s]"
      ]
     },
     "metadata": {},
     "output_type": "display_data"
    },
    {
     "data": {
      "application/vnd.jupyter.widget-view+json": {
       "model_id": "",
       "version_major": 2,
       "version_minor": 0
      },
      "text/plain": [
       "Validation: |          | 0/? [00:00<?, ?it/s]"
      ]
     },
     "metadata": {},
     "output_type": "display_data"
    },
    {
     "data": {
      "application/vnd.jupyter.widget-view+json": {
       "model_id": "",
       "version_major": 2,
       "version_minor": 0
      },
      "text/plain": [
       "Validation: |          | 0/? [00:00<?, ?it/s]"
      ]
     },
     "metadata": {},
     "output_type": "display_data"
    },
    {
     "data": {
      "application/vnd.jupyter.widget-view+json": {
       "model_id": "",
       "version_major": 2,
       "version_minor": 0
      },
      "text/plain": [
       "Validation: |          | 0/? [00:00<?, ?it/s]"
      ]
     },
     "metadata": {},
     "output_type": "display_data"
    },
    {
     "data": {
      "application/vnd.jupyter.widget-view+json": {
       "model_id": "",
       "version_major": 2,
       "version_minor": 0
      },
      "text/plain": [
       "Validation: |          | 0/? [00:00<?, ?it/s]"
      ]
     },
     "metadata": {},
     "output_type": "display_data"
    },
    {
     "data": {
      "application/vnd.jupyter.widget-view+json": {
       "model_id": "",
       "version_major": 2,
       "version_minor": 0
      },
      "text/plain": [
       "Validation: |          | 0/? [00:00<?, ?it/s]"
      ]
     },
     "metadata": {},
     "output_type": "display_data"
    },
    {
     "data": {
      "application/vnd.jupyter.widget-view+json": {
       "model_id": "",
       "version_major": 2,
       "version_minor": 0
      },
      "text/plain": [
       "Validation: |          | 0/? [00:00<?, ?it/s]"
      ]
     },
     "metadata": {},
     "output_type": "display_data"
    },
    {
     "data": {
      "application/vnd.jupyter.widget-view+json": {
       "model_id": "",
       "version_major": 2,
       "version_minor": 0
      },
      "text/plain": [
       "Validation: |          | 0/? [00:00<?, ?it/s]"
      ]
     },
     "metadata": {},
     "output_type": "display_data"
    },
    {
     "data": {
      "application/vnd.jupyter.widget-view+json": {
       "model_id": "",
       "version_major": 2,
       "version_minor": 0
      },
      "text/plain": [
       "Validation: |          | 0/? [00:00<?, ?it/s]"
      ]
     },
     "metadata": {},
     "output_type": "display_data"
    },
    {
     "data": {
      "application/vnd.jupyter.widget-view+json": {
       "model_id": "",
       "version_major": 2,
       "version_minor": 0
      },
      "text/plain": [
       "Validation: |          | 0/? [00:00<?, ?it/s]"
      ]
     },
     "metadata": {},
     "output_type": "display_data"
    },
    {
     "data": {
      "application/vnd.jupyter.widget-view+json": {
       "model_id": "",
       "version_major": 2,
       "version_minor": 0
      },
      "text/plain": [
       "Validation: |          | 0/? [00:00<?, ?it/s]"
      ]
     },
     "metadata": {},
     "output_type": "display_data"
    },
    {
     "data": {
      "application/vnd.jupyter.widget-view+json": {
       "model_id": "",
       "version_major": 2,
       "version_minor": 0
      },
      "text/plain": [
       "Validation: |          | 0/? [00:00<?, ?it/s]"
      ]
     },
     "metadata": {},
     "output_type": "display_data"
    },
    {
     "data": {
      "application/vnd.jupyter.widget-view+json": {
       "model_id": "",
       "version_major": 2,
       "version_minor": 0
      },
      "text/plain": [
       "Validation: |          | 0/? [00:00<?, ?it/s]"
      ]
     },
     "metadata": {},
     "output_type": "display_data"
    },
    {
     "data": {
      "application/vnd.jupyter.widget-view+json": {
       "model_id": "",
       "version_major": 2,
       "version_minor": 0
      },
      "text/plain": [
       "Validation: |          | 0/? [00:00<?, ?it/s]"
      ]
     },
     "metadata": {},
     "output_type": "display_data"
    },
    {
     "data": {
      "application/vnd.jupyter.widget-view+json": {
       "model_id": "",
       "version_major": 2,
       "version_minor": 0
      },
      "text/plain": [
       "Validation: |          | 0/? [00:00<?, ?it/s]"
      ]
     },
     "metadata": {},
     "output_type": "display_data"
    },
    {
     "data": {
      "application/vnd.jupyter.widget-view+json": {
       "model_id": "",
       "version_major": 2,
       "version_minor": 0
      },
      "text/plain": [
       "Validation: |          | 0/? [00:00<?, ?it/s]"
      ]
     },
     "metadata": {},
     "output_type": "display_data"
    },
    {
     "data": {
      "application/vnd.jupyter.widget-view+json": {
       "model_id": "",
       "version_major": 2,
       "version_minor": 0
      },
      "text/plain": [
       "Validation: |          | 0/? [00:00<?, ?it/s]"
      ]
     },
     "metadata": {},
     "output_type": "display_data"
    },
    {
     "data": {
      "application/vnd.jupyter.widget-view+json": {
       "model_id": "",
       "version_major": 2,
       "version_minor": 0
      },
      "text/plain": [
       "Validation: |          | 0/? [00:00<?, ?it/s]"
      ]
     },
     "metadata": {},
     "output_type": "display_data"
    },
    {
     "data": {
      "application/vnd.jupyter.widget-view+json": {
       "model_id": "",
       "version_major": 2,
       "version_minor": 0
      },
      "text/plain": [
       "Validation: |          | 0/? [00:00<?, ?it/s]"
      ]
     },
     "metadata": {},
     "output_type": "display_data"
    },
    {
     "data": {
      "application/vnd.jupyter.widget-view+json": {
       "model_id": "593a81639f2541ba92aba98b1e414817",
       "version_major": 2,
       "version_minor": 0
      },
      "text/plain": [
       "Validation: |          | 0/? [00:00<?, ?it/s]"
      ]
     },
     "metadata": {},
     "output_type": "display_data"
    }
   ],
   "source": [
    "# -------- 4. Training --------\n",
    "\"mobilenet_v3_small\" # 1.5 M / 1.06 m\n",
    "\"mobilenet_v3_large\" # 4.2 M / 1.13 m\n",
    "\"efficientnet_b0\"    # 4.0 M / 1.45 m\n",
    "\"efficientnet_b2\"    # 7.7 M\n",
    "train_loader, val_loader, dataset = make_dataloaders(DATASET_ROOT, batch_size=16, num_zernike=15, workers=0, load_all_to_ram=True)\n",
    "warmup_epochs = 1\n",
    "accumulate_grad_batches = 8\n",
    "warmup_steps = warmup_epochs * len(train_loader) / accumulate_grad_batches\n",
    "model = DualLithoZernikeRegressor(\"mobilenet_v3_large\", num_zernike=15, lr=1e-3, warmup_steps=warmup_steps)\n",
    "# model = DualLithoZernikeRegressor.load_from_checkpoint(\n",
    "# \"lightning_logs/Dual Mobilenet_v3 1024 v3/checkpoints/best-model.ckpt\")\n",
    "checkpoint_callback = ModelCheckpoint(\n",
    "    monitor='val_loss',\n",
    "    save_top_k=1,\n",
    "    mode='min',\n",
    "    filename='best-model'\n",
    ")\n",
    "logger = TensorBoardLogger(\".\", name=\"lightning_logs\", version=\"Dual Mobilenet_v3 1024 v3\")\n",
    "\n",
    "trainer = Trainer(max_epochs=200, accelerator=\"auto\", callbacks=[checkpoint_callback],\n",
    "                  accumulate_grad_batches = accumulate_grad_batches, #gradient_clip_val=1.,\n",
    "                  logger=logger,\n",
    "                  precision=\"16-mixed\",\n",
    "                  # devices=[1],\n",
    "          )\n",
    "trainer.fit(model, train_loader, val_loader, ckpt_path=\"lightning_logs/Dual Mobilenet_v3 1024 v3/checkpoints/best-model-v1.ckpt\")"
   ]
  },
  {
   "cell_type": "code",
   "execution_count": null,
   "id": "82fcb4b6",
   "metadata": {},
   "outputs": [],
   "source": [
    "final_val_loss = trainer.callback_metrics['val_loss'].item()\n",
    "print('Final validation loss:', final_val_loss)"
   ]
  },
  {
   "cell_type": "code",
   "execution_count": null,
   "id": "f2ba9fe4",
   "metadata": {},
   "outputs": [],
   "source": [
    "# assert False"
   ]
  },
  {
   "cell_type": "markdown",
   "id": "6e8a4604",
   "metadata": {
    "tags": []
   },
   "source": [
    "## Test"
   ]
  },
  {
   "cell_type": "code",
   "execution_count": null,
   "id": "0158bdca",
   "metadata": {},
   "outputs": [],
   "source": [
    "batch = next(iter(val_loader))\n",
    "device = torch.device('cuda' if torch.cuda.is_available() else 'cpu')\n",
    "imgs, z_true = batch\n",
    "imgs, z_true = imgs[:8].to(device), z_true[:8].to(device)"
   ]
  },
  {
   "cell_type": "code",
   "execution_count": null,
   "id": "076637e5",
   "metadata": {},
   "outputs": [],
   "source": [
    "# #### CLEAR CACHE #####\n",
    "# model.cpu()\n",
    "# from gc import collect\n",
    "# imgs, z_true = None, None\n",
    "# litho_imgs, aberr_imgs, restored_imgs = None, None, None\n",
    "# z_preds = None\n",
    "# batch = None\n",
    "# collect()\n",
    "# torch.cuda.empty_cache()\n",
    "# collect()"
   ]
  },
  {
   "cell_type": "code",
   "execution_count": null,
   "id": "86707d24",
   "metadata": {},
   "outputs": [],
   "source": [
    "model.to(device)\n",
    "litho_aberr_imgs = imgs[:, 1:]\n",
    "z_preds, z_rev_preds = model(litho_aberr_imgs)\n",
    "print(z_preds[0], z_true[0], z_rev_preds[0], sep='\\n')"
   ]
  },
  {
   "cell_type": "code",
   "execution_count": null,
   "id": "0aa7f11f",
   "metadata": {},
   "outputs": [],
   "source": [
    "design_imgs, litho_imgs, aberr_imgs = torch.split(imgs, 1, dim=1) # [B, 3, H, W] -> [B, (1, 1, 1), H, W]\n",
    "with torch.autocast(device_type=device.type):\n",
    "    modelled_imgs = model.sim.run_lithosim(design_imgs, zernike_coeffs=z_preds)\n",
    "    reconstructed_imgs = model.sim.run_lithosim(aberr_imgs, zernike_coeffs=z_rev_preds)"
   ]
  },
  {
   "cell_type": "code",
   "execution_count": null,
   "id": "e70fde56",
   "metadata": {},
   "outputs": [],
   "source": [
    "# z = z_preds[:1].clone()\n",
    "# z_rev = z_rev_preds[:1].clone()\n",
    "# # z[0,-2] = 1.\n",
    "# # litho = litho_imgs[:1]\n",
    "# with torch.autocast(device_type=device.type):\n",
    "#     aberr = model.sim.run_lithosim(design_imgs[:1], zernike_coeffs=z)\n",
    "#     reconstr = model.sim.run_lithosim(aberr_imgs[:1], zernike_coeffs=z_rev)\n",
    "    \n",
    "# fig = plt.figure(figsize=(14,4))\n",
    "# ax = plt.subplot(2,3,1)\n",
    "# # plt.imshow(dataset.intensity_tensor_to_image(litho[0]))\n",
    "# # # ax.set_title(f\"Design {i+1}\")\n",
    "# # ax = plt.subplot(1,2,2)\n",
    "# # plt.imshow(dataset.intensity_tensor_to_image(aberr[0]))\n",
    "# plt.imshow(tensor_to_image(litho_imgs[0]))\n",
    "# # ax.set_title(f\"Design {i+1}\")\n",
    "# ax = plt.subplot(1,2,2)\n",
    "# plt.imshow(tensor_to_image(aberr[0]))\n",
    "# # ax.set_title(f\"Aberrated {i+1}\")\n",
    "# print(z_preds[:1])\n",
    "\n",
    "for i in range(imgs.shape[0]):\n",
    "\n",
    "    fig = plt.figure(figsize=(14,4))\n",
    "    ax = plt.subplot(1,4,1)\n",
    "    plt.imshow(tensor_to_image(litho_imgs[i]), cmap='inferno')\n",
    "    ax.set_title(f\"Design (aerial) {i+1}\")\n",
    "    ax = plt.subplot(1,4,2)\n",
    "    plt.imshow(tensor_to_image(reconstructed_imgs[i]), cmap='inferno')\n",
    "    ax.set_title(f\"Reconstructed {i+1}\")\n",
    "    ax = plt.subplot(1,4,3)\n",
    "    plt.imshow(tensor_to_image(aberr_imgs[i]), cmap='inferno')\n",
    "    ax.set_title(f\"Aberrated {i+1}\")\n",
    "    ax = plt.subplot(1,4,4)\n",
    "    plt.imshow(tensor_to_image(modelled_imgs[i]), cmap='inferno')\n",
    "    ax.set_title(f\"Modelled {i+1}\")\n",
    "    print(f\"Aberrations: Z={z_true[i].cpu().numpy()}\", \n",
    "          f\"Preds={z_preds[i].detach().cpu().numpy()}\", \n",
    "          f\"Inverse={z_rev_preds[i].detach().cpu().numpy()}\")\n",
    "    plt.show()"
   ]
  },
  {
   "cell_type": "code",
   "execution_count": null,
   "id": "3f3d007d",
   "metadata": {},
   "outputs": [],
   "source": [
    "plt.plot(tensor_to_image(litho_imgs[0])[220])\n",
    "plt.plot(tensor_to_image(aberr_imgs[0])[220])"
   ]
  },
  {
   "cell_type": "code",
   "execution_count": null,
   "id": "122c7c14",
   "metadata": {},
   "outputs": [],
   "source": [
    "# i = 1\n",
    "for i in range(imgs.shape[0]):\n",
    "\n",
    "    fig = plt.figure(figsize=(14,4))\n",
    "    ax = plt.subplot(1,3,1)\n",
    "    plt.imshow(dataset.intensity_tensor_to_image(design_imgs[i]))\n",
    "    ax.set_title(f\"Design {i+1}\")\n",
    "    ax = plt.subplot(1,3,2)\n",
    "    plt.imshow(dataset.intensity_tensor_to_image(aberr_imgs[i]))\n",
    "    ax.set_title(f\"Aberrated {i+1}\")\n",
    "    ax = plt.subplot(1,3,3)\n",
    "    plt.imshow(dataset.intensity_tensor_to_image(modelled_imgs[i]))\n",
    "    ax.set_title(f\"Reconstructed {i+1}\")\n",
    "    print(f\"Aberrations: Z={z_true[i].cpu().numpy()}\\nPreds={z_preds[i].detach().cpu().numpy()}\")\n",
    "    plt.show()"
   ]
  },
  {
   "cell_type": "code",
   "execution_count": null,
   "id": "560ca95f",
   "metadata": {},
   "outputs": [],
   "source": [
    "# loss = model.loss_func(restored_imgs, litho_imgs) * 1e4\n",
    "modelling_loss = model.loss_func(modelled_imgs, aberr_imgs)\n",
    "reconstruction_loss = model.loss_func(reconstructed_imgs, litho_imgs)\n",
    "modelling_loss, reconstruction_loss"
   ]
  },
  {
   "cell_type": "code",
   "execution_count": null,
   "id": "564fcd4b",
   "metadata": {},
   "outputs": [],
   "source": [
    "for i in range(imgs.shape[0]):\n",
    "\n",
    "    fig = plt.figure(figsize=(14,4))\n",
    "    ax = plt.subplot(1,2,1)\n",
    "    plt.imshow(tensor_to_image(torch.abs(litho_imgs[i] - reconstructed_imgs[i])), cmap='inferno')\n",
    "    plt.colorbar()\n",
    "    ax.set_title(f\"||Design - Reconstructed|| {i+1}\")\n",
    "    ax = plt.subplot(1,2,2)\n",
    "    plt.imshow(tensor_to_image(torch.abs(aberr_imgs[i] - modelled_imgs[i])), cmap='inferno')\n",
    "    plt.colorbar()\n",
    "    ax.set_title(f\"||Aberrated - Modelled|| {i+1}\")\n",
    "    print(f\"Aberrations: Z={z_true[i].cpu().numpy()}\", \n",
    "          f\"Preds={z_preds[i].detach().cpu().numpy()}\", \n",
    "          f\"Inverse={z_rev_preds[i].detach().cpu().numpy()}\", sep='\\n')\n",
    "    plt.show()"
   ]
  },
  {
   "cell_type": "code",
   "execution_count": null,
   "id": "e47c22b9-3881-4832-af09-fbc479bd03b0",
   "metadata": {
    "tags": []
   },
   "outputs": [],
   "source": [
    "# Получить финальный val_loss\n",
    "final_val_loss = trainer.callback_metrics['val_loss'].item()\n",
    "print('Final validation loss:', final_val_loss)\n",
    "\n",
    "# Где лежит best checkpoint\n",
    "print('Best model saved at:', checkpoint_callback.best_model_path)\n",
    "\n",
    "# Сохранить вручную\n",
    "torch.save(model.state_dict(), 'Dual Mobilenet_v3 1024 v3.pt')"
   ]
  }
 ],
 "metadata": {
  "accelerator": "GPU",
  "colab": {
   "gpuType": "T4",
   "provenance": []
  },
  "kaggle": {
   "accelerator": "gpu",
   "dataSources": [
    {
     "datasetId": 7719098,
     "sourceId": 12250816,
     "sourceType": "datasetVersion"
    }
   ],
   "dockerImageVersionId": 31041,
   "isGpuEnabled": true,
   "isInternetEnabled": true,
   "language": "python",
   "sourceType": "notebook"
  },
  "kernelspec": {
   "display_name": "Python [.conda-SK]",
   "language": "python",
   "name": "conda-env-.conda-SK-py"
  },
  "language_info": {
   "codemirror_mode": {
    "name": "ipython",
    "version": 3
   },
   "file_extension": ".py",
   "mimetype": "text/x-python",
   "name": "python",
   "nbconvert_exporter": "python",
   "pygments_lexer": "ipython3",
   "version": "3.11.13"
  },
  "widgets": {
   "application/vnd.jupyter.widget-state+json": {
    "state": {
     "011331cda52a47f4ba15865d0ac0197f": {
      "model_module": "@jupyter-widgets/controls",
      "model_module_version": "1.5.0",
      "model_name": "DescriptionStyleModel",
      "state": {
       "description_width": ""
      }
     },
     "0139b29dd511455882b158c40b7670e6": {
      "model_module": "@jupyter-widgets/base",
      "model_module_version": "1.2.0",
      "model_name": "LayoutModel",
      "state": {}
     },
     "01ceb1b9668142e39a4205fd073c2ef5": {
      "model_module": "@jupyter-widgets/controls",
      "model_module_version": "1.5.0",
      "model_name": "HTMLModel",
      "state": {
       "layout": "IPY_MODEL_fc25fcd1b9134b468865c493d18c807a",
       "style": "IPY_MODEL_e3bd1f46476f41f5a98228486269a61d",
       "value": " 61/61 [00:25&lt;00:00,  2.44it/s]"
      }
     },
     "0248c944d323447ba6fd4ec652de8118": {
      "model_module": "@jupyter-widgets/base",
      "model_module_version": "1.2.0",
      "model_name": "LayoutModel",
      "state": {}
     },
     "02677ee636524b0795f987396b569445": {
      "model_module": "@jupyter-widgets/base",
      "model_module_version": "1.2.0",
      "model_name": "LayoutModel",
      "state": {}
     },
     "03a5c81c6e9449728651ac6a85d8dab2": {
      "model_module": "@jupyter-widgets/base",
      "model_module_version": "1.2.0",
      "model_name": "LayoutModel",
      "state": {}
     },
     "056ed5dd89f749ab84599266cf2cedf3": {
      "model_module": "@jupyter-widgets/controls",
      "model_module_version": "1.5.0",
      "model_name": "HTMLModel",
      "state": {
       "layout": "IPY_MODEL_89d9b3d097004c5a96c2b1439a1490c6",
       "style": "IPY_MODEL_184ad982b6bc4f729b98b6d2c0fd96ec",
       "value": " 61/61 [00:25&lt;00:00,  2.44it/s]"
      }
     },
     "05a57e5b779e418998457c5d8c53a717": {
      "model_module": "@jupyter-widgets/controls",
      "model_module_version": "1.5.0",
      "model_name": "FloatProgressModel",
      "state": {
       "layout": "IPY_MODEL_bbefee073443483a88084b709953f2bd",
       "max": 61,
       "style": "IPY_MODEL_f4e6ae5e68d7487c98f349f5e5da600c",
       "value": 61
      }
     },
     "06433e8ea2424c72a6137ed11f6d18b8": {
      "model_module": "@jupyter-widgets/controls",
      "model_module_version": "1.5.0",
      "model_name": "DescriptionStyleModel",
      "state": {
       "description_width": ""
      }
     },
     "08432fdb1df14364a4155f9c4e2ef20c": {
      "model_module": "@jupyter-widgets/controls",
      "model_module_version": "1.5.0",
      "model_name": "HTMLModel",
      "state": {
       "layout": "IPY_MODEL_7beb6d28ee8d47458920ba4287c4cfcd",
       "style": "IPY_MODEL_32757bb115324eab98c9cc6538a6d2b8",
       "value": "Validation DataLoader 0: 100%"
      }
     },
     "0a1aa76afa3546b69f06d6bcebbd2b85": {
      "model_module": "@jupyter-widgets/controls",
      "model_module_version": "1.5.0",
      "model_name": "HTMLModel",
      "state": {
       "layout": "IPY_MODEL_49bb350e948f4d48a2d616bc1a36c396",
       "style": "IPY_MODEL_36de4cdd59c4495e918048212f2b2be1",
       "value": " 61/61 [00:25&lt;00:00,  2.44it/s]"
      }
     },
     "0a4681a9a8a74d3997ec0b6a6419faf6": {
      "model_module": "@jupyter-widgets/controls",
      "model_module_version": "1.5.0",
      "model_name": "DescriptionStyleModel",
      "state": {
       "description_width": ""
      }
     },
     "0aa5e7c2cad44e89ba27edae2afe38e2": {
      "model_module": "@jupyter-widgets/base",
      "model_module_version": "1.2.0",
      "model_name": "LayoutModel",
      "state": {
       "flex": "2"
      }
     },
     "0aa679d023a44ad4b3a24e4bc5043674": {
      "model_module": "@jupyter-widgets/controls",
      "model_module_version": "1.5.0",
      "model_name": "HTMLModel",
      "state": {
       "layout": "IPY_MODEL_19addc7d0d9441f48a35804f0348b449",
       "style": "IPY_MODEL_65eeec0e4c894612b02156563595c7a3",
       "value": "Validation DataLoader 0: 100%"
      }
     },
     "0adecef695684f019bd836947cb7f628": {
      "model_module": "@jupyter-widgets/controls",
      "model_module_version": "1.5.0",
      "model_name": "HTMLModel",
      "state": {
       "layout": "IPY_MODEL_11443dab890c48f1a4a87c4a053f35c4",
       "style": "IPY_MODEL_9e8093990ade4a2ab235716c6d9df001",
       "value": " 61/61 [00:25&lt;00:00,  2.43it/s]"
      }
     },
     "0b4677f012e3437f950090ec162a7464": {
      "model_module": "@jupyter-widgets/base",
      "model_module_version": "1.2.0",
      "model_name": "LayoutModel",
      "state": {
       "display": "inline-flex",
       "flex_flow": "row wrap",
       "visibility": "hidden",
       "width": "100%"
      }
     },
     "0d5cacf5b6124bb7a04602aafe8c534f": {
      "model_module": "@jupyter-widgets/controls",
      "model_module_version": "1.5.0",
      "model_name": "HTMLModel",
      "state": {
       "layout": "IPY_MODEL_dd90d1c344574f24bca1dc6cc93ccb5a",
       "style": "IPY_MODEL_c49ec426894a492aa22e38567889ac84",
       "value": "Validation DataLoader 0: 100%"
      }
     },
     "0d8fdae0c869474dbd14e9e127a0eb41": {
      "model_module": "@jupyter-widgets/controls",
      "model_module_version": "1.5.0",
      "model_name": "FloatProgressModel",
      "state": {
       "layout": "IPY_MODEL_6987e551c79c485994cfd29922107d76",
       "max": 61,
       "style": "IPY_MODEL_a2142d56554e4eceaf363d73de444579",
       "value": 61
      }
     },
     "0e8f6af1bfdd4f97b4001ad263589a65": {
      "model_module": "@jupyter-widgets/controls",
      "model_module_version": "1.5.0",
      "model_name": "FloatProgressModel",
      "state": {
       "layout": "IPY_MODEL_1005e65311054e06bce96fab3038b56c",
       "max": 61,
       "style": "IPY_MODEL_4b7fe58607f84dcbaf273dbc430a64f9",
       "value": 61
      }
     },
     "1005e65311054e06bce96fab3038b56c": {
      "model_module": "@jupyter-widgets/base",
      "model_module_version": "1.2.0",
      "model_name": "LayoutModel",
      "state": {
       "flex": "2"
      }
     },
     "10533a6a81bc456eb8fae052a8dc5c2f": {
      "model_module": "@jupyter-widgets/controls",
      "model_module_version": "1.5.0",
      "model_name": "DescriptionStyleModel",
      "state": {
       "description_width": ""
      }
     },
     "11078bbe4d4b40ad80a0ba6a9dce7993": {
      "model_module": "@jupyter-widgets/controls",
      "model_module_version": "1.5.0",
      "model_name": "DescriptionStyleModel",
      "state": {
       "description_width": ""
      }
     },
     "11443dab890c48f1a4a87c4a053f35c4": {
      "model_module": "@jupyter-widgets/base",
      "model_module_version": "1.2.0",
      "model_name": "LayoutModel",
      "state": {}
     },
     "13fefb80b9874d5a857172855a420384": {
      "model_module": "@jupyter-widgets/controls",
      "model_module_version": "1.5.0",
      "model_name": "DescriptionStyleModel",
      "state": {
       "description_width": ""
      }
     },
     "1411746aa7a94451803ddadb8cf17c53": {
      "model_module": "@jupyter-widgets/base",
      "model_module_version": "1.2.0",
      "model_name": "LayoutModel",
      "state": {
       "display": "inline-flex",
       "flex_flow": "row wrap",
       "visibility": "hidden",
       "width": "100%"
      }
     },
     "147fa869ea044c94902642a1eab15e5f": {
      "model_module": "@jupyter-widgets/controls",
      "model_module_version": "1.5.0",
      "model_name": "DescriptionStyleModel",
      "state": {
       "description_width": ""
      }
     },
     "148dbd2a101b4ecd9e8fefc9dc7a84c1": {
      "model_module": "@jupyter-widgets/controls",
      "model_module_version": "1.5.0",
      "model_name": "HTMLModel",
      "state": {
       "layout": "IPY_MODEL_5e22f1323281495d851c2f1927f2b0a3",
       "style": "IPY_MODEL_9a38ed09f68e42d18291edec42477891",
       "value": " 61/61 [00:25&lt;00:00,  2.43it/s]"
      }
     },
     "14fd0026bca54990aa10d57b2c949e63": {
      "model_module": "@jupyter-widgets/base",
      "model_module_version": "1.2.0",
      "model_name": "LayoutModel",
      "state": {}
     },
     "184ad982b6bc4f729b98b6d2c0fd96ec": {
      "model_module": "@jupyter-widgets/controls",
      "model_module_version": "1.5.0",
      "model_name": "DescriptionStyleModel",
      "state": {
       "description_width": ""
      }
     },
     "18cff34013e34056957c2276ff15d085": {
      "model_module": "@jupyter-widgets/controls",
      "model_module_version": "1.5.0",
      "model_name": "ProgressStyleModel",
      "state": {
       "description_width": ""
      }
     },
     "195222edb5864650ba2fc9bb28d25f3a": {
      "model_module": "@jupyter-widgets/base",
      "model_module_version": "1.2.0",
      "model_name": "LayoutModel",
      "state": {
       "flex": "2"
      }
     },
     "19addc7d0d9441f48a35804f0348b449": {
      "model_module": "@jupyter-widgets/base",
      "model_module_version": "1.2.0",
      "model_name": "LayoutModel",
      "state": {}
     },
     "1a289237b0d542fc828fee17b811e102": {
      "model_module": "@jupyter-widgets/controls",
      "model_module_version": "1.5.0",
      "model_name": "HTMLModel",
      "state": {
       "layout": "IPY_MODEL_0139b29dd511455882b158c40b7670e6",
       "style": "IPY_MODEL_a3533243a27e42a9a80df7065349dd67",
       "value": " 61/61 [00:27&lt;00:00,  2.25it/s]"
      }
     },
     "1b8167cde233482499e2fdc346b52c5c": {
      "model_module": "@jupyter-widgets/base",
      "model_module_version": "1.2.0",
      "model_name": "LayoutModel",
      "state": {
       "display": "inline-flex",
       "flex_flow": "row wrap",
       "visibility": "hidden",
       "width": "100%"
      }
     },
     "1b9ae805d96940fda20819a64ae33e67": {
      "model_module": "@jupyter-widgets/base",
      "model_module_version": "1.2.0",
      "model_name": "LayoutModel",
      "state": {
       "display": "inline-flex",
       "flex_flow": "row wrap",
       "visibility": "hidden",
       "width": "100%"
      }
     },
     "1bbd6d88b99f46749ce8a0813e9907fb": {
      "model_module": "@jupyter-widgets/controls",
      "model_module_version": "1.5.0",
      "model_name": "HTMLModel",
      "state": {
       "layout": "IPY_MODEL_97705acdc705462e8c5e5b573dfca47d",
       "style": "IPY_MODEL_6a19d43536c64d49a7cb53308efb75b6",
       "value": "Validation DataLoader 0:  48%"
      }
     },
     "1c971d7911634eef92b6b2b29bd9ef09": {
      "model_module": "@jupyter-widgets/controls",
      "model_module_version": "1.5.0",
      "model_name": "DescriptionStyleModel",
      "state": {
       "description_width": ""
      }
     },
     "1e3f272306f342deacde024d413eea94": {
      "model_module": "@jupyter-widgets/controls",
      "model_module_version": "1.5.0",
      "model_name": "HTMLModel",
      "state": {
       "layout": "IPY_MODEL_75903101bbfc40df84df0d9514c6f716",
       "style": "IPY_MODEL_427c21ae4a4c4b32829216d88b7d1752",
       "value": " 61/61 [00:25&lt;00:00,  2.37it/s]"
      }
     },
     "1fa108b6fce6434f8e15ce310b695087": {
      "model_module": "@jupyter-widgets/controls",
      "model_module_version": "1.5.0",
      "model_name": "DescriptionStyleModel",
      "state": {
       "description_width": ""
      }
     },
     "200b754361df420e972220b78ba698f0": {
      "model_module": "@jupyter-widgets/controls",
      "model_module_version": "1.5.0",
      "model_name": "DescriptionStyleModel",
      "state": {
       "description_width": ""
      }
     },
     "20feccada065457ba915c63933515084": {
      "model_module": "@jupyter-widgets/base",
      "model_module_version": "1.2.0",
      "model_name": "LayoutModel",
      "state": {}
     },
     "21d3c3c69c5449db9db9ba33007c13c3": {
      "model_module": "@jupyter-widgets/base",
      "model_module_version": "1.2.0",
      "model_name": "LayoutModel",
      "state": {
       "display": "inline-flex",
       "flex_flow": "row wrap",
       "visibility": "hidden",
       "width": "100%"
      }
     },
     "21d5caf3e41346589137c5b9411a1600": {
      "model_module": "@jupyter-widgets/base",
      "model_module_version": "1.2.0",
      "model_name": "LayoutModel",
      "state": {
       "display": "inline-flex",
       "flex_flow": "row wrap",
       "visibility": "hidden",
       "width": "100%"
      }
     },
     "227c2b8f14114681a36ad66fd4b804ee": {
      "model_module": "@jupyter-widgets/base",
      "model_module_version": "1.2.0",
      "model_name": "LayoutModel",
      "state": {}
     },
     "24900063a5b54d20abcf924c5b83fbea": {
      "model_module": "@jupyter-widgets/base",
      "model_module_version": "1.2.0",
      "model_name": "LayoutModel",
      "state": {
       "display": "inline-flex",
       "flex_flow": "row wrap",
       "visibility": "hidden",
       "width": "100%"
      }
     },
     "249f0591f3e34c32b0cd0387ae20ae1d": {
      "model_module": "@jupyter-widgets/base",
      "model_module_version": "1.2.0",
      "model_name": "LayoutModel",
      "state": {}
     },
     "2567f86b62a5453cb0c2a9cb59951782": {
      "model_module": "@jupyter-widgets/base",
      "model_module_version": "1.2.0",
      "model_name": "LayoutModel",
      "state": {
       "display": "inline-flex",
       "flex_flow": "row wrap",
       "visibility": "hidden",
       "width": "100%"
      }
     },
     "2684a45653b74c35998570f972c7d02f": {
      "model_module": "@jupyter-widgets/base",
      "model_module_version": "1.2.0",
      "model_name": "LayoutModel",
      "state": {
       "display": "inline-flex",
       "flex_flow": "row wrap",
       "visibility": "hidden",
       "width": "100%"
      }
     },
     "27113f674d6945c4b95ed5398cfc368e": {
      "model_module": "@jupyter-widgets/controls",
      "model_module_version": "1.5.0",
      "model_name": "FloatProgressModel",
      "state": {
       "layout": "IPY_MODEL_2ac7e1b4f4c64e5ba48058a1640d2f57",
       "max": 61,
       "style": "IPY_MODEL_c878f0b53bf94cefa94f346505e4eff0",
       "value": 61
      }
     },
     "27adf8655dc544cda8581cc053973175": {
      "model_module": "@jupyter-widgets/base",
      "model_module_version": "1.2.0",
      "model_name": "LayoutModel",
      "state": {}
     },
     "27f9a9cbe31347a293bc47c631d29bb2": {
      "model_module": "@jupyter-widgets/base",
      "model_module_version": "1.2.0",
      "model_name": "LayoutModel",
      "state": {
       "display": "inline-flex",
       "flex_flow": "row wrap",
       "visibility": "hidden",
       "width": "100%"
      }
     },
     "28ae95850d684ee6bef55d66bea19115": {
      "model_module": "@jupyter-widgets/controls",
      "model_module_version": "1.5.0",
      "model_name": "FloatProgressModel",
      "state": {
       "layout": "IPY_MODEL_f5f926f77e7049afa81824792183b209",
       "max": 61,
       "style": "IPY_MODEL_6cddb39abace4f6eaeb3755b4a90dcc2",
       "value": 61
      }
     },
     "28dfdf0aaffb49bc938e66e2ccde5fd9": {
      "model_module": "@jupyter-widgets/controls",
      "model_module_version": "1.5.0",
      "model_name": "ProgressStyleModel",
      "state": {
       "description_width": ""
      }
     },
     "2a29fab25bb7418bba52e9ddd35fd7ee": {
      "model_module": "@jupyter-widgets/controls",
      "model_module_version": "1.5.0",
      "model_name": "HTMLModel",
      "state": {
       "layout": "IPY_MODEL_f15247c889e5430eb2db4cc82076b5e2",
       "style": "IPY_MODEL_200b754361df420e972220b78ba698f0",
       "value": " 61/61 [00:25&lt;00:00,  2.39it/s]"
      }
     },
     "2ac7e1b4f4c64e5ba48058a1640d2f57": {
      "model_module": "@jupyter-widgets/base",
      "model_module_version": "1.2.0",
      "model_name": "LayoutModel",
      "state": {
       "flex": "2"
      }
     },
     "2d3e369c00004b86bf8f7b636dd39abc": {
      "model_module": "@jupyter-widgets/base",
      "model_module_version": "1.2.0",
      "model_name": "LayoutModel",
      "state": {}
     },
     "2eda37528e9f4283b0ee2dd23c4be838": {
      "model_module": "@jupyter-widgets/base",
      "model_module_version": "1.2.0",
      "model_name": "LayoutModel",
      "state": {}
     },
     "2f10b518e9d24a6c805736117fa8cbaf": {
      "model_module": "@jupyter-widgets/controls",
      "model_module_version": "1.5.0",
      "model_name": "HTMLModel",
      "state": {
       "layout": "IPY_MODEL_5c0d648d87694d9dabf7871b6c35656a",
       "style": "IPY_MODEL_745fb52979f24ed1afadd233e8b6d2b5",
       "value": "Validation DataLoader 0: 100%"
      }
     },
     "30361db63ca84f809236c56df4a08353": {
      "model_module": "@jupyter-widgets/base",
      "model_module_version": "1.2.0",
      "model_name": "LayoutModel",
      "state": {
       "flex": "2"
      }
     },
     "307d59482267410686906350f3f9dbf1": {
      "model_module": "@jupyter-widgets/controls",
      "model_module_version": "1.5.0",
      "model_name": "HTMLModel",
      "state": {
       "layout": "IPY_MODEL_c2c1c20dfff945f196fcca317fda6baf",
       "style": "IPY_MODEL_f6281c34aef04aea8c2fda0fd79e5cc8",
       "value": "Validation DataLoader 0: 100%"
      }
     },
     "3191b19028e34a9895bac68465ee1b4e": {
      "model_module": "@jupyter-widgets/controls",
      "model_module_version": "1.5.0",
      "model_name": "DescriptionStyleModel",
      "state": {
       "description_width": ""
      }
     },
     "32757bb115324eab98c9cc6538a6d2b8": {
      "model_module": "@jupyter-widgets/controls",
      "model_module_version": "1.5.0",
      "model_name": "DescriptionStyleModel",
      "state": {
       "description_width": ""
      }
     },
     "32a0727d31274f9a95f426a778149f46": {
      "model_module": "@jupyter-widgets/base",
      "model_module_version": "1.2.0",
      "model_name": "LayoutModel",
      "state": {
       "flex": "2"
      }
     },
     "35f7f82766c14d1b961207e21ef48a3e": {
      "model_module": "@jupyter-widgets/base",
      "model_module_version": "1.2.0",
      "model_name": "LayoutModel",
      "state": {
       "flex": "2"
      }
     },
     "35ff1379589a44a59238fda86f67a1a4": {
      "model_module": "@jupyter-widgets/controls",
      "model_module_version": "1.5.0",
      "model_name": "ProgressStyleModel",
      "state": {
       "description_width": ""
      }
     },
     "36de4cdd59c4495e918048212f2b2be1": {
      "model_module": "@jupyter-widgets/controls",
      "model_module_version": "1.5.0",
      "model_name": "DescriptionStyleModel",
      "state": {
       "description_width": ""
      }
     },
     "3832f1b7f5e94ce58b43100d3146f2a6": {
      "model_module": "@jupyter-widgets/base",
      "model_module_version": "1.2.0",
      "model_name": "LayoutModel",
      "state": {}
     },
     "3a4df6b74427419d99e90b70d802f103": {
      "model_module": "@jupyter-widgets/controls",
      "model_module_version": "1.5.0",
      "model_name": "FloatProgressModel",
      "state": {
       "layout": "IPY_MODEL_dfbbe2a842d945e3a58b8f6143d6a651",
       "max": 61,
       "style": "IPY_MODEL_85da99a0b3024cd9b68e1bf3e5e777fa",
       "value": 61
      }
     },
     "3b91d195af6548278101b63d0bc2a7f9": {
      "model_module": "@jupyter-widgets/controls",
      "model_module_version": "1.5.0",
      "model_name": "HTMLModel",
      "state": {
       "layout": "IPY_MODEL_8144d3c1b5a04d72987bd8f5f9fa4e9d",
       "style": "IPY_MODEL_7e690e7d8d9841799a6590211d1afed1",
       "value": " 2/2 [00:54&lt;00:00,  0.04it/s]"
      }
     },
     "3e84cb66dcde4394a483996a4d1decb3": {
      "model_module": "@jupyter-widgets/base",
      "model_module_version": "1.2.0",
      "model_name": "LayoutModel",
      "state": {}
     },
     "3f18dd9751da4b40b2c1e538eeb788fa": {
      "model_module": "@jupyter-widgets/controls",
      "model_module_version": "1.5.0",
      "model_name": "FloatProgressModel",
      "state": {
       "layout": "IPY_MODEL_c5d3e4b1b0684496a8a00cd12981034e",
       "max": 61,
       "style": "IPY_MODEL_28dfdf0aaffb49bc938e66e2ccde5fd9",
       "value": 61
      }
     },
     "419c9af7e35745a5ad39720071add57c": {
      "model_module": "@jupyter-widgets/controls",
      "model_module_version": "1.5.0",
      "model_name": "FloatProgressModel",
      "state": {
       "layout": "IPY_MODEL_35f7f82766c14d1b961207e21ef48a3e",
       "max": 61,
       "style": "IPY_MODEL_926c42b657de43a6803add0a2a476211",
       "value": 61
      }
     },
     "41f4b537e4264284a1e9da35057538f1": {
      "model_module": "@jupyter-widgets/base",
      "model_module_version": "1.2.0",
      "model_name": "LayoutModel",
      "state": {}
     },
     "427c21ae4a4c4b32829216d88b7d1752": {
      "model_module": "@jupyter-widgets/controls",
      "model_module_version": "1.5.0",
      "model_name": "DescriptionStyleModel",
      "state": {
       "description_width": ""
      }
     },
     "439a3f9d9de54ddba2ec8c00da93c569": {
      "model_module": "@jupyter-widgets/base",
      "model_module_version": "1.2.0",
      "model_name": "LayoutModel",
      "state": {}
     },
     "43d5ceff9fe240ecbfc65e5bdab8b7c2": {
      "model_module": "@jupyter-widgets/base",
      "model_module_version": "1.2.0",
      "model_name": "LayoutModel",
      "state": {}
     },
     "456af2e2608645a78db94a765f2652f4": {
      "model_module": "@jupyter-widgets/controls",
      "model_module_version": "1.5.0",
      "model_name": "DescriptionStyleModel",
      "state": {
       "description_width": ""
      }
     },
     "46366809e1b5433d90c9a603ef52e5ea": {
      "model_module": "@jupyter-widgets/base",
      "model_module_version": "1.2.0",
      "model_name": "LayoutModel",
      "state": {
       "flex": "2"
      }
     },
     "49bb350e948f4d48a2d616bc1a36c396": {
      "model_module": "@jupyter-widgets/base",
      "model_module_version": "1.2.0",
      "model_name": "LayoutModel",
      "state": {}
     },
     "4b7fe58607f84dcbaf273dbc430a64f9": {
      "model_module": "@jupyter-widgets/controls",
      "model_module_version": "1.5.0",
      "model_name": "ProgressStyleModel",
      "state": {
       "description_width": ""
      }
     },
     "4bed9da50a314c60955183703852c2e1": {
      "model_module": "@jupyter-widgets/controls",
      "model_module_version": "1.5.0",
      "model_name": "DescriptionStyleModel",
      "state": {
       "description_width": ""
      }
     },
     "4d3a1140076f47abb5e3b953d441068d": {
      "model_module": "@jupyter-widgets/controls",
      "model_module_version": "1.5.0",
      "model_name": "ProgressStyleModel",
      "state": {
       "description_width": ""
      }
     },
     "4deac63ff075439ba9bedae643c997ae": {
      "model_module": "@jupyter-widgets/base",
      "model_module_version": "1.2.0",
      "model_name": "LayoutModel",
      "state": {
       "display": "inline-flex",
       "flex_flow": "row wrap",
       "visibility": "hidden",
       "width": "100%"
      }
     },
     "4e2300114f2c4ea683692b3ffdcfb738": {
      "model_module": "@jupyter-widgets/base",
      "model_module_version": "1.2.0",
      "model_name": "LayoutModel",
      "state": {
       "flex": "2"
      }
     },
     "4e773008268f4a05adf3b6d7a9b4a3cb": {
      "model_module": "@jupyter-widgets/base",
      "model_module_version": "1.2.0",
      "model_name": "LayoutModel",
      "state": {}
     },
     "4f0c0f4412f0483aaddef58c310dec2d": {
      "model_module": "@jupyter-widgets/base",
      "model_module_version": "1.2.0",
      "model_name": "LayoutModel",
      "state": {}
     },
     "5045c838b5e94fdfa490bf3c904794e8": {
      "model_module": "@jupyter-widgets/base",
      "model_module_version": "1.2.0",
      "model_name": "LayoutModel",
      "state": {
       "flex": "2"
      }
     },
     "511485e51c764a86aa18b930c132edf5": {
      "model_module": "@jupyter-widgets/controls",
      "model_module_version": "1.5.0",
      "model_name": "DescriptionStyleModel",
      "state": {
       "description_width": ""
      }
     },
     "5134bbaff99147c4863274e04b3d2a95": {
      "model_module": "@jupyter-widgets/controls",
      "model_module_version": "1.5.0",
      "model_name": "HTMLModel",
      "state": {
       "layout": "IPY_MODEL_8e2e6a232f084992be8fbc218accc6da",
       "style": "IPY_MODEL_f348adc52ec54fb78ce45c927d398505",
       "value": " 61/61 [00:25&lt;00:00,  2.44it/s]"
      }
     },
     "52374e65e8274fa3b8aef6c238d83336": {
      "model_module": "@jupyter-widgets/controls",
      "model_module_version": "1.5.0",
      "model_name": "HTMLModel",
      "state": {
       "layout": "IPY_MODEL_8f5a0aa544f942a1ac7f4186ac2ee958",
       "style": "IPY_MODEL_974f5a7319844a9895bf13d4b9d3743d",
       "value": " 61/61 [00:25&lt;00:00,  2.44it/s]"
      }
     },
     "5245b677813d4645b661d99f3bc0dd1a": {
      "model_module": "@jupyter-widgets/controls",
      "model_module_version": "1.5.0",
      "model_name": "FloatProgressModel",
      "state": {
       "layout": "IPY_MODEL_8c261d9840114a2abeaf519452cb42ce",
       "max": 61,
       "style": "IPY_MODEL_c51e3a4fa7bd45a591156aedb0daaf8f",
       "value": 61
      }
     },
     "52fd2a2e33a144b5bd2e371c493fa3a2": {
      "model_module": "@jupyter-widgets/controls",
      "model_module_version": "1.5.0",
      "model_name": "HTMLModel",
      "state": {
       "layout": "IPY_MODEL_cd6d7956dbde4126a7e49a8fbf60d9d8",
       "style": "IPY_MODEL_10533a6a81bc456eb8fae052a8dc5c2f",
       "value": "Epoch 154: 100%"
      }
     },
     "53a27a5f1714429393d538203aa8faf1": {
      "model_module": "@jupyter-widgets/controls",
      "model_module_version": "1.5.0",
      "model_name": "ProgressStyleModel",
      "state": {
       "description_width": ""
      }
     },
     "54cb2ddccb8b47b79d7cc3f966cb73fb": {
      "model_module": "@jupyter-widgets/controls",
      "model_module_version": "1.5.0",
      "model_name": "HTMLModel",
      "state": {
       "layout": "IPY_MODEL_27adf8655dc544cda8581cc053973175",
       "style": "IPY_MODEL_7f3ab0f7a56c4a57a9fc435d381ac119",
       "value": "Validation DataLoader 0: 100%"
      }
     },
     "55255aeec5764e838d2956efd4a0559c": {
      "model_module": "@jupyter-widgets/base",
      "model_module_version": "1.2.0",
      "model_name": "LayoutModel",
      "state": {
       "flex": "2"
      }
     },
     "556d0459574941bc9986f6c0299c8379": {
      "model_module": "@jupyter-widgets/base",
      "model_module_version": "1.2.0",
      "model_name": "LayoutModel",
      "state": {
       "display": "inline-flex",
       "flex_flow": "row wrap",
       "visibility": "hidden",
       "width": "100%"
      }
     },
     "55e0beba508549e494746e7e52640d48": {
      "model_module": "@jupyter-widgets/base",
      "model_module_version": "1.2.0",
      "model_name": "LayoutModel",
      "state": {}
     },
     "55f80d8f796349cfa8f12a600bbb0b99": {
      "model_module": "@jupyter-widgets/controls",
      "model_module_version": "1.5.0",
      "model_name": "HTMLModel",
      "state": {
       "layout": "IPY_MODEL_ba4fa9d3785d45759baeedd634b28dad",
       "style": "IPY_MODEL_9db5386eef1a4f35910263bd1def12d5",
       "value": "Validation DataLoader 0: 100%"
      }
     },
     "56f67f0a8e52438eb285d8ce56443843": {
      "model_module": "@jupyter-widgets/controls",
      "model_module_version": "1.5.0",
      "model_name": "FloatProgressModel",
      "state": {
       "layout": "IPY_MODEL_7654b9f3d3ee4afba6e5e1fe68805e34",
       "max": 61,
       "style": "IPY_MODEL_dabef067a7d94f4dac48655f3fd5bbd1",
       "value": 61
      }
     },
     "57e1ac29a0164406917a7245649d9b6c": {
      "model_module": "@jupyter-widgets/controls",
      "model_module_version": "1.5.0",
      "model_name": "HTMLModel",
      "state": {
       "layout": "IPY_MODEL_8765af9fb8db49c2a65acacfcb3b928c",
       "style": "IPY_MODEL_d5ba4548453446838916fbb5442bb979",
       "value": " 61/61 [00:25&lt;00:00,  2.38it/s]"
      }
     },
     "593a81639f2541ba92aba98b1e414817": {
      "model_module": "@jupyter-widgets/controls",
      "model_module_version": "1.5.0",
      "model_name": "HBoxModel",
      "state": {
       "children": [
        "IPY_MODEL_1bbd6d88b99f46749ce8a0813e9907fb",
        "IPY_MODEL_bdc16f5346ac4ebda5b7a01985a7ddbc",
        "IPY_MODEL_b50a84fc89ff40a6a9fc8793a8c83ad6"
       ],
       "layout": "IPY_MODEL_ebb53cea354f4d3c8ae3dd69f48d594b"
      }
     },
     "59595c26c8e4478b9dac7f6f692c13a3": {
      "model_module": "@jupyter-widgets/controls",
      "model_module_version": "1.5.0",
      "model_name": "FloatProgressModel",
      "state": {
       "layout": "IPY_MODEL_c329b3b1e9f34ae589dab7b96bd5f8cb",
       "max": 61,
       "style": "IPY_MODEL_c12d30248339412c99f67fda2b08f916",
       "value": 61
      }
     },
     "5a52d9527eaf4b1b932f43369d0166d0": {
      "model_module": "@jupyter-widgets/controls",
      "model_module_version": "1.5.0",
      "model_name": "DescriptionStyleModel",
      "state": {
       "description_width": ""
      }
     },
     "5bba3e1ae9414097a3703e275c57b540": {
      "model_module": "@jupyter-widgets/controls",
      "model_module_version": "1.5.0",
      "model_name": "DescriptionStyleModel",
      "state": {
       "description_width": ""
      }
     },
     "5c0d648d87694d9dabf7871b6c35656a": {
      "model_module": "@jupyter-widgets/base",
      "model_module_version": "1.2.0",
      "model_name": "LayoutModel",
      "state": {}
     },
     "5d287af0cb2f44fdb5c77361abcd1f1c": {
      "model_module": "@jupyter-widgets/base",
      "model_module_version": "1.2.0",
      "model_name": "LayoutModel",
      "state": {}
     },
     "5e22f1323281495d851c2f1927f2b0a3": {
      "model_module": "@jupyter-widgets/base",
      "model_module_version": "1.2.0",
      "model_name": "LayoutModel",
      "state": {}
     },
     "5f01b39b89dd47ffa38ee3aa04ac2b1a": {
      "model_module": "@jupyter-widgets/controls",
      "model_module_version": "1.5.0",
      "model_name": "HTMLModel",
      "state": {
       "layout": "IPY_MODEL_249f0591f3e34c32b0cd0387ae20ae1d",
       "style": "IPY_MODEL_13fefb80b9874d5a857172855a420384",
       "value": "Validation DataLoader 0: 100%"
      }
     },
     "5f6475d38ab8420e94b34f78fa1b784b": {
      "model_module": "@jupyter-widgets/base",
      "model_module_version": "1.2.0",
      "model_name": "LayoutModel",
      "state": {}
     },
     "61d6df7c80974310b0893d71311e744e": {
      "model_module": "@jupyter-widgets/controls",
      "model_module_version": "1.5.0",
      "model_name": "FloatProgressModel",
      "state": {
       "layout": "IPY_MODEL_32a0727d31274f9a95f426a778149f46",
       "max": 61,
       "style": "IPY_MODEL_ac676766d4414cff8e294d718b8c538a",
       "value": 61
      }
     },
     "63b697234f1b4804a77862685a894c3c": {
      "model_module": "@jupyter-widgets/base",
      "model_module_version": "1.2.0",
      "model_name": "LayoutModel",
      "state": {}
     },
     "641f0c07b1b94693b5b97c125d4bb16a": {
      "model_module": "@jupyter-widgets/controls",
      "model_module_version": "1.5.0",
      "model_name": "DescriptionStyleModel",
      "state": {
       "description_width": ""
      }
     },
     "651c2c5e60084326b461f933a28d30d0": {
      "model_module": "@jupyter-widgets/controls",
      "model_module_version": "1.5.0",
      "model_name": "HTMLModel",
      "state": {
       "layout": "IPY_MODEL_439a3f9d9de54ddba2ec8c00da93c569",
       "style": "IPY_MODEL_da774f9373e84f58ab504e65153da227",
       "value": "Validation DataLoader 0: 100%"
      }
     },
     "65eeec0e4c894612b02156563595c7a3": {
      "model_module": "@jupyter-widgets/controls",
      "model_module_version": "1.5.0",
      "model_name": "DescriptionStyleModel",
      "state": {
       "description_width": ""
      }
     },
     "66f80a14b2264bb0b6171397852e04e0": {
      "model_module": "@jupyter-widgets/controls",
      "model_module_version": "1.5.0",
      "model_name": "ProgressStyleModel",
      "state": {
       "description_width": ""
      }
     },
     "67a0ec5313254345bb85cd65dd1e5b8e": {
      "model_module": "@jupyter-widgets/controls",
      "model_module_version": "1.5.0",
      "model_name": "ProgressStyleModel",
      "state": {
       "description_width": ""
      }
     },
     "69311a300f714e159907ce6c92dd1e33": {
      "model_module": "@jupyter-widgets/base",
      "model_module_version": "1.2.0",
      "model_name": "LayoutModel",
      "state": {
       "flex": "2"
      }
     },
     "6987e551c79c485994cfd29922107d76": {
      "model_module": "@jupyter-widgets/base",
      "model_module_version": "1.2.0",
      "model_name": "LayoutModel",
      "state": {
       "flex": "2"
      }
     },
     "6a19d43536c64d49a7cb53308efb75b6": {
      "model_module": "@jupyter-widgets/controls",
      "model_module_version": "1.5.0",
      "model_name": "DescriptionStyleModel",
      "state": {
       "description_width": ""
      }
     },
     "6a83b71ce46244d099c7166acd5c9466": {
      "model_module": "@jupyter-widgets/base",
      "model_module_version": "1.2.0",
      "model_name": "LayoutModel",
      "state": {
       "display": "inline-flex",
       "flex_flow": "row wrap",
       "visibility": "hidden",
       "width": "100%"
      }
     },
     "6b99dab5964743bba973588a0854f487": {
      "model_module": "@jupyter-widgets/base",
      "model_module_version": "1.2.0",
      "model_name": "LayoutModel",
      "state": {}
     },
     "6cddb39abace4f6eaeb3755b4a90dcc2": {
      "model_module": "@jupyter-widgets/controls",
      "model_module_version": "1.5.0",
      "model_name": "ProgressStyleModel",
      "state": {
       "description_width": ""
      }
     },
     "6e169a65c4414dffb88bfc05434c8119": {
      "model_module": "@jupyter-widgets/base",
      "model_module_version": "1.2.0",
      "model_name": "LayoutModel",
      "state": {
       "display": "inline-flex",
       "flex_flow": "row wrap",
       "visibility": "hidden",
       "width": "100%"
      }
     },
     "6fd430f912b84aa68711bcaa3ef5b91f": {
      "model_module": "@jupyter-widgets/base",
      "model_module_version": "1.2.0",
      "model_name": "LayoutModel",
      "state": {
       "display": "inline-flex",
       "flex_flow": "row wrap",
       "visibility": "hidden",
       "width": "100%"
      }
     },
     "70c7933ccf8e40e2b52fb7967d3c4015": {
      "model_module": "@jupyter-widgets/controls",
      "model_module_version": "1.5.0",
      "model_name": "HTMLModel",
      "state": {
       "layout": "IPY_MODEL_3832f1b7f5e94ce58b43100d3146f2a6",
       "style": "IPY_MODEL_06433e8ea2424c72a6137ed11f6d18b8",
       "value": "Validation DataLoader 0: 100%"
      }
     },
     "722f4326bc2543d98e8a1208460fa8a6": {
      "model_module": "@jupyter-widgets/base",
      "model_module_version": "1.2.0",
      "model_name": "LayoutModel",
      "state": {}
     },
     "7348bab7cc82482a90afe440a208bead": {
      "model_module": "@jupyter-widgets/controls",
      "model_module_version": "1.5.0",
      "model_name": "FloatProgressModel",
      "state": {
       "layout": "IPY_MODEL_d48f3615236547309a715b586ee4693e",
       "max": 61,
       "style": "IPY_MODEL_53a27a5f1714429393d538203aa8faf1",
       "value": 61
      }
     },
     "745fb52979f24ed1afadd233e8b6d2b5": {
      "model_module": "@jupyter-widgets/controls",
      "model_module_version": "1.5.0",
      "model_name": "DescriptionStyleModel",
      "state": {
       "description_width": ""
      }
     },
     "75757f81637e419fb59ef976ce883076": {
      "model_module": "@jupyter-widgets/controls",
      "model_module_version": "1.5.0",
      "model_name": "DescriptionStyleModel",
      "state": {
       "description_width": ""
      }
     },
     "75903101bbfc40df84df0d9514c6f716": {
      "model_module": "@jupyter-widgets/base",
      "model_module_version": "1.2.0",
      "model_name": "LayoutModel",
      "state": {}
     },
     "7654b9f3d3ee4afba6e5e1fe68805e34": {
      "model_module": "@jupyter-widgets/base",
      "model_module_version": "1.2.0",
      "model_name": "LayoutModel",
      "state": {
       "flex": "2"
      }
     },
     "797aa8a9db9a475fa697c93d2c9fa3b1": {
      "model_module": "@jupyter-widgets/controls",
      "model_module_version": "1.5.0",
      "model_name": "HTMLModel",
      "state": {
       "layout": "IPY_MODEL_02677ee636524b0795f987396b569445",
       "style": "IPY_MODEL_dc194c506bcf410f874ef54b3c97fa24",
       "value": " 61/61 [00:35&lt;00:00,  1.72it/s]"
      }
     },
     "7b8bdc8e04554605bfa8820d6d825f9e": {
      "model_module": "@jupyter-widgets/base",
      "model_module_version": "1.2.0",
      "model_name": "LayoutModel",
      "state": {
       "flex": "2"
      }
     },
     "7beb6d28ee8d47458920ba4287c4cfcd": {
      "model_module": "@jupyter-widgets/base",
      "model_module_version": "1.2.0",
      "model_name": "LayoutModel",
      "state": {}
     },
     "7d37938adfbb48bfac5da5fc4bf5f7fd": {
      "model_module": "@jupyter-widgets/controls",
      "model_module_version": "1.5.0",
      "model_name": "DescriptionStyleModel",
      "state": {
       "description_width": ""
      }
     },
     "7e09d67498494d94a87dc67a40e73bf3": {
      "model_module": "@jupyter-widgets/controls",
      "model_module_version": "1.5.0",
      "model_name": "HTMLModel",
      "state": {
       "layout": "IPY_MODEL_14fd0026bca54990aa10d57b2c949e63",
       "style": "IPY_MODEL_d8d75e7d50ba4b23812f5836928ce1bd",
       "value": "Validation DataLoader 0: 100%"
      }
     },
     "7e3e24c57808445f8aee2b0aa4bb7622": {
      "model_module": "@jupyter-widgets/base",
      "model_module_version": "1.2.0",
      "model_name": "LayoutModel",
      "state": {}
     },
     "7e690e7d8d9841799a6590211d1afed1": {
      "model_module": "@jupyter-widgets/controls",
      "model_module_version": "1.5.0",
      "model_name": "DescriptionStyleModel",
      "state": {
       "description_width": ""
      }
     },
     "7e98963d494d499e9d9937b94081eaec": {
      "model_module": "@jupyter-widgets/controls",
      "model_module_version": "1.5.0",
      "model_name": "HTMLModel",
      "state": {
       "layout": "IPY_MODEL_f4c34a9de405450aa27cd8b584509f1a",
       "style": "IPY_MODEL_3191b19028e34a9895bac68465ee1b4e",
       "value": "Validation DataLoader 0: 100%"
      }
     },
     "7f3ab0f7a56c4a57a9fc435d381ac119": {
      "model_module": "@jupyter-widgets/controls",
      "model_module_version": "1.5.0",
      "model_name": "DescriptionStyleModel",
      "state": {
       "description_width": ""
      }
     },
     "7f8244b181e54fb1a01b843322df0d45": {
      "model_module": "@jupyter-widgets/base",
      "model_module_version": "1.2.0",
      "model_name": "LayoutModel",
      "state": {}
     },
     "805c2d15087e446989661752f65e305d": {
      "model_module": "@jupyter-widgets/controls",
      "model_module_version": "1.5.0",
      "model_name": "ProgressStyleModel",
      "state": {
       "description_width": ""
      }
     },
     "8067fe9e76aa493da600524abb260561": {
      "model_module": "@jupyter-widgets/controls",
      "model_module_version": "1.5.0",
      "model_name": "DescriptionStyleModel",
      "state": {
       "description_width": ""
      }
     },
     "80ce71a3998748f7a1600f72061f9b95": {
      "model_module": "@jupyter-widgets/controls",
      "model_module_version": "1.5.0",
      "model_name": "HTMLModel",
      "state": {
       "layout": "IPY_MODEL_812063be93ed40309888ed9a8ee1b82f",
       "style": "IPY_MODEL_d32d051d9c1842859010fa03e6dd43c8",
       "value": " 61/61 [00:25&lt;00:00,  2.44it/s]"
      }
     },
     "812063be93ed40309888ed9a8ee1b82f": {
      "model_module": "@jupyter-widgets/base",
      "model_module_version": "1.2.0",
      "model_name": "LayoutModel",
      "state": {}
     },
     "8144d3c1b5a04d72987bd8f5f9fa4e9d": {
      "model_module": "@jupyter-widgets/base",
      "model_module_version": "1.2.0",
      "model_name": "LayoutModel",
      "state": {}
     },
     "81adceb3d7324e07b47d60f5f5bd4fa2": {
      "model_module": "@jupyter-widgets/controls",
      "model_module_version": "1.5.0",
      "model_name": "HTMLModel",
      "state": {
       "layout": "IPY_MODEL_4e773008268f4a05adf3b6d7a9b4a3cb",
       "style": "IPY_MODEL_aa482762b8f343a5b23c44fde16a1b98",
       "value": "Validation DataLoader 0: 100%"
      }
     },
     "820b271ab26f498e8e132570640db4c7": {
      "model_module": "@jupyter-widgets/controls",
      "model_module_version": "1.5.0",
      "model_name": "FloatProgressModel",
      "state": {
       "layout": "IPY_MODEL_46366809e1b5433d90c9a603ef52e5ea",
       "max": 61,
       "style": "IPY_MODEL_805c2d15087e446989661752f65e305d",
       "value": 61
      }
     },
     "825f83c2b6f5473bb0c9fb6bdb518388": {
      "model_module": "@jupyter-widgets/controls",
      "model_module_version": "1.5.0",
      "model_name": "HTMLModel",
      "state": {
       "layout": "IPY_MODEL_c08b3b405e004a128f2f6acf67933069",
       "style": "IPY_MODEL_5bba3e1ae9414097a3703e275c57b540",
       "value": " 61/61 [00:24&lt;00:00,  2.46it/s]"
      }
     },
     "851a2c85266744e6935c7ad8248bd5f5": {
      "model_module": "@jupyter-widgets/controls",
      "model_module_version": "1.5.0",
      "model_name": "FloatProgressModel",
      "state": {
       "layout": "IPY_MODEL_e1e715488f6b405d87dbc315b9464ef8",
       "max": 61,
       "style": "IPY_MODEL_66f80a14b2264bb0b6171397852e04e0",
       "value": 61
      }
     },
     "85da99a0b3024cd9b68e1bf3e5e777fa": {
      "model_module": "@jupyter-widgets/controls",
      "model_module_version": "1.5.0",
      "model_name": "ProgressStyleModel",
      "state": {
       "description_width": ""
      }
     },
     "869750bce1b04477bf222cc2025e4152": {
      "model_module": "@jupyter-widgets/controls",
      "model_module_version": "1.5.0",
      "model_name": "HTMLModel",
      "state": {
       "layout": "IPY_MODEL_43d5ceff9fe240ecbfc65e5bdab8b7c2",
       "style": "IPY_MODEL_e7143c7dd4b545308c94d4363f57c016",
       "value": " 61/61 [00:25&lt;00:00,  2.44it/s]"
      }
     },
     "8697d0544b374f76bd7a391fda5c4828": {
      "model_module": "@jupyter-widgets/controls",
      "model_module_version": "1.5.0",
      "model_name": "ProgressStyleModel",
      "state": {
       "description_width": ""
      }
     },
     "8765af9fb8db49c2a65acacfcb3b928c": {
      "model_module": "@jupyter-widgets/base",
      "model_module_version": "1.2.0",
      "model_name": "LayoutModel",
      "state": {}
     },
     "8773b8747df64f579eae2c993d086797": {
      "model_module": "@jupyter-widgets/controls",
      "model_module_version": "1.5.0",
      "model_name": "HTMLModel",
      "state": {
       "layout": "IPY_MODEL_5d287af0cb2f44fdb5c77361abcd1f1c",
       "style": "IPY_MODEL_511485e51c764a86aa18b930c132edf5",
       "value": "Validation DataLoader 0: 100%"
      }
     },
     "87a17f6f1b82432399e6c5a14cae3c4d": {
      "model_module": "@jupyter-widgets/base",
      "model_module_version": "1.2.0",
      "model_name": "LayoutModel",
      "state": {
       "display": "inline-flex",
       "flex_flow": "row wrap",
       "visibility": "hidden",
       "width": "100%"
      }
     },
     "89105e24da6b45548f48f8f1f9c4aa77": {
      "model_module": "@jupyter-widgets/base",
      "model_module_version": "1.2.0",
      "model_name": "LayoutModel",
      "state": {}
     },
     "89d9b3d097004c5a96c2b1439a1490c6": {
      "model_module": "@jupyter-widgets/base",
      "model_module_version": "1.2.0",
      "model_name": "LayoutModel",
      "state": {}
     },
     "89edf29ea9b34ba4bee45d14181263c0": {
      "model_module": "@jupyter-widgets/controls",
      "model_module_version": "1.5.0",
      "model_name": "HTMLModel",
      "state": {
       "layout": "IPY_MODEL_c9d07b088a5043f4b94418e4ed9ad886",
       "style": "IPY_MODEL_0a4681a9a8a74d3997ec0b6a6419faf6",
       "value": "Validation DataLoader 0: 100%"
      }
     },
     "8ae96faf7570479f8214385cfde0c2ce": {
      "model_module": "@jupyter-widgets/controls",
      "model_module_version": "1.5.0",
      "model_name": "HTMLModel",
      "state": {
       "layout": "IPY_MODEL_227c2b8f14114681a36ad66fd4b804ee",
       "style": "IPY_MODEL_011331cda52a47f4ba15865d0ac0197f",
       "value": "Sanity Checking DataLoader 0: 100%"
      }
     },
     "8c261d9840114a2abeaf519452cb42ce": {
      "model_module": "@jupyter-widgets/base",
      "model_module_version": "1.2.0",
      "model_name": "LayoutModel",
      "state": {
       "flex": "2"
      }
     },
     "8c3aa85430424f178b6f0256d7355bc1": {
      "model_module": "@jupyter-widgets/base",
      "model_module_version": "1.2.0",
      "model_name": "LayoutModel",
      "state": {}
     },
     "8c468ebfdd994a68816e759f59875dcb": {
      "model_module": "@jupyter-widgets/controls",
      "model_module_version": "1.5.0",
      "model_name": "ProgressStyleModel",
      "state": {
       "description_width": ""
      }
     },
     "8c89fbad46e04b4f9737d2410aa68cb5": {
      "model_module": "@jupyter-widgets/controls",
      "model_module_version": "1.5.0",
      "model_name": "HTMLModel",
      "state": {
       "layout": "IPY_MODEL_0248c944d323447ba6fd4ec652de8118",
       "style": "IPY_MODEL_c460ffc5b7f147029b6441d402335fcb",
       "value": " 61/61 [00:25&lt;00:00,  2.44it/s]"
      }
     },
     "8d82dcc0695a45058519daca960caf3f": {
      "model_module": "@jupyter-widgets/base",
      "model_module_version": "1.2.0",
      "model_name": "LayoutModel",
      "state": {}
     },
     "8e2e6a232f084992be8fbc218accc6da": {
      "model_module": "@jupyter-widgets/base",
      "model_module_version": "1.2.0",
      "model_name": "LayoutModel",
      "state": {}
     },
     "8f40e53784564f688e0a2431296840b0": {
      "model_module": "@jupyter-widgets/base",
      "model_module_version": "1.2.0",
      "model_name": "LayoutModel",
      "state": {
       "flex": "2"
      }
     },
     "8f5a0aa544f942a1ac7f4186ac2ee958": {
      "model_module": "@jupyter-widgets/base",
      "model_module_version": "1.2.0",
      "model_name": "LayoutModel",
      "state": {}
     },
     "8fe2ec6baeb546e7ae2aa465c4548db2": {
      "model_module": "@jupyter-widgets/base",
      "model_module_version": "1.2.0",
      "model_name": "LayoutModel",
      "state": {
       "flex": "2"
      }
     },
     "8fe4dbbca0504fb78f93cc51835e33af": {
      "model_module": "@jupyter-widgets/base",
      "model_module_version": "1.2.0",
      "model_name": "LayoutModel",
      "state": {}
     },
     "8ff0d28240274384ae2aec7fe7fb2bdf": {
      "model_module": "@jupyter-widgets/controls",
      "model_module_version": "1.5.0",
      "model_name": "FloatProgressModel",
      "state": {
       "layout": "IPY_MODEL_8fe2ec6baeb546e7ae2aa465c4548db2",
       "max": 61,
       "style": "IPY_MODEL_8697d0544b374f76bd7a391fda5c4828",
       "value": 61
      }
     },
     "90be8f985ae041ff9bc175b18ee39ea3": {
      "model_module": "@jupyter-widgets/controls",
      "model_module_version": "1.5.0",
      "model_name": "ProgressStyleModel",
      "state": {
       "description_width": ""
      }
     },
     "9125310b546d4dea91e026a01398a8ed": {
      "model_module": "@jupyter-widgets/controls",
      "model_module_version": "1.5.0",
      "model_name": "HTMLModel",
      "state": {
       "layout": "IPY_MODEL_ded4377cc2924c12b1811b5ffb904b93",
       "style": "IPY_MODEL_d1236fb2408d40b09baa59efe7d2820c",
       "value": "Validation DataLoader 0: 100%"
      }
     },
     "926c42b657de43a6803add0a2a476211": {
      "model_module": "@jupyter-widgets/controls",
      "model_module_version": "1.5.0",
      "model_name": "ProgressStyleModel",
      "state": {
       "description_width": ""
      }
     },
     "92d6346fb45b46458fbfcb7a4c73a5be": {
      "model_module": "@jupyter-widgets/base",
      "model_module_version": "1.2.0",
      "model_name": "LayoutModel",
      "state": {
       "display": "inline-flex",
       "flex_flow": "row wrap",
       "visibility": "hidden",
       "width": "100%"
      }
     },
     "949345ddd203479882810d6644566ce6": {
      "model_module": "@jupyter-widgets/controls",
      "model_module_version": "1.5.0",
      "model_name": "HTMLModel",
      "state": {
       "layout": "IPY_MODEL_6b99dab5964743bba973588a0854f487",
       "style": "IPY_MODEL_641f0c07b1b94693b5b97c125d4bb16a",
       "value": "Validation DataLoader 0: 100%"
      }
     },
     "94c8a64859494073bb039c20799bb639": {
      "model_module": "@jupyter-widgets/controls",
      "model_module_version": "1.5.0",
      "model_name": "FloatProgressModel",
      "state": {
       "layout": "IPY_MODEL_de279ec6dd8042c29dd7e4bef09ea3f7",
       "max": 244,
       "style": "IPY_MODEL_18cff34013e34056957c2276ff15d085",
       "value": 244
      }
     },
     "96d2f34ff6924a28af340ddf99530583": {
      "model_module": "@jupyter-widgets/base",
      "model_module_version": "1.2.0",
      "model_name": "LayoutModel",
      "state": {}
     },
     "974f5a7319844a9895bf13d4b9d3743d": {
      "model_module": "@jupyter-widgets/controls",
      "model_module_version": "1.5.0",
      "model_name": "DescriptionStyleModel",
      "state": {
       "description_width": ""
      }
     },
     "97705acdc705462e8c5e5b573dfca47d": {
      "model_module": "@jupyter-widgets/base",
      "model_module_version": "1.2.0",
      "model_name": "LayoutModel",
      "state": {}
     },
     "99311d4927804b6b8cf1638714e18d0e": {
      "model_module": "@jupyter-widgets/controls",
      "model_module_version": "1.5.0",
      "model_name": "FloatProgressModel",
      "state": {
       "layout": "IPY_MODEL_8f40e53784564f688e0a2431296840b0",
       "max": 61,
       "style": "IPY_MODEL_f34c10f742894576b41310f9569e1c51",
       "value": 61
      }
     },
     "9a38ed09f68e42d18291edec42477891": {
      "model_module": "@jupyter-widgets/controls",
      "model_module_version": "1.5.0",
      "model_name": "DescriptionStyleModel",
      "state": {
       "description_width": ""
      }
     },
     "9b13fe09ab7145cea1685bc4907780a3": {
      "model_module": "@jupyter-widgets/base",
      "model_module_version": "1.2.0",
      "model_name": "LayoutModel",
      "state": {
       "flex": "2"
      }
     },
     "9c7be54e50404c4aadacfbd038d88ab3": {
      "model_module": "@jupyter-widgets/controls",
      "model_module_version": "1.5.0",
      "model_name": "HTMLModel",
      "state": {
       "layout": "IPY_MODEL_722f4326bc2543d98e8a1208460fa8a6",
       "style": "IPY_MODEL_ffbad4090c164e3986cc76efec2819ac",
       "value": " 61/61 [00:25&lt;00:00,  2.44it/s]"
      }
     },
     "9db5386eef1a4f35910263bd1def12d5": {
      "model_module": "@jupyter-widgets/controls",
      "model_module_version": "1.5.0",
      "model_name": "DescriptionStyleModel",
      "state": {
       "description_width": ""
      }
     },
     "9def15c6644546e1ba76ef2110e7d99f": {
      "model_module": "@jupyter-widgets/controls",
      "model_module_version": "1.5.0",
      "model_name": "DescriptionStyleModel",
      "state": {
       "description_width": ""
      }
     },
     "9e8093990ade4a2ab235716c6d9df001": {
      "model_module": "@jupyter-widgets/controls",
      "model_module_version": "1.5.0",
      "model_name": "DescriptionStyleModel",
      "state": {
       "description_width": ""
      }
     },
     "9fa05a3f2c4d4bc2bfae3cf5b7499013": {
      "model_module": "@jupyter-widgets/controls",
      "model_module_version": "1.5.0",
      "model_name": "ProgressStyleModel",
      "state": {
       "description_width": ""
      }
     },
     "a0c11d0212f1415287e47dbfab133ab2": {
      "model_module": "@jupyter-widgets/controls",
      "model_module_version": "1.5.0",
      "model_name": "HTMLModel",
      "state": {
       "layout": "IPY_MODEL_8c3aa85430424f178b6f0256d7355bc1",
       "style": "IPY_MODEL_d7f727fe02164ecaa102dbb49e2926de",
       "value": " 244/244 [03:22&lt;00:00,  1.21it/s, v_num=4 v3, train_loss=0.806, mean_grad=3.780, val_loss=0.464]"
      }
     },
     "a2142d56554e4eceaf363d73de444579": {
      "model_module": "@jupyter-widgets/controls",
      "model_module_version": "1.5.0",
      "model_name": "ProgressStyleModel",
      "state": {
       "description_width": ""
      }
     },
     "a34884b1fec14f3d8c1e7f70e3ff37bd": {
      "model_module": "@jupyter-widgets/controls",
      "model_module_version": "1.5.0",
      "model_name": "FloatProgressModel",
      "state": {
       "layout": "IPY_MODEL_5045c838b5e94fdfa490bf3c904794e8",
       "max": 61,
       "style": "IPY_MODEL_e15a139be9f3442dadd4e7653ee26186",
       "value": 61
      }
     },
     "a3533243a27e42a9a80df7065349dd67": {
      "model_module": "@jupyter-widgets/controls",
      "model_module_version": "1.5.0",
      "model_name": "DescriptionStyleModel",
      "state": {
       "description_width": ""
      }
     },
     "a364ae410bba4dee9abee07dfeffbadd": {
      "model_module": "@jupyter-widgets/controls",
      "model_module_version": "1.5.0",
      "model_name": "FloatProgressModel",
      "state": {
       "layout": "IPY_MODEL_195222edb5864650ba2fc9bb28d25f3a",
       "max": 61,
       "style": "IPY_MODEL_4d3a1140076f47abb5e3b953d441068d",
       "value": 61
      }
     },
     "a3da105758b14ec3af93f06ef4e87903": {
      "model_module": "@jupyter-widgets/controls",
      "model_module_version": "1.5.0",
      "model_name": "DescriptionStyleModel",
      "state": {
       "description_width": ""
      }
     },
     "a4555bced69a4ea69f475710df75d731": {
      "model_module": "@jupyter-widgets/base",
      "model_module_version": "1.2.0",
      "model_name": "LayoutModel",
      "state": {
       "flex": "2"
      }
     },
     "a469b1dab71e4da8a1c08c4b1012ac8a": {
      "model_module": "@jupyter-widgets/base",
      "model_module_version": "1.2.0",
      "model_name": "LayoutModel",
      "state": {
       "display": "inline-flex",
       "flex_flow": "row wrap",
       "visibility": "hidden",
       "width": "100%"
      }
     },
     "a5760b1bfea847228f87d62c0a23dcdf": {
      "model_module": "@jupyter-widgets/base",
      "model_module_version": "1.2.0",
      "model_name": "LayoutModel",
      "state": {
       "display": "inline-flex",
       "flex_flow": "row wrap",
       "visibility": "hidden",
       "width": "100%"
      }
     },
     "a5ff161848d947b89624e8422a5b623b": {
      "model_module": "@jupyter-widgets/controls",
      "model_module_version": "1.5.0",
      "model_name": "HTMLModel",
      "state": {
       "layout": "IPY_MODEL_c25e814de6364ea88819d840beaf8c11",
       "style": "IPY_MODEL_7d37938adfbb48bfac5da5fc4bf5f7fd",
       "value": " 61/61 [00:25&lt;00:00,  2.39it/s]"
      }
     },
     "a7ff88e4f5cd4e90ba9357e6f1e69f9a": {
      "model_module": "@jupyter-widgets/controls",
      "model_module_version": "1.5.0",
      "model_name": "DescriptionStyleModel",
      "state": {
       "description_width": ""
      }
     },
     "a9b1d71bccdf43adaf1989b3c7cb296e": {
      "model_module": "@jupyter-widgets/controls",
      "model_module_version": "1.5.0",
      "model_name": "HTMLModel",
      "state": {
       "layout": "IPY_MODEL_20feccada065457ba915c63933515084",
       "style": "IPY_MODEL_ada9732d8e80464b95b2c1c570da4024",
       "value": " 61/61 [00:25&lt;00:00,  2.37it/s]"
      }
     },
     "a9e9aed60f104016a9ad7223a10a2ec1": {
      "model_module": "@jupyter-widgets/controls",
      "model_module_version": "1.5.0",
      "model_name": "ProgressStyleModel",
      "state": {
       "description_width": ""
      }
     },
     "aa0ac939be8947118905657eb262e959": {
      "model_module": "@jupyter-widgets/controls",
      "model_module_version": "1.5.0",
      "model_name": "FloatProgressModel",
      "state": {
       "layout": "IPY_MODEL_30361db63ca84f809236c56df4a08353",
       "max": 2,
       "style": "IPY_MODEL_9fa05a3f2c4d4bc2bfae3cf5b7499013",
       "value": 2
      }
     },
     "aa482762b8f343a5b23c44fde16a1b98": {
      "model_module": "@jupyter-widgets/controls",
      "model_module_version": "1.5.0",
      "model_name": "DescriptionStyleModel",
      "state": {
       "description_width": ""
      }
     },
     "ac676766d4414cff8e294d718b8c538a": {
      "model_module": "@jupyter-widgets/controls",
      "model_module_version": "1.5.0",
      "model_name": "ProgressStyleModel",
      "state": {
       "description_width": ""
      }
     },
     "ad4ded9ef5ef4fd5902bdd72e81e7fd6": {
      "model_module": "@jupyter-widgets/base",
      "model_module_version": "1.2.0",
      "model_name": "LayoutModel",
      "state": {
       "display": "inline-flex",
       "flex_flow": "row wrap",
       "visibility": "hidden",
       "width": "100%"
      }
     },
     "ada9732d8e80464b95b2c1c570da4024": {
      "model_module": "@jupyter-widgets/controls",
      "model_module_version": "1.5.0",
      "model_name": "DescriptionStyleModel",
      "state": {
       "description_width": ""
      }
     },
     "ae51642db5e749b2a5591e42323a318c": {
      "model_module": "@jupyter-widgets/controls",
      "model_module_version": "1.5.0",
      "model_name": "HTMLModel",
      "state": {
       "layout": "IPY_MODEL_7e3e24c57808445f8aee2b0aa4bb7622",
       "style": "IPY_MODEL_75757f81637e419fb59ef976ce883076",
       "value": " 61/61 [00:25&lt;00:00,  2.42it/s]"
      }
     },
     "ae92a1d9dcb74305abb2378a8d92cb5a": {
      "model_module": "@jupyter-widgets/base",
      "model_module_version": "1.2.0",
      "model_name": "LayoutModel",
      "state": {
       "display": "inline-flex",
       "flex_flow": "row wrap",
       "visibility": "hidden",
       "width": "100%"
      }
     },
     "af0196af47c544d0b34d9f91e7e3b799": {
      "model_module": "@jupyter-widgets/base",
      "model_module_version": "1.2.0",
      "model_name": "LayoutModel",
      "state": {
       "display": "inline-flex",
       "flex_flow": "row wrap",
       "visibility": "hidden",
       "width": "100%"
      }
     },
     "b084731a16b142c1abf9d246bdc430eb": {
      "model_module": "@jupyter-widgets/controls",
      "model_module_version": "1.5.0",
      "model_name": "ProgressStyleModel",
      "state": {
       "description_width": ""
      }
     },
     "b1c03f15dced45888c10bc6001743aa8": {
      "model_module": "@jupyter-widgets/base",
      "model_module_version": "1.2.0",
      "model_name": "LayoutModel",
      "state": {
       "display": "inline-flex",
       "flex_flow": "row wrap",
       "visibility": "hidden",
       "width": "100%"
      }
     },
     "b273f7b4a1464136bddb6c312c753af8": {
      "model_module": "@jupyter-widgets/controls",
      "model_module_version": "1.5.0",
      "model_name": "FloatProgressModel",
      "state": {
       "layout": "IPY_MODEL_7b8bdc8e04554605bfa8820d6d825f9e",
       "max": 61,
       "style": "IPY_MODEL_bf1698e0b1cf4c53bfa53fdaeae16a56",
       "value": 61
      }
     },
     "b2efe47ab2d14d298d31ab015e8a2ed2": {
      "model_module": "@jupyter-widgets/controls",
      "model_module_version": "1.5.0",
      "model_name": "HTMLModel",
      "state": {
       "layout": "IPY_MODEL_7f8244b181e54fb1a01b843322df0d45",
       "style": "IPY_MODEL_147fa869ea044c94902642a1eab15e5f",
       "value": " 61/61 [00:25&lt;00:00,  2.37it/s]"
      }
     },
     "b2f19d6d0ad04c7f96b78250b28b6e2f": {
      "model_module": "@jupyter-widgets/controls",
      "model_module_version": "1.5.0",
      "model_name": "HTMLModel",
      "state": {
       "layout": "IPY_MODEL_5f6475d38ab8420e94b34f78fa1b784b",
       "style": "IPY_MODEL_a7ff88e4f5cd4e90ba9357e6f1e69f9a",
       "value": " 61/61 [00:25&lt;00:00,  2.37it/s]"
      }
     },
     "b50a84fc89ff40a6a9fc8793a8c83ad6": {
      "model_module": "@jupyter-widgets/controls",
      "model_module_version": "1.5.0",
      "model_name": "HTMLModel",
      "state": {
       "layout": "IPY_MODEL_89105e24da6b45548f48f8f1f9c4aa77",
       "style": "IPY_MODEL_8067fe9e76aa493da600524abb260561",
       "value": " 29/61 [00:11&lt;00:13,  2.43it/s]"
      }
     },
     "b8328b3940174aa9a59c2d7af96bcacf": {
      "model_module": "@jupyter-widgets/controls",
      "model_module_version": "1.5.0",
      "model_name": "DescriptionStyleModel",
      "state": {
       "description_width": ""
      }
     },
     "b962da02bfa34550b3728030ff0f88fb": {
      "model_module": "@jupyter-widgets/controls",
      "model_module_version": "1.5.0",
      "model_name": "FloatProgressModel",
      "state": {
       "layout": "IPY_MODEL_0aa5e7c2cad44e89ba27edae2afe38e2",
       "max": 61,
       "style": "IPY_MODEL_67a0ec5313254345bb85cd65dd1e5b8e",
       "value": 61
      }
     },
     "b99c4c932fab46e3b1606ddeea36771a": {
      "model_module": "@jupyter-widgets/controls",
      "model_module_version": "1.5.0",
      "model_name": "DescriptionStyleModel",
      "state": {
       "description_width": ""
      }
     },
     "ba4fa9d3785d45759baeedd634b28dad": {
      "model_module": "@jupyter-widgets/base",
      "model_module_version": "1.2.0",
      "model_name": "LayoutModel",
      "state": {}
     },
     "bbefee073443483a88084b709953f2bd": {
      "model_module": "@jupyter-widgets/base",
      "model_module_version": "1.2.0",
      "model_name": "LayoutModel",
      "state": {
       "flex": "2"
      }
     },
     "bce51e8a38ff46f6bfd026e830c6c519": {
      "model_module": "@jupyter-widgets/controls",
      "model_module_version": "1.5.0",
      "model_name": "HTMLModel",
      "state": {
       "layout": "IPY_MODEL_3e84cb66dcde4394a483996a4d1decb3",
       "style": "IPY_MODEL_1fa108b6fce6434f8e15ce310b695087",
       "value": "Validation DataLoader 0: 100%"
      }
     },
     "bdc16f5346ac4ebda5b7a01985a7ddbc": {
      "model_module": "@jupyter-widgets/controls",
      "model_module_version": "1.5.0",
      "model_name": "FloatProgressModel",
      "state": {
       "layout": "IPY_MODEL_d46aa9196e6442839347b5ad0b1dbb32",
       "max": 61,
       "style": "IPY_MODEL_b084731a16b142c1abf9d246bdc430eb",
       "value": 29
      }
     },
     "bf1698e0b1cf4c53bfa53fdaeae16a56": {
      "model_module": "@jupyter-widgets/controls",
      "model_module_version": "1.5.0",
      "model_name": "ProgressStyleModel",
      "state": {
       "description_width": ""
      }
     },
     "c08b3b405e004a128f2f6acf67933069": {
      "model_module": "@jupyter-widgets/base",
      "model_module_version": "1.2.0",
      "model_name": "LayoutModel",
      "state": {}
     },
     "c0bc70229b154ae9871bc65c7de998b1": {
      "model_module": "@jupyter-widgets/controls",
      "model_module_version": "1.5.0",
      "model_name": "HTMLModel",
      "state": {
       "layout": "IPY_MODEL_63b697234f1b4804a77862685a894c3c",
       "style": "IPY_MODEL_9def15c6644546e1ba76ef2110e7d99f",
       "value": "Validation DataLoader 0: 100%"
      }
     },
     "c0e20bcf9fdb4d9b8ddc4d95413c62fe": {
      "model_module": "@jupyter-widgets/controls",
      "model_module_version": "1.5.0",
      "model_name": "FloatProgressModel",
      "state": {
       "layout": "IPY_MODEL_ff17620231354b7b953d483027c03725",
       "max": 61,
       "style": "IPY_MODEL_ffd9a45bece0432fa89b2d71f28a5d42",
       "value": 61
      }
     },
     "c12d30248339412c99f67fda2b08f916": {
      "model_module": "@jupyter-widgets/controls",
      "model_module_version": "1.5.0",
      "model_name": "ProgressStyleModel",
      "state": {
       "description_width": ""
      }
     },
     "c20847ed1531484cb02b54c09b924766": {
      "model_module": "@jupyter-widgets/controls",
      "model_module_version": "1.5.0",
      "model_name": "FloatProgressModel",
      "state": {
       "layout": "IPY_MODEL_9b13fe09ab7145cea1685bc4907780a3",
       "max": 61,
       "style": "IPY_MODEL_a9e9aed60f104016a9ad7223a10a2ec1",
       "value": 61
      }
     },
     "c25e814de6364ea88819d840beaf8c11": {
      "model_module": "@jupyter-widgets/base",
      "model_module_version": "1.2.0",
      "model_name": "LayoutModel",
      "state": {}
     },
     "c2c1c20dfff945f196fcca317fda6baf": {
      "model_module": "@jupyter-widgets/base",
      "model_module_version": "1.2.0",
      "model_name": "LayoutModel",
      "state": {}
     },
     "c329b3b1e9f34ae589dab7b96bd5f8cb": {
      "model_module": "@jupyter-widgets/base",
      "model_module_version": "1.2.0",
      "model_name": "LayoutModel",
      "state": {
       "flex": "2"
      }
     },
     "c460ffc5b7f147029b6441d402335fcb": {
      "model_module": "@jupyter-widgets/controls",
      "model_module_version": "1.5.0",
      "model_name": "DescriptionStyleModel",
      "state": {
       "description_width": ""
      }
     },
     "c49ec426894a492aa22e38567889ac84": {
      "model_module": "@jupyter-widgets/controls",
      "model_module_version": "1.5.0",
      "model_name": "DescriptionStyleModel",
      "state": {
       "description_width": ""
      }
     },
     "c4d7cf4fb4164b83b61a2f45d4069dea": {
      "model_module": "@jupyter-widgets/base",
      "model_module_version": "1.2.0",
      "model_name": "LayoutModel",
      "state": {
       "display": "inline-flex",
       "flex_flow": "row wrap",
       "visibility": "hidden",
       "width": "100%"
      }
     },
     "c51e3a4fa7bd45a591156aedb0daaf8f": {
      "model_module": "@jupyter-widgets/controls",
      "model_module_version": "1.5.0",
      "model_name": "ProgressStyleModel",
      "state": {
       "description_width": ""
      }
     },
     "c5d3e4b1b0684496a8a00cd12981034e": {
      "model_module": "@jupyter-widgets/base",
      "model_module_version": "1.2.0",
      "model_name": "LayoutModel",
      "state": {
       "flex": "2"
      }
     },
     "c6bf3886e2b14ff4b0f0d7ddf59880dc": {
      "model_module": "@jupyter-widgets/controls",
      "model_module_version": "1.5.0",
      "model_name": "DescriptionStyleModel",
      "state": {
       "description_width": ""
      }
     },
     "c7004eb3225e4973adcd14ce05f80599": {
      "model_module": "@jupyter-widgets/base",
      "model_module_version": "1.2.0",
      "model_name": "LayoutModel",
      "state": {
       "display": "inline-flex",
       "flex_flow": "row wrap",
       "visibility": "hidden",
       "width": "100%"
      }
     },
     "c790b2342d484199b82b6196e888d245": {
      "model_module": "@jupyter-widgets/base",
      "model_module_version": "1.2.0",
      "model_name": "LayoutModel",
      "state": {
       "display": "inline-flex",
       "flex_flow": "row wrap",
       "visibility": "hidden",
       "width": "100%"
      }
     },
     "c8668337861647f3b91000b87153f35d": {
      "model_module": "@jupyter-widgets/base",
      "model_module_version": "1.2.0",
      "model_name": "LayoutModel",
      "state": {}
     },
     "c878f0b53bf94cefa94f346505e4eff0": {
      "model_module": "@jupyter-widgets/controls",
      "model_module_version": "1.5.0",
      "model_name": "ProgressStyleModel",
      "state": {
       "description_width": ""
      }
     },
     "c9d07b088a5043f4b94418e4ed9ad886": {
      "model_module": "@jupyter-widgets/base",
      "model_module_version": "1.2.0",
      "model_name": "LayoutModel",
      "state": {}
     },
     "cb7219be832944de80ead42db51b325e": {
      "model_module": "@jupyter-widgets/controls",
      "model_module_version": "1.5.0",
      "model_name": "HTMLModel",
      "state": {
       "layout": "IPY_MODEL_dd5ee23ca5fc46be9425b104f0435b42",
       "style": "IPY_MODEL_a3da105758b14ec3af93f06ef4e87903",
       "value": " 61/61 [00:25&lt;00:00,  2.35it/s]"
      }
     },
     "cbb96ca381b540da9d7340e7103fceb3": {
      "model_module": "@jupyter-widgets/controls",
      "model_module_version": "1.5.0",
      "model_name": "HTMLModel",
      "state": {
       "layout": "IPY_MODEL_8fe4dbbca0504fb78f93cc51835e33af",
       "style": "IPY_MODEL_f31fd00555c64acc8d44a3b4782d0905",
       "value": "Validation DataLoader 0: 100%"
      }
     },
     "ccab3c40366f48df8c1668d2f6a70643": {
      "model_module": "@jupyter-widgets/controls",
      "model_module_version": "1.5.0",
      "model_name": "HTMLModel",
      "state": {
       "layout": "IPY_MODEL_e4932823887947388277add2364b60f5",
       "style": "IPY_MODEL_fd3fac4c3e3e449da5002cf4cfe1754f",
       "value": " 61/61 [00:25&lt;00:00,  2.44it/s]"
      }
     },
     "cce47e34b5ef409192eb6567b4583a9d": {
      "model_module": "@jupyter-widgets/controls",
      "model_module_version": "1.5.0",
      "model_name": "HTMLModel",
      "state": {
       "layout": "IPY_MODEL_4f0c0f4412f0483aaddef58c310dec2d",
       "style": "IPY_MODEL_11078bbe4d4b40ad80a0ba6a9dce7993",
       "value": "Validation DataLoader 0: 100%"
      }
     },
     "cd6d7956dbde4126a7e49a8fbf60d9d8": {
      "model_module": "@jupyter-widgets/base",
      "model_module_version": "1.2.0",
      "model_name": "LayoutModel",
      "state": {}
     },
     "cd91c99e597a40a98d6a68c01aee9bca": {
      "model_module": "@jupyter-widgets/controls",
      "model_module_version": "1.5.0",
      "model_name": "ProgressStyleModel",
      "state": {
       "description_width": ""
      }
     },
     "d0f40488625144b1abdb6e863ab02f84": {
      "model_module": "@jupyter-widgets/controls",
      "model_module_version": "1.5.0",
      "model_name": "HTMLModel",
      "state": {
       "layout": "IPY_MODEL_41f4b537e4264284a1e9da35057538f1",
       "style": "IPY_MODEL_e38d6805d5e348cda65232861dcc157a",
       "value": " 61/61 [00:25&lt;00:00,  2.44it/s]"
      }
     },
     "d1236fb2408d40b09baa59efe7d2820c": {
      "model_module": "@jupyter-widgets/controls",
      "model_module_version": "1.5.0",
      "model_name": "DescriptionStyleModel",
      "state": {
       "description_width": ""
      }
     },
     "d32d051d9c1842859010fa03e6dd43c8": {
      "model_module": "@jupyter-widgets/controls",
      "model_module_version": "1.5.0",
      "model_name": "DescriptionStyleModel",
      "state": {
       "description_width": ""
      }
     },
     "d46aa9196e6442839347b5ad0b1dbb32": {
      "model_module": "@jupyter-widgets/base",
      "model_module_version": "1.2.0",
      "model_name": "LayoutModel",
      "state": {
       "flex": "2"
      }
     },
     "d48f3615236547309a715b586ee4693e": {
      "model_module": "@jupyter-widgets/base",
      "model_module_version": "1.2.0",
      "model_name": "LayoutModel",
      "state": {
       "flex": "2"
      }
     },
     "d5ba4548453446838916fbb5442bb979": {
      "model_module": "@jupyter-widgets/controls",
      "model_module_version": "1.5.0",
      "model_name": "DescriptionStyleModel",
      "state": {
       "description_width": ""
      }
     },
     "d6de1938207a4f1b895b049a320ba470": {
      "model_module": "@jupyter-widgets/controls",
      "model_module_version": "1.5.0",
      "model_name": "FloatProgressModel",
      "state": {
       "layout": "IPY_MODEL_a4555bced69a4ea69f475710df75d731",
       "max": 61,
       "style": "IPY_MODEL_8c468ebfdd994a68816e759f59875dcb",
       "value": 61
      }
     },
     "d7bf4edea8e34dae9b5ed5e5d0d711b8": {
      "model_module": "@jupyter-widgets/controls",
      "model_module_version": "1.5.0",
      "model_name": "FloatProgressModel",
      "state": {
       "layout": "IPY_MODEL_69311a300f714e159907ce6c92dd1e33",
       "max": 61,
       "style": "IPY_MODEL_35ff1379589a44a59238fda86f67a1a4",
       "value": 61
      }
     },
     "d7f727fe02164ecaa102dbb49e2926de": {
      "model_module": "@jupyter-widgets/controls",
      "model_module_version": "1.5.0",
      "model_name": "DescriptionStyleModel",
      "state": {
       "description_width": ""
      }
     },
     "d8d75e7d50ba4b23812f5836928ce1bd": {
      "model_module": "@jupyter-widgets/controls",
      "model_module_version": "1.5.0",
      "model_name": "DescriptionStyleModel",
      "state": {
       "description_width": ""
      }
     },
     "da774f9373e84f58ab504e65153da227": {
      "model_module": "@jupyter-widgets/controls",
      "model_module_version": "1.5.0",
      "model_name": "DescriptionStyleModel",
      "state": {
       "description_width": ""
      }
     },
     "dabef067a7d94f4dac48655f3fd5bbd1": {
      "model_module": "@jupyter-widgets/controls",
      "model_module_version": "1.5.0",
      "model_name": "ProgressStyleModel",
      "state": {
       "description_width": ""
      }
     },
     "db150277b454498ca779da573fa963bf": {
      "model_module": "@jupyter-widgets/controls",
      "model_module_version": "1.5.0",
      "model_name": "HTMLModel",
      "state": {
       "layout": "IPY_MODEL_eeee0e664fe54b8c99c60c69c4978013",
       "style": "IPY_MODEL_b8328b3940174aa9a59c2d7af96bcacf",
       "value": "Validation DataLoader 0: 100%"
      }
     },
     "dc194c506bcf410f874ef54b3c97fa24": {
      "model_module": "@jupyter-widgets/controls",
      "model_module_version": "1.5.0",
      "model_name": "DescriptionStyleModel",
      "state": {
       "description_width": ""
      }
     },
     "dcf1aae0996747bb948b7886b8a23b84": {
      "model_module": "@jupyter-widgets/base",
      "model_module_version": "1.2.0",
      "model_name": "LayoutModel",
      "state": {
       "display": "inline-flex",
       "flex_flow": "row wrap",
       "visibility": "hidden",
       "width": "100%"
      }
     },
     "dd5ee23ca5fc46be9425b104f0435b42": {
      "model_module": "@jupyter-widgets/base",
      "model_module_version": "1.2.0",
      "model_name": "LayoutModel",
      "state": {}
     },
     "dd90d1c344574f24bca1dc6cc93ccb5a": {
      "model_module": "@jupyter-widgets/base",
      "model_module_version": "1.2.0",
      "model_name": "LayoutModel",
      "state": {}
     },
     "de279ec6dd8042c29dd7e4bef09ea3f7": {
      "model_module": "@jupyter-widgets/base",
      "model_module_version": "1.2.0",
      "model_name": "LayoutModel",
      "state": {
       "flex": "2"
      }
     },
     "ded4377cc2924c12b1811b5ffb904b93": {
      "model_module": "@jupyter-widgets/base",
      "model_module_version": "1.2.0",
      "model_name": "LayoutModel",
      "state": {}
     },
     "dfbbe2a842d945e3a58b8f6143d6a651": {
      "model_module": "@jupyter-widgets/base",
      "model_module_version": "1.2.0",
      "model_name": "LayoutModel",
      "state": {
       "flex": "2"
      }
     },
     "e15a139be9f3442dadd4e7653ee26186": {
      "model_module": "@jupyter-widgets/controls",
      "model_module_version": "1.5.0",
      "model_name": "ProgressStyleModel",
      "state": {
       "description_width": ""
      }
     },
     "e1e715488f6b405d87dbc315b9464ef8": {
      "model_module": "@jupyter-widgets/base",
      "model_module_version": "1.2.0",
      "model_name": "LayoutModel",
      "state": {
       "flex": "2"
      }
     },
     "e38d6805d5e348cda65232861dcc157a": {
      "model_module": "@jupyter-widgets/controls",
      "model_module_version": "1.5.0",
      "model_name": "DescriptionStyleModel",
      "state": {
       "description_width": ""
      }
     },
     "e3bd1f46476f41f5a98228486269a61d": {
      "model_module": "@jupyter-widgets/controls",
      "model_module_version": "1.5.0",
      "model_name": "DescriptionStyleModel",
      "state": {
       "description_width": ""
      }
     },
     "e4932823887947388277add2364b60f5": {
      "model_module": "@jupyter-widgets/base",
      "model_module_version": "1.2.0",
      "model_name": "LayoutModel",
      "state": {}
     },
     "e7143c7dd4b545308c94d4363f57c016": {
      "model_module": "@jupyter-widgets/controls",
      "model_module_version": "1.5.0",
      "model_name": "DescriptionStyleModel",
      "state": {
       "description_width": ""
      }
     },
     "e77cc102d17d42769db37d0062fc044e": {
      "model_module": "@jupyter-widgets/controls",
      "model_module_version": "1.5.0",
      "model_name": "HTMLModel",
      "state": {
       "layout": "IPY_MODEL_2d3e369c00004b86bf8f7b636dd39abc",
       "style": "IPY_MODEL_5a52d9527eaf4b1b932f43369d0166d0",
       "value": "Validation DataLoader 0: 100%"
      }
     },
     "ea6b14a6fef849bb8e10d3e107ad08db": {
      "model_module": "@jupyter-widgets/controls",
      "model_module_version": "1.5.0",
      "model_name": "HTMLModel",
      "state": {
       "layout": "IPY_MODEL_96d2f34ff6924a28af340ddf99530583",
       "style": "IPY_MODEL_b99c4c932fab46e3b1606ddeea36771a",
       "value": " 61/61 [00:25&lt;00:00,  2.37it/s]"
      }
     },
     "ea9031addb804cc29c17398d056e05f1": {
      "model_module": "@jupyter-widgets/base",
      "model_module_version": "1.2.0",
      "model_name": "LayoutModel",
      "state": {
       "display": "inline-flex",
       "flex_flow": "row wrap",
       "width": "100%"
      }
     },
     "ebb53cea354f4d3c8ae3dd69f48d594b": {
      "model_module": "@jupyter-widgets/base",
      "model_module_version": "1.2.0",
      "model_name": "LayoutModel",
      "state": {
       "display": "inline-flex",
       "flex_flow": "row wrap",
       "width": "100%"
      }
     },
     "ed9a1aae8db9463983c45478c491dbf6": {
      "model_module": "@jupyter-widgets/base",
      "model_module_version": "1.2.0",
      "model_name": "LayoutModel",
      "state": {
       "display": "inline-flex",
       "flex_flow": "row wrap",
       "visibility": "hidden",
       "width": "100%"
      }
     },
     "edd1a8920fc644cb8a9c822296c7011f": {
      "model_module": "@jupyter-widgets/controls",
      "model_module_version": "1.5.0",
      "model_name": "HTMLModel",
      "state": {
       "layout": "IPY_MODEL_8d82dcc0695a45058519daca960caf3f",
       "style": "IPY_MODEL_4bed9da50a314c60955183703852c2e1",
       "value": "Validation DataLoader 0: 100%"
      }
     },
     "edef17a695b14c76a9df355e7f49b5c3": {
      "model_module": "@jupyter-widgets/controls",
      "model_module_version": "1.5.0",
      "model_name": "HBoxModel",
      "state": {
       "children": [
        "IPY_MODEL_52fd2a2e33a144b5bd2e371c493fa3a2",
        "IPY_MODEL_94c8a64859494073bb039c20799bb639",
        "IPY_MODEL_a0c11d0212f1415287e47dbfab133ab2"
       ],
       "layout": "IPY_MODEL_ea9031addb804cc29c17398d056e05f1"
      }
     },
     "ee15325aca54416daaaf0a483695db0b": {
      "model_module": "@jupyter-widgets/controls",
      "model_module_version": "1.5.0",
      "model_name": "HTMLModel",
      "state": {
       "layout": "IPY_MODEL_2eda37528e9f4283b0ee2dd23c4be838",
       "style": "IPY_MODEL_c6bf3886e2b14ff4b0f0d7ddf59880dc",
       "value": "Validation DataLoader 0: 100%"
      }
     },
     "eeee0e664fe54b8c99c60c69c4978013": {
      "model_module": "@jupyter-widgets/base",
      "model_module_version": "1.2.0",
      "model_name": "LayoutModel",
      "state": {}
     },
     "f15247c889e5430eb2db4cc82076b5e2": {
      "model_module": "@jupyter-widgets/base",
      "model_module_version": "1.2.0",
      "model_name": "LayoutModel",
      "state": {}
     },
     "f31fd00555c64acc8d44a3b4782d0905": {
      "model_module": "@jupyter-widgets/controls",
      "model_module_version": "1.5.0",
      "model_name": "DescriptionStyleModel",
      "state": {
       "description_width": ""
      }
     },
     "f348adc52ec54fb78ce45c927d398505": {
      "model_module": "@jupyter-widgets/controls",
      "model_module_version": "1.5.0",
      "model_name": "DescriptionStyleModel",
      "state": {
       "description_width": ""
      }
     },
     "f34c10f742894576b41310f9569e1c51": {
      "model_module": "@jupyter-widgets/controls",
      "model_module_version": "1.5.0",
      "model_name": "ProgressStyleModel",
      "state": {
       "description_width": ""
      }
     },
     "f35af2ac70fb4ffda4c23c021d802f86": {
      "model_module": "@jupyter-widgets/controls",
      "model_module_version": "1.5.0",
      "model_name": "DescriptionStyleModel",
      "state": {
       "description_width": ""
      }
     },
     "f449923a18d4474d9babf1990d008500": {
      "model_module": "@jupyter-widgets/controls",
      "model_module_version": "1.5.0",
      "model_name": "HTMLModel",
      "state": {
       "layout": "IPY_MODEL_55e0beba508549e494746e7e52640d48",
       "style": "IPY_MODEL_f35af2ac70fb4ffda4c23c021d802f86",
       "value": "Validation DataLoader 0: 100%"
      }
     },
     "f4c34a9de405450aa27cd8b584509f1a": {
      "model_module": "@jupyter-widgets/base",
      "model_module_version": "1.2.0",
      "model_name": "LayoutModel",
      "state": {}
     },
     "f4e6ae5e68d7487c98f349f5e5da600c": {
      "model_module": "@jupyter-widgets/controls",
      "model_module_version": "1.5.0",
      "model_name": "ProgressStyleModel",
      "state": {
       "description_width": ""
      }
     },
     "f5f926f77e7049afa81824792183b209": {
      "model_module": "@jupyter-widgets/base",
      "model_module_version": "1.2.0",
      "model_name": "LayoutModel",
      "state": {
       "flex": "2"
      }
     },
     "f6281c34aef04aea8c2fda0fd79e5cc8": {
      "model_module": "@jupyter-widgets/controls",
      "model_module_version": "1.5.0",
      "model_name": "DescriptionStyleModel",
      "state": {
       "description_width": ""
      }
     },
     "f74e21bc0d254e36a4c7cbddf8b0676e": {
      "model_module": "@jupyter-widgets/controls",
      "model_module_version": "1.5.0",
      "model_name": "FloatProgressModel",
      "state": {
       "layout": "IPY_MODEL_55255aeec5764e838d2956efd4a0559c",
       "max": 61,
       "style": "IPY_MODEL_cd91c99e597a40a98d6a68c01aee9bca",
       "value": 61
      }
     },
     "f7ae4e6a7bb74d61b27cdb3d546b8d49": {
      "model_module": "@jupyter-widgets/controls",
      "model_module_version": "1.5.0",
      "model_name": "FloatProgressModel",
      "state": {
       "layout": "IPY_MODEL_4e2300114f2c4ea683692b3ffdcfb738",
       "max": 61,
       "style": "IPY_MODEL_90be8f985ae041ff9bc175b18ee39ea3",
       "value": 61
      }
     },
     "fc25fcd1b9134b468865c493d18c807a": {
      "model_module": "@jupyter-widgets/base",
      "model_module_version": "1.2.0",
      "model_name": "LayoutModel",
      "state": {}
     },
     "fc65ff2d567c473295cb384491b8015d": {
      "model_module": "@jupyter-widgets/controls",
      "model_module_version": "1.5.0",
      "model_name": "HTMLModel",
      "state": {
       "layout": "IPY_MODEL_c8668337861647f3b91000b87153f35d",
       "style": "IPY_MODEL_456af2e2608645a78db94a765f2652f4",
       "value": "Validation DataLoader 0: 100%"
      }
     },
     "fd3fac4c3e3e449da5002cf4cfe1754f": {
      "model_module": "@jupyter-widgets/controls",
      "model_module_version": "1.5.0",
      "model_name": "DescriptionStyleModel",
      "state": {
       "description_width": ""
      }
     },
     "ff007897ffab49aa98b2d1a010e7253b": {
      "model_module": "@jupyter-widgets/controls",
      "model_module_version": "1.5.0",
      "model_name": "HTMLModel",
      "state": {
       "layout": "IPY_MODEL_03a5c81c6e9449728651ac6a85d8dab2",
       "style": "IPY_MODEL_1c971d7911634eef92b6b2b29bd9ef09",
       "value": " 61/61 [00:25&lt;00:00,  2.44it/s]"
      }
     },
     "ff17620231354b7b953d483027c03725": {
      "model_module": "@jupyter-widgets/base",
      "model_module_version": "1.2.0",
      "model_name": "LayoutModel",
      "state": {
       "flex": "2"
      }
     },
     "ffbad4090c164e3986cc76efec2819ac": {
      "model_module": "@jupyter-widgets/controls",
      "model_module_version": "1.5.0",
      "model_name": "DescriptionStyleModel",
      "state": {
       "description_width": ""
      }
     },
     "ffd9a45bece0432fa89b2d71f28a5d42": {
      "model_module": "@jupyter-widgets/controls",
      "model_module_version": "1.5.0",
      "model_name": "ProgressStyleModel",
      "state": {
       "description_width": ""
      }
     }
    },
    "version_major": 2,
    "version_minor": 0
   }
  }
 },
 "nbformat": 4,
 "nbformat_minor": 5
}
