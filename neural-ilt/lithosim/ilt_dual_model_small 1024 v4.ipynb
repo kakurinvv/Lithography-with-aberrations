{
 "cells": [
  {
   "cell_type": "code",
   "execution_count": 1,
   "id": "ea72e0f0",
   "metadata": {
    "id": "ea72e0f0"
   },
   "outputs": [],
   "source": [
    "import os\n",
    "import torch\n",
    "torch.manual_seed(int(1e9+7e7+17+3))\n",
    "from torch.utils.data import DataLoader\n",
    "from matplotlib import pyplot as plt\n",
    "# %matplotlib widget\n",
    "from pytorch_lightning import Trainer\n",
    "from pytorch_lightning.callbacks import ModelCheckpoint\n",
    "from pytorch_lightning.loggers import TensorBoardLogger\n",
    "from torch.utils.data import random_split\n",
    "from ilt_data import PNGFolderDataset, tensor_to_image\n",
    "from ilt_model import DualLithoZernikeRegressor\n",
    "# torch.multiprocessing.set_start_method('spawn') # extremely slow\n",
    "# import warnings\n",
    "# warnings.filterwarnings('ignore', category=UserWarning, message='Torchinductor does not support code generation for complex operators. Performance may be worse than eager.')"
   ]
  },
  {
   "cell_type": "code",
   "execution_count": null,
   "id": "1a147bb5",
   "metadata": {},
   "outputs": [],
   "source": [
    "DATASET_ROOT = os.path.join('..', 'dataset', 'train_layouts')\n",
    "workers = 4\n",
    "device = torch.device('cuda' if torch.cuda.is_available() else 'cpu')\n",
    "dataset_device=torch.device('cuda' if torch.cuda.is_available() else 'cpu')"
   ]
  },
  {
   "cell_type": "code",
   "execution_count": null,
   "id": "abc88b28",
   "metadata": {
    "id": "abc88b28"
   },
   "outputs": [],
   "source": [
    "def make_dataloaders(root, batch_size=16, num_zernike=20, split=0.8, workers=1, load_all_to_ram=False):\n",
    "    dataset = PNGFolderDataset(root, N_zernike=num_zernike, image_size=1024, aberr_max=3.,\n",
    "                               device=dataset_device, load_all_to_ram=load_all_to_ram, num_threads=workers)\n",
    "    train_size = int(split * len(dataset))\n",
    "    val_size = len(dataset) - train_size\n",
    "    train_dataset, val_dataset = random_split(dataset, [train_size, val_size])\n",
    "    train_loader = DataLoader(train_dataset, batch_size=batch_size, shuffle=True, num_workers=workers)\n",
    "    val_loader = DataLoader(val_dataset, batch_size=batch_size, shuffle=False, num_workers=workers)\n",
    "    return train_loader, val_loader, dataset"
   ]
  },
  {
   "cell_type": "markdown",
   "id": "559c2042-a843-4a50-b570-347afd58b1d9",
   "metadata": {},
   "source": [
    "## Train"
   ]
  },
  {
   "cell_type": "code",
   "execution_count": 4,
   "id": "5c55a1d1",
   "metadata": {
    "id": "5c55a1d1"
   },
   "outputs": [
    {
     "name": "stdout",
     "output_type": "stream",
     "text": [
      "Aberrations: Z=[-4.9512852e-03 -1.5235330e+00  6.8338931e-02 -2.0413927e-03\n",
      "  4.0928188e-01  1.8809472e-09 -1.2622718e-02 -1.0122241e+00\n",
      " -6.1333994e-04  8.7409794e-02 -8.3820206e-01  7.2876946e-04\n",
      "  3.3703260e-02 -2.1457700e-01  1.2451756e-01]\n"
     ]
    },
    {
     "data": {
      "image/png": "[encoded data removed]",
      "text/plain": [
       "<Figure size 1200x500 with 2 Axes>"
      ]
     },
     "metadata": {},
     "output_type": "display_data"
    }
   ],
   "source": [
    "train_loader, val_loader, dataset = make_dataloaders(DATASET_ROOT, batch_size=1, num_zernike=15, workers=0)\n",
    "a = next(iter(train_loader))\n",
    "i = 0\n",
    "\n",
    "fig = plt.figure(figsize=(12,5))\n",
    "ax = plt.subplot(1,2,1)\n",
    "plt.imshow(dataset.intensity_tensor_to_image(a[0][i][0]))\n",
    "ax.set_title(\"Design\")\n",
    "ax = plt.subplot(1,2,2)\n",
    "plt.imshow(dataset.intensity_tensor_to_image(a[0][i][1]))\n",
    "ax.set_title(\"Aberrated\")\n",
    "print(f\"Aberrations: Z={a[1][i].cpu().numpy()}\")\n",
    "plt.show()"
   ]
  },
  {
   "cell_type": "code",
   "execution_count": null,
   "id": "6f25737a",
   "metadata": {
    "id": "6f25737a",
    "tags": []
   },
   "outputs": [
    {
     "name": "stderr",
     "output_type": "stream",
     "text": [
      "Caching images: 100%|██████████| 4875/4875 [01:29<00:00, 54.69it/s]\n",
      "/home/vvkakurin/.conda/envs/SK/lib/python3.11/site-packages/torchvision/models/_utils.py:208: UserWarning: The parameter 'pretrained' is deprecated since 0.13 and may be removed in the future, please use 'weights' instead.\n",
      "  warnings.warn(\n",
      "/home/vvkakurin/.conda/envs/SK/lib/python3.11/site-packages/torchvision/models/_utils.py:223: UserWarning: Arguments other than a weight enum or `None` for 'weights' are deprecated since 0.13 and may be removed in the future. The current behavior is equivalent to passing `weights=MobileNet_V3_Large_Weights.IMAGENET1K_V1`. You can also use `weights=MobileNet_V3_Large_Weights.DEFAULT` to get the most up-to-date weights.\n",
      "  warnings.warn(msg)\n",
      "Using 16bit Automatic Mixed Precision (AMP)\n",
      "GPU available: True (cuda), used: True\n",
      "TPU available: False, using: 0 TPU cores\n",
      "HPU available: False, using: 0 HPUs\n",
      "/home/vvkakurin/.conda/envs/SK/lib/python3.11/site-packages/pytorch_lightning/callbacks/model_checkpoint.py:658: Checkpoint directory ./lightning_logs/Dual Mobilenet_v3 1024 v4/checkpoints exists and is not empty.\n",
      "Restoring states from the checkpoint path at lightning_logs/Dual Mobilenet_v3 1024 v4/checkpoints/best-model.ckpt\n",
      "LOCAL_RANK: 0 - CUDA_VISIBLE_DEVICES: [0]\n",
      "Loading `train_dataloader` to estimate number of stepping batches.\n",
      "/home/vvkakurin/.conda/envs/SK/lib/python3.11/site-packages/pytorch_lightning/trainer/connectors/data_connector.py:425: The 'train_dataloader' does not have many workers which may be a bottleneck. Consider increasing the value of the `num_workers` argument` to `num_workers=3` in the `DataLoader` to improve performance.\n",
      "\n",
      "  | Name     | Type        | Params | Mode \n",
      "-------------------------------------------------\n",
      "0 | sim      | LTSimulator | 0      | train\n",
      "1 | backbone | MobileNetV3 | 4.2 M  | train\n",
      "-------------------------------------------------\n",
      "4.2 M     Trainable params\n",
      "0         Non-trainable params\n",
      "4.2 M     Total params\n",
      "16.961    Total estimated model params size (MB)\n",
      "256       Modules in train mode\n",
      "0         Modules in eval mode\n",
      "Restored all states from the checkpoint at lightning_logs/Dual Mobilenet_v3 1024 v4/checkpoints/best-model.ckpt\n",
      "SLURM auto-requeueing enabled. Setting signal handlers.\n"
     ]
    },
    {
     "data": {
      "application/vnd.jupyter.widget-view+json": {
       "model_id": "",
       "version_major": 2,
       "version_minor": 0
      },
      "text/plain": [
       "Sanity Checking: |          | 0/? [00:00<?, ?it/s]"
      ]
     },
     "metadata": {},
     "output_type": "display_data"
    },
    {
     "name": "stderr",
     "output_type": "stream",
     "text": [
      "/home/vvkakurin/.conda/envs/SK/lib/python3.11/site-packages/pytorch_lightning/trainer/connectors/data_connector.py:425: The 'val_dataloader' does not have many workers which may be a bottleneck. Consider increasing the value of the `num_workers` argument` to `num_workers=3` in the `DataLoader` to improve performance.\n"
     ]
    },
    {
     "data": {
      "application/vnd.jupyter.widget-view+json": {
       "model_id": "fd1b755e6794454588736dabd1671d3b",
       "version_major": 2,
       "version_minor": 0
      },
      "text/plain": [
       "Training: |          | 0/? [00:00<?, ?it/s]"
      ]
     },
     "metadata": {},
     "output_type": "display_data"
    },
    {
     "data": {
      "application/vnd.jupyter.widget-view+json": {
       "model_id": "",
       "version_major": 2,
       "version_minor": 0
      },
      "text/plain": [
       "Validation: |          | 0/? [00:00<?, ?it/s]"
      ]
     },
     "metadata": {},
     "output_type": "display_data"
    },
    {
     "data": {
      "application/vnd.jupyter.widget-view+json": {
       "model_id": "",
       "version_major": 2,
       "version_minor": 0
      },
      "text/plain": [
       "Validation: |          | 0/? [00:00<?, ?it/s]"
      ]
     },
     "metadata": {},
     "output_type": "display_data"
    },
    {
     "data": {
      "application/vnd.jupyter.widget-view+json": {
       "model_id": "",
       "version_major": 2,
       "version_minor": 0
      },
      "text/plain": [
       "Validation: |          | 0/? [00:00<?, ?it/s]"
      ]
     },
     "metadata": {},
     "output_type": "display_data"
    },
    {
     "data": {
      "application/vnd.jupyter.widget-view+json": {
       "model_id": "",
       "version_major": 2,
       "version_minor": 0
      },
      "text/plain": [
       "Validation: |          | 0/? [00:00<?, ?it/s]"
      ]
     },
     "metadata": {},
     "output_type": "display_data"
    },
    {
     "data": {
      "application/vnd.jupyter.widget-view+json": {
       "model_id": "",
       "version_major": 2,
       "version_minor": 0
      },
      "text/plain": [
       "Validation: |          | 0/? [00:00<?, ?it/s]"
      ]
     },
     "metadata": {},
     "output_type": "display_data"
    },
    {
     "data": {
      "application/vnd.jupyter.widget-view+json": {
       "model_id": "",
       "version_major": 2,
       "version_minor": 0
      },
      "text/plain": [
       "Validation: |          | 0/? [00:00<?, ?it/s]"
      ]
     },
     "metadata": {},
     "output_type": "display_data"
    },
    {
     "data": {
      "application/vnd.jupyter.widget-view+json": {
       "model_id": "",
       "version_major": 2,
       "version_minor": 0
      },
      "text/plain": [
       "Validation: |          | 0/? [00:00<?, ?it/s]"
      ]
     },
     "metadata": {},
     "output_type": "display_data"
    },
    {
     "data": {
      "application/vnd.jupyter.widget-view+json": {
       "model_id": "",
       "version_major": 2,
       "version_minor": 0
      },
      "text/plain": [
       "Validation: |          | 0/? [00:00<?, ?it/s]"
      ]
     },
     "metadata": {},
     "output_type": "display_data"
    },
    {
     "data": {
      "application/vnd.jupyter.widget-view+json": {
       "model_id": "",
       "version_major": 2,
       "version_minor": 0
      },
      "text/plain": [
       "Validation: |          | 0/? [00:00<?, ?it/s]"
      ]
     },
     "metadata": {},
     "output_type": "display_data"
    },
    {
     "data": {
      "application/vnd.jupyter.widget-view+json": {
       "model_id": "",
       "version_major": 2,
       "version_minor": 0
      },
      "text/plain": [
       "Validation: |          | 0/? [00:00<?, ?it/s]"
      ]
     },
     "metadata": {},
     "output_type": "display_data"
    },
    {
     "data": {
      "application/vnd.jupyter.widget-view+json": {
       "model_id": "",
       "version_major": 2,
       "version_minor": 0
      },
      "text/plain": [
       "Validation: |          | 0/? [00:00<?, ?it/s]"
      ]
     },
     "metadata": {},
     "output_type": "display_data"
    },
    {
     "data": {
      "application/vnd.jupyter.widget-view+json": {
       "model_id": "",
       "version_major": 2,
       "version_minor": 0
      },
      "text/plain": [
       "Validation: |          | 0/? [00:00<?, ?it/s]"
      ]
     },
     "metadata": {},
     "output_type": "display_data"
    },
    {
     "data": {
      "application/vnd.jupyter.widget-view+json": {
       "model_id": "",
       "version_major": 2,
       "version_minor": 0
      },
      "text/plain": [
       "Validation: |          | 0/? [00:00<?, ?it/s]"
      ]
     },
     "metadata": {},
     "output_type": "display_data"
    },
    {
     "data": {
      "application/vnd.jupyter.widget-view+json": {
       "model_id": "",
       "version_major": 2,
       "version_minor": 0
      },
      "text/plain": [
       "Validation: |          | 0/? [00:00<?, ?it/s]"
      ]
     },
     "metadata": {},
     "output_type": "display_data"
    },
    {
     "data": {
      "application/vnd.jupyter.widget-view+json": {
       "model_id": "",
       "version_major": 2,
       "version_minor": 0
      },
      "text/plain": [
       "Validation: |          | 0/? [00:00<?, ?it/s]"
      ]
     },
     "metadata": {},
     "output_type": "display_data"
    },
    {
     "data": {
      "application/vnd.jupyter.widget-view+json": {
       "model_id": "",
       "version_major": 2,
       "version_minor": 0
      },
      "text/plain": [
       "Validation: |          | 0/? [00:00<?, ?it/s]"
      ]
     },
     "metadata": {},
     "output_type": "display_data"
    },
    {
     "data": {
      "application/vnd.jupyter.widget-view+json": {
       "model_id": "",
       "version_major": 2,
       "version_minor": 0
      },
      "text/plain": [
       "Validation: |          | 0/? [00:00<?, ?it/s]"
      ]
     },
     "metadata": {},
     "output_type": "display_data"
    },
    {
     "data": {
      "application/vnd.jupyter.widget-view+json": {
       "model_id": "",
       "version_major": 2,
       "version_minor": 0
      },
      "text/plain": [
       "Validation: |          | 0/? [00:00<?, ?it/s]"
      ]
     },
     "metadata": {},
     "output_type": "display_data"
    },
    {
     "data": {
      "application/vnd.jupyter.widget-view+json": {
       "model_id": "",
       "version_major": 2,
       "version_minor": 0
      },
      "text/plain": [
       "Validation: |          | 0/? [00:00<?, ?it/s]"
      ]
     },
     "metadata": {},
     "output_type": "display_data"
    },
    {
     "data": {
      "application/vnd.jupyter.widget-view+json": {
       "model_id": "",
       "version_major": 2,
       "version_minor": 0
      },
      "text/plain": [
       "Validation: |          | 0/? [00:00<?, ?it/s]"
      ]
     },
     "metadata": {},
     "output_type": "display_data"
    },
    {
     "data": {
      "application/vnd.jupyter.widget-view+json": {
       "model_id": "",
       "version_major": 2,
       "version_minor": 0
      },
      "text/plain": [
       "Validation: |          | 0/? [00:00<?, ?it/s]"
      ]
     },
     "metadata": {},
     "output_type": "display_data"
    },
    {
     "data": {
      "application/vnd.jupyter.widget-view+json": {
       "model_id": "",
       "version_major": 2,
       "version_minor": 0
      },
      "text/plain": [
       "Validation: |          | 0/? [00:00<?, ?it/s]"
      ]
     },
     "metadata": {},
     "output_type": "display_data"
    },
    {
     "data": {
      "application/vnd.jupyter.widget-view+json": {
       "model_id": "",
       "version_major": 2,
       "version_minor": 0
      },
      "text/plain": [
       "Validation: |          | 0/? [00:00<?, ?it/s]"
      ]
     },
     "metadata": {},
     "output_type": "display_data"
    },
    {
     "data": {
      "application/vnd.jupyter.widget-view+json": {
       "model_id": "",
       "version_major": 2,
       "version_minor": 0
      },
      "text/plain": [
       "Validation: |          | 0/? [00:00<?, ?it/s]"
      ]
     },
     "metadata": {},
     "output_type": "display_data"
    },
    {
     "data": {
      "application/vnd.jupyter.widget-view+json": {
       "model_id": "",
       "version_major": 2,
       "version_minor": 0
      },
      "text/plain": [
       "Validation: |          | 0/? [00:00<?, ?it/s]"
      ]
     },
     "metadata": {},
     "output_type": "display_data"
    },
    {
     "data": {
      "application/vnd.jupyter.widget-view+json": {
       "model_id": "",
       "version_major": 2,
       "version_minor": 0
      },
      "text/plain": [
       "Validation: |          | 0/? [00:00<?, ?it/s]"
      ]
     },
     "metadata": {},
     "output_type": "display_data"
    },
    {
     "data": {
      "application/vnd.jupyter.widget-view+json": {
       "model_id": "",
       "version_major": 2,
       "version_minor": 0
      },
      "text/plain": [
       "Validation: |          | 0/? [00:00<?, ?it/s]"
      ]
     },
     "metadata": {},
     "output_type": "display_data"
    }
   ],
   "source": [
    "# -------- 4. Training --------\n",
    "\"mobilenet_v3_small\" # 1.5 M / 1.06 m\n",
    "\"mobilenet_v3_large\" # 4.2 M / 1.13 m\n",
    "\"efficientnet_b0\"    # 4.0 M / 1.45 m\n",
    "\"efficientnet_b2\"    # 7.7 M\n",
    "train_loader, val_loader, dataset = make_dataloaders(DATASET_ROOT, batch_size=16, num_zernike=15, workers=0, load_all_to_ram=True)\n",
    "warmup_epochs = 1\n",
    "accumulate_grad_batches = 8\n",
    "warmup_steps = warmup_epochs * len(train_loader) / accumulate_grad_batches\n",
    "model = DualLithoZernikeRegressor(\"mobilenet_v3_large\", num_zernike=15, lr=1e-3, warmup_steps=warmup_steps)\n",
    "# model = DualLithoZernikeRegressor.load_from_checkpoint(\n",
    "# \"lightning_logs/Dual Mobilenet_v3 1024 v3/checkpoints/best-model.ckpt\")\n",
    "checkpoint_callback = ModelCheckpoint(\n",
    "    monitor='val_loss',\n",
    "    save_top_k=1,\n",
    "    mode='min',\n",
    "    filename='best-model'\n",
    ")\n",
    "logger = TensorBoardLogger(\".\", name=\"lightning_logs\", version=\"Dual Mobilenet_v3 1024 v4\")\n",
    "\n",
    "trainer = Trainer(max_epochs=100, accelerator=\"auto\", callbacks=[checkpoint_callback],\n",
    "                  accumulate_grad_batches = accumulate_grad_batches, #gradient_clip_val=1.,\n",
    "                  logger=logger,\n",
    "                  precision=\"16-mixed\",\n",
    "                  # devices=[1],\n",
    "          )\n",
    "trainer.fit(model, train_loader, val_loader, ckpt_path=\"lightning_logs/Dual Mobilenet_v3 1024 v4/checkpoints/best-model.ckpt\")"
   ]
  },
  {
   "cell_type": "code",
   "execution_count": null,
   "id": "82fcb4b6",
   "metadata": {},
   "outputs": [],
   "source": [
    "final_val_loss = trainer.callback_metrics['val_loss'].item()\n",
    "print('Final validation loss:', final_val_loss)"
   ]
  },
  {
   "cell_type": "code",
   "execution_count": null,
   "id": "f2ba9fe4",
   "metadata": {},
   "outputs": [],
   "source": [
    "# assert False"
   ]
  },
  {
   "cell_type": "markdown",
   "id": "6e8a4604",
   "metadata": {
    "tags": []
   },
   "source": [
    "## Test"
   ]
  },
  {
   "cell_type": "code",
   "execution_count": null,
   "id": "0158bdca",
   "metadata": {},
   "outputs": [],
   "source": [
    "batch = next(iter(val_loader))\n",
    "device = torch.device('cuda' if torch.cuda.is_available() else 'cpu')\n",
    "imgs, z_true = batch\n",
    "imgs, z_true = imgs[:8].to(device), z_true[:8].to(device)"
   ]
  },
  {
   "cell_type": "code",
   "execution_count": null,
   "id": "86707d24",
   "metadata": {},
   "outputs": [],
   "source": [
    "model.to(device)\n",
    "litho_aberr_imgs = imgs[:, 1:]\n",
    "z_preds, z_rev_preds = model(litho_aberr_imgs)\n",
    "print(z_preds[0], z_true[0], z_rev_preds[0], sep='\\n')"
   ]
  },
  {
   "cell_type": "code",
   "execution_count": null,
   "id": "0aa7f11f",
   "metadata": {},
   "outputs": [],
   "source": [
    "design_imgs, litho_imgs, aberr_imgs = torch.split(imgs, 1, dim=1) # [B, 3, H, W] -> [B, (1, 1, 1), H, W]\n",
    "with torch.autocast(device_type=device.type):\n",
    "    modelled_imgs = model.sim.run_lithosim(design_imgs, zernike_coeffs=z_preds)\n",
    "    reconstructed_imgs = model.sim.run_lithosim(aberr_imgs, zernike_coeffs=z_rev_preds)"
   ]
  },
  {
   "cell_type": "code",
   "execution_count": null,
   "id": "e70fde56",
   "metadata": {},
   "outputs": [],
   "source": [
    "for i in range(imgs.shape[0]):\n",
    "\n",
    "    fig = plt.figure(figsize=(14,4))\n",
    "    ax = plt.subplot(1,4,1)\n",
    "    plt.imshow(tensor_to_image(litho_imgs[i]), cmap='inferno')\n",
    "    ax.set_title(f\"Design (aerial) {i+1}\")\n",
    "    ax = plt.subplot(1,4,2)\n",
    "    plt.imshow(tensor_to_image(reconstructed_imgs[i]), cmap='inferno')\n",
    "    ax.set_title(f\"Reconstructed {i+1}\")\n",
    "    ax = plt.subplot(1,4,3)\n",
    "    plt.imshow(tensor_to_image(aberr_imgs[i]), cmap='inferno')\n",
    "    ax.set_title(f\"Aberrated {i+1}\")\n",
    "    ax = plt.subplot(1,4,4)\n",
    "    plt.imshow(tensor_to_image(modelled_imgs[i]), cmap='inferno')\n",
    "    ax.set_title(f\"Modelled {i+1}\")\n",
    "    print(f\"Aberrations: Z={z_true[i].cpu().numpy()}\", \n",
    "          f\"Preds={z_preds[i].detach().cpu().numpy()}\", \n",
    "          f\"Inverse={z_rev_preds[i].detach().cpu().numpy()}\")\n",
    "    plt.show()"
   ]
  },
  {
   "cell_type": "code",
   "execution_count": null,
   "id": "3f3d007d",
   "metadata": {},
   "outputs": [],
   "source": [
    "plt.plot(tensor_to_image(litho_imgs[0])[220])\n",
    "plt.plot(tensor_to_image(aberr_imgs[0])[220])"
   ]
  },
  {
   "cell_type": "code",
   "execution_count": null,
   "id": "122c7c14",
   "metadata": {},
   "outputs": [],
   "source": [
    "for i in range(imgs.shape[0]):\n",
    "\n",
    "    fig = plt.figure(figsize=(14,4))\n",
    "    ax = plt.subplot(1,3,1)\n",
    "    plt.imshow(dataset.intensity_tensor_to_image(design_imgs[i]))\n",
    "    ax.set_title(f\"Design {i+1}\")\n",
    "    ax = plt.subplot(1,3,2)\n",
    "    plt.imshow(dataset.intensity_tensor_to_image(aberr_imgs[i]))\n",
    "    ax.set_title(f\"Aberrated {i+1}\")\n",
    "    ax = plt.subplot(1,3,3)\n",
    "    plt.imshow(dataset.intensity_tensor_to_image(modelled_imgs[i]))\n",
    "    ax.set_title(f\"Reconstructed {i+1}\")\n",
    "    print(f\"Aberrations: Z={z_true[i].cpu().numpy()}\\nPreds={z_preds[i].detach().cpu().numpy()}\")\n",
    "    plt.show()"
   ]
  },
  {
   "cell_type": "code",
   "execution_count": null,
   "id": "560ca95f",
   "metadata": {},
   "outputs": [],
   "source": [
    "modelling_loss = model.loss_func(modelled_imgs, aberr_imgs)\n",
    "reconstruction_loss = model.loss_func(reconstructed_imgs, litho_imgs)\n",
    "modelling_loss, reconstruction_loss"
   ]
  },
  {
   "cell_type": "code",
   "execution_count": null,
   "id": "564fcd4b",
   "metadata": {},
   "outputs": [],
   "source": [
    "for i in range(imgs.shape[0]):\n",
    "\n",
    "    fig = plt.figure(figsize=(14,4))\n",
    "    ax = plt.subplot(1,2,1)\n",
    "    plt.imshow(tensor_to_image(torch.abs(litho_imgs[i] - reconstructed_imgs[i])), cmap='inferno')\n",
    "    plt.colorbar()\n",
    "    ax.set_title(f\"||Design - Reconstructed|| {i+1}\")\n",
    "    ax = plt.subplot(1,2,2)\n",
    "    plt.imshow(tensor_to_image(torch.abs(aberr_imgs[i] - modelled_imgs[i])), cmap='inferno')\n",
    "    plt.colorbar()\n",
    "    ax.set_title(f\"||Aberrated - Modelled|| {i+1}\")\n",
    "    print(f\"Aberrations: Z={z_true[i].cpu().numpy()}\", \n",
    "          f\"Preds={z_preds[i].detach().cpu().numpy()}\", \n",
    "          f\"Inverse={z_rev_preds[i].detach().cpu().numpy()}\", sep='\\n')\n",
    "    plt.show()"
   ]
  },
  {
   "cell_type": "code",
   "execution_count": null,
   "id": "e47c22b9-3881-4832-af09-fbc479bd03b0",
   "metadata": {
    "tags": []
   },
   "outputs": [],
   "source": [
    "final_val_loss = trainer.callback_metrics['val_loss'].item()\n",
    "print('Final validation loss:', final_val_loss)\n",
    "\n",
    "print('Best model saved at:', checkpoint_callback.best_model_path)\n",
    "\n",
    "torch.save(model.state_dict(), 'Dual Mobilenet_v3 1024 v4.pt')"
   ]
  }
 ],
 "metadata": {
  "accelerator": "GPU",
  "colab": {
   "gpuType": "T4",
   "provenance": []
  },
  "kaggle": {
   "accelerator": "gpu",
   "dataSources": [
    {
     "datasetId": 7719098,
     "sourceId": 12250816,
     "sourceType": "datasetVersion"
    }
   ],
   "dockerImageVersionId": 31041,
   "isGpuEnabled": true,
   "isInternetEnabled": true,
   "language": "python",
   "sourceType": "notebook"
  },
  "kernelspec": {
   "display_name": "Python [.conda-SK]",
   "language": "python",
   "name": "conda-env-.conda-SK-py"
  },
  "language_info": {
   "codemirror_mode": {
    "name": "ipython",
    "version": 3
   },
   "file_extension": ".py",
   "mimetype": "text/x-python",
   "name": "python",
   "nbconvert_exporter": "python",
   "pygments_lexer": "ipython3",
   "version": "3.11.13"
  },
  "widgets": {
   "application/vnd.jupyter.widget-state+json": {
    "state": {
     "01b301d5a2304ec5b048e4e0e60ac5fd": {
      "model_module": "@jupyter-widgets/controls",
      "model_module_version": "1.5.0",
      "model_name": "DescriptionStyleModel",
      "state": {
       "description_width": ""
      }
     },
     "021a3bd91298453299c2bbc291fae3d3": {
      "model_module": "@jupyter-widgets/controls",
      "model_module_version": "1.5.0",
      "model_name": "ProgressStyleModel",
      "state": {
       "description_width": ""
      }
     },
     "0253aa5133544d628af5d2aba511aca9": {
      "model_module": "@jupyter-widgets/base",
      "model_module_version": "1.2.0",
      "model_name": "LayoutModel",
      "state": {}
     },
     "0355d340a98b47bcbb0c313279ad3baa": {
      "model_module": "@jupyter-widgets/controls",
      "model_module_version": "1.5.0",
      "model_name": "FloatProgressModel",
      "state": {
       "layout": "IPY_MODEL_ad4a0f56a62f4ccd82e3071f95a8d4c7",
       "max": 61,
       "style": "IPY_MODEL_7b11f8fe1a2a4cf8987538a477e08d1b",
       "value": 61
      }
     },
     "04cf61b827894f8fb377398efc636cff": {
      "model_module": "@jupyter-widgets/controls",
      "model_module_version": "1.5.0",
      "model_name": "HTMLModel",
      "state": {
       "layout": "IPY_MODEL_ee39fb183cf14a738e7067a7b56258ee",
       "style": "IPY_MODEL_fceb3368968a4e28990c5db096bd9bf1",
       "value": "Validation DataLoader 0: 100%"
      }
     },
     "054287196667415b887e7f13264416e7": {
      "model_module": "@jupyter-widgets/controls",
      "model_module_version": "1.5.0",
      "model_name": "HTMLModel",
      "state": {
       "layout": "IPY_MODEL_2eb9e3dcf2fa4ceb8b222b0c084a5d03",
       "style": "IPY_MODEL_31937298f65d44e29208326d7b9cdfb4",
       "value": "Validation DataLoader 0: 100%"
      }
     },
     "0553ad2b98944a5f89913dd7aa26b523": {
      "model_module": "@jupyter-widgets/controls",
      "model_module_version": "1.5.0",
      "model_name": "FloatProgressModel",
      "state": {
       "layout": "IPY_MODEL_c42ed8c5b80e4d35b865eda01f13db63",
       "max": 61,
       "style": "IPY_MODEL_152e439320014c8aa680ba5e040976c0",
       "value": 61
      }
     },
     "05e6936cd1a04bf9a6c056cbaeb58ea4": {
      "model_module": "@jupyter-widgets/base",
      "model_module_version": "1.2.0",
      "model_name": "LayoutModel",
      "state": {
       "flex": "2"
      }
     },
     "075485a758dd4f9ba8973a8a947f6001": {
      "model_module": "@jupyter-widgets/controls",
      "model_module_version": "1.5.0",
      "model_name": "HTMLModel",
      "state": {
       "layout": "IPY_MODEL_81e39ad62ac04b1b867ad91a4ad3f992",
       "style": "IPY_MODEL_fb2513839da54db8a284626facdb1df9",
       "value": "Validation DataLoader 0: 100%"
      }
     },
     "099752582b634528aefdcd0a28cb9e04": {
      "model_module": "@jupyter-widgets/controls",
      "model_module_version": "1.5.0",
      "model_name": "HTMLModel",
      "state": {
       "layout": "IPY_MODEL_89c1d63379c340c7bfcd24bf0a22fba8",
       "style": "IPY_MODEL_51ccb19847294a258f50181774e332e5",
       "value": " 61/61 [00:26&lt;00:00,  2.31it/s]"
      }
     },
     "0d1aa21b082f43a696bc7a3421f1523d": {
      "model_module": "@jupyter-widgets/base",
      "model_module_version": "1.2.0",
      "model_name": "LayoutModel",
      "state": {
       "flex": "2"
      }
     },
     "0d40d0b6d0004459bb2ce1b6dfb75f4b": {
      "model_module": "@jupyter-widgets/controls",
      "model_module_version": "1.5.0",
      "model_name": "DescriptionStyleModel",
      "state": {
       "description_width": ""
      }
     },
     "0d620f4ff7ad4e999eac36fc9e2f811b": {
      "model_module": "@jupyter-widgets/controls",
      "model_module_version": "1.5.0",
      "model_name": "FloatProgressModel",
      "state": {
       "layout": "IPY_MODEL_e6efa70a855545d1a676640657653a5c",
       "max": 244,
       "style": "IPY_MODEL_eea199ccdaa4483d91f00b6b5c44314e",
       "value": 43
      }
     },
     "0d78870bf8fd4d4ba6b27ddad1a83259": {
      "model_module": "@jupyter-widgets/base",
      "model_module_version": "1.2.0",
      "model_name": "LayoutModel",
      "state": {}
     },
     "0e178168c90b4435af6dcae2a56e8e78": {
      "model_module": "@jupyter-widgets/base",
      "model_module_version": "1.2.0",
      "model_name": "LayoutModel",
      "state": {}
     },
     "0e4884929eec4a449a24529e7a744239": {
      "model_module": "@jupyter-widgets/base",
      "model_module_version": "1.2.0",
      "model_name": "LayoutModel",
      "state": {
       "display": "inline-flex",
       "flex_flow": "row wrap",
       "visibility": "hidden",
       "width": "100%"
      }
     },
     "0e7720a00801437baf728153c7407347": {
      "model_module": "@jupyter-widgets/base",
      "model_module_version": "1.2.0",
      "model_name": "LayoutModel",
      "state": {
       "display": "inline-flex",
       "flex_flow": "row wrap",
       "visibility": "hidden",
       "width": "100%"
      }
     },
     "0f9ed6fbdd8e45c6b52e5825fa4605ec": {
      "model_module": "@jupyter-widgets/base",
      "model_module_version": "1.2.0",
      "model_name": "LayoutModel",
      "state": {
       "display": "inline-flex",
       "flex_flow": "row wrap",
       "width": "100%"
      }
     },
     "114a517fa8a44ae19686f32ef2084727": {
      "model_module": "@jupyter-widgets/base",
      "model_module_version": "1.2.0",
      "model_name": "LayoutModel",
      "state": {
       "display": "inline-flex",
       "flex_flow": "row wrap",
       "visibility": "hidden",
       "width": "100%"
      }
     },
     "11a9fc8f06fd4993903174dc08a39e35": {
      "model_module": "@jupyter-widgets/controls",
      "model_module_version": "1.5.0",
      "model_name": "ProgressStyleModel",
      "state": {
       "description_width": ""
      }
     },
     "1446af865639402f8d638c21f2c0d82d": {
      "model_module": "@jupyter-widgets/controls",
      "model_module_version": "1.5.0",
      "model_name": "FloatProgressModel",
      "state": {
       "layout": "IPY_MODEL_93042d62b5cd4523829624d9168c8e3d",
       "max": 61,
       "style": "IPY_MODEL_021a3bd91298453299c2bbc291fae3d3",
       "value": 61
      }
     },
     "152e439320014c8aa680ba5e040976c0": {
      "model_module": "@jupyter-widgets/controls",
      "model_module_version": "1.5.0",
      "model_name": "ProgressStyleModel",
      "state": {
       "description_width": ""
      }
     },
     "17231b5b5c3c48e4b9ac409c95121766": {
      "model_module": "@jupyter-widgets/controls",
      "model_module_version": "1.5.0",
      "model_name": "DescriptionStyleModel",
      "state": {
       "description_width": ""
      }
     },
     "1875f33de3ef4e58880732da0c50e59b": {
      "model_module": "@jupyter-widgets/controls",
      "model_module_version": "1.5.0",
      "model_name": "HTMLModel",
      "state": {
       "layout": "IPY_MODEL_6616090a905b424986434be8bf03465a",
       "style": "IPY_MODEL_4a3ed7cc615d48b8b04fc25475e7d1d6",
       "value": " 43/244 [00:38&lt;02:58,  1.12it/s, v_num=4 v4, train_loss=0.238, mean_grad=0.331, val_loss=0.412]"
      }
     },
     "1a77e780fb3f404a91f0f81477cd9e07": {
      "model_module": "@jupyter-widgets/controls",
      "model_module_version": "1.5.0",
      "model_name": "HTMLModel",
      "state": {
       "layout": "IPY_MODEL_d133e5cff3f94238aed8a10764f6652f",
       "style": "IPY_MODEL_278361fe438c46e2a6a303eb9ba34d96",
       "value": " 61/61 [00:26&lt;00:00,  2.31it/s]"
      }
     },
     "1ae52696e79d4374a0f74a5e027cd467": {
      "model_module": "@jupyter-widgets/controls",
      "model_module_version": "1.5.0",
      "model_name": "ProgressStyleModel",
      "state": {
       "description_width": ""
      }
     },
     "1cf40399f19e488f9a5c7d909aabd707": {
      "model_module": "@jupyter-widgets/base",
      "model_module_version": "1.2.0",
      "model_name": "LayoutModel",
      "state": {}
     },
     "1ddb1e86ad5a4108a7ea7676835cab82": {
      "model_module": "@jupyter-widgets/controls",
      "model_module_version": "1.5.0",
      "model_name": "DescriptionStyleModel",
      "state": {
       "description_width": ""
      }
     },
     "1ddea0bbe25c441eb21f98444fc30061": {
      "model_module": "@jupyter-widgets/controls",
      "model_module_version": "1.5.0",
      "model_name": "HTMLModel",
      "state": {
       "layout": "IPY_MODEL_7afc1ca001134ca88ff26dcb02dbfc9a",
       "style": "IPY_MODEL_b8df1058a3234db883b1d27fd6d1d437",
       "value": " 61/61 [00:26&lt;00:00,  2.32it/s]"
      }
     },
     "1e6e0d89bfc1434daa2d10d93c480e73": {
      "model_module": "@jupyter-widgets/base",
      "model_module_version": "1.2.0",
      "model_name": "LayoutModel",
      "state": {}
     },
     "1ee36c4759ef42f491d2a9f320487e72": {
      "model_module": "@jupyter-widgets/base",
      "model_module_version": "1.2.0",
      "model_name": "LayoutModel",
      "state": {
       "display": "inline-flex",
       "flex_flow": "row wrap",
       "visibility": "hidden",
       "width": "100%"
      }
     },
     "1f407b8aa49b4fad8fb11b3b1518134a": {
      "model_module": "@jupyter-widgets/base",
      "model_module_version": "1.2.0",
      "model_name": "LayoutModel",
      "state": {
       "display": "inline-flex",
       "flex_flow": "row wrap",
       "visibility": "hidden",
       "width": "100%"
      }
     },
     "1ff2f2eced4f42c9988a606fa786c457": {
      "model_module": "@jupyter-widgets/controls",
      "model_module_version": "1.5.0",
      "model_name": "ProgressStyleModel",
      "state": {
       "description_width": ""
      }
     },
     "2041154890044d3d82253090a03c4f8c": {
      "model_module": "@jupyter-widgets/controls",
      "model_module_version": "1.5.0",
      "model_name": "DescriptionStyleModel",
      "state": {
       "description_width": ""
      }
     },
     "21a0e825dcd946bfaa4d47760eb445f9": {
      "model_module": "@jupyter-widgets/controls",
      "model_module_version": "1.5.0",
      "model_name": "DescriptionStyleModel",
      "state": {
       "description_width": ""
      }
     },
     "223c4bc2d8d14c93adace2fe388d1f8a": {
      "model_module": "@jupyter-widgets/controls",
      "model_module_version": "1.5.0",
      "model_name": "HTMLModel",
      "state": {
       "layout": "IPY_MODEL_0d78870bf8fd4d4ba6b27ddad1a83259",
       "style": "IPY_MODEL_c944255b8ad54472a4643f12ae4455ef",
       "value": " 61/61 [00:26&lt;00:00,  2.31it/s]"
      }
     },
     "22fe105fe6744a4d8cfc7a1850fad7f8": {
      "model_module": "@jupyter-widgets/controls",
      "model_module_version": "1.5.0",
      "model_name": "ProgressStyleModel",
      "state": {
       "description_width": ""
      }
     },
     "253ca088070a431193166d29601ad444": {
      "model_module": "@jupyter-widgets/controls",
      "model_module_version": "1.5.0",
      "model_name": "HTMLModel",
      "state": {
       "layout": "IPY_MODEL_384f1dfd46164316bf504ed757dffd19",
       "style": "IPY_MODEL_ac7db7b6d1d84af2aa01a2512735d495",
       "value": " 61/61 [00:26&lt;00:00,  2.32it/s]"
      }
     },
     "253fc15740c740788dac8022ca7254ba": {
      "model_module": "@jupyter-widgets/controls",
      "model_module_version": "1.5.0",
      "model_name": "FloatProgressModel",
      "state": {
       "layout": "IPY_MODEL_da92712c3a304ab298050f90690b36e2",
       "max": 61,
       "style": "IPY_MODEL_b1171f111d83488a8a41d36f57c0c7af",
       "value": 61
      }
     },
     "278361fe438c46e2a6a303eb9ba34d96": {
      "model_module": "@jupyter-widgets/controls",
      "model_module_version": "1.5.0",
      "model_name": "DescriptionStyleModel",
      "state": {
       "description_width": ""
      }
     },
     "290dcc7c341d4505adb2d43ff37a4fce": {
      "model_module": "@jupyter-widgets/controls",
      "model_module_version": "1.5.0",
      "model_name": "ProgressStyleModel",
      "state": {
       "description_width": ""
      }
     },
     "2a3b458c160d4e79b5ad48e2ab377e69": {
      "model_module": "@jupyter-widgets/controls",
      "model_module_version": "1.5.0",
      "model_name": "ProgressStyleModel",
      "state": {
       "description_width": ""
      }
     },
     "2b0db6046aef451fa716279dd81874a2": {
      "model_module": "@jupyter-widgets/controls",
      "model_module_version": "1.5.0",
      "model_name": "HTMLModel",
      "state": {
       "layout": "IPY_MODEL_f0e9d2d6c47746e38756df5fb4e5556f",
       "style": "IPY_MODEL_01b301d5a2304ec5b048e4e0e60ac5fd",
       "value": "Validation DataLoader 0: 100%"
      }
     },
     "2b927effacdf4360951477de6797352c": {
      "model_module": "@jupyter-widgets/controls",
      "model_module_version": "1.5.0",
      "model_name": "HTMLModel",
      "state": {
       "layout": "IPY_MODEL_dc6d738530f34705a8531be736431767",
       "style": "IPY_MODEL_cfe3ba7c98464fcea710802554062100",
       "value": "Epoch 66:  18%"
      }
     },
     "2c87df74aa514d2191acfdad91311750": {
      "model_module": "@jupyter-widgets/controls",
      "model_module_version": "1.5.0",
      "model_name": "FloatProgressModel",
      "state": {
       "layout": "IPY_MODEL_88698104cb2a4a24a3a1ef3f1f885ea7",
       "max": 61,
       "style": "IPY_MODEL_f3389ee3db4640cb80548174474e34c8",
       "value": 61
      }
     },
     "2cce87f73daa4bcea21dac7ee5669939": {
      "model_module": "@jupyter-widgets/controls",
      "model_module_version": "1.5.0",
      "model_name": "HTMLModel",
      "state": {
       "layout": "IPY_MODEL_373996a36d434778b103edb605a94605",
       "style": "IPY_MODEL_2041154890044d3d82253090a03c4f8c",
       "value": " 61/61 [00:26&lt;00:00,  2.31it/s]"
      }
     },
     "2da72e43b5c94c5dbf4abcc1e7c05d66": {
      "model_module": "@jupyter-widgets/controls",
      "model_module_version": "1.5.0",
      "model_name": "HTMLModel",
      "state": {
       "layout": "IPY_MODEL_74b99a748fd2493897f52c7356f0d932",
       "style": "IPY_MODEL_2f729cd4c34e4a948c7a1f29c893550b",
       "value": "Sanity Checking DataLoader 0: 100%"
      }
     },
     "2eb9e3dcf2fa4ceb8b222b0c084a5d03": {
      "model_module": "@jupyter-widgets/base",
      "model_module_version": "1.2.0",
      "model_name": "LayoutModel",
      "state": {}
     },
     "2f0bf4934fb744f88a136c3c92cd3794": {
      "model_module": "@jupyter-widgets/base",
      "model_module_version": "1.2.0",
      "model_name": "LayoutModel",
      "state": {
       "flex": "2"
      }
     },
     "2f729cd4c34e4a948c7a1f29c893550b": {
      "model_module": "@jupyter-widgets/controls",
      "model_module_version": "1.5.0",
      "model_name": "DescriptionStyleModel",
      "state": {
       "description_width": ""
      }
     },
     "300181cddcd34e89b8a0d1c21dc437c7": {
      "model_module": "@jupyter-widgets/base",
      "model_module_version": "1.2.0",
      "model_name": "LayoutModel",
      "state": {}
     },
     "31342503b9924882890bbde3b94e2110": {
      "model_module": "@jupyter-widgets/base",
      "model_module_version": "1.2.0",
      "model_name": "LayoutModel",
      "state": {
       "flex": "2"
      }
     },
     "313f42a0cd2c4dfbba8b5827b2d317da": {
      "model_module": "@jupyter-widgets/controls",
      "model_module_version": "1.5.0",
      "model_name": "DescriptionStyleModel",
      "state": {
       "description_width": ""
      }
     },
     "31937298f65d44e29208326d7b9cdfb4": {
      "model_module": "@jupyter-widgets/controls",
      "model_module_version": "1.5.0",
      "model_name": "DescriptionStyleModel",
      "state": {
       "description_width": ""
      }
     },
     "31960d753da84463b7f56e05fee21e2c": {
      "model_module": "@jupyter-widgets/base",
      "model_module_version": "1.2.0",
      "model_name": "LayoutModel",
      "state": {}
     },
     "324a9a7be2cc4237acda923e20227769": {
      "model_module": "@jupyter-widgets/controls",
      "model_module_version": "1.5.0",
      "model_name": "FloatProgressModel",
      "state": {
       "layout": "IPY_MODEL_31342503b9924882890bbde3b94e2110",
       "max": 61,
       "style": "IPY_MODEL_4be830725ab14b2f8132c1f8011c5df4",
       "value": 61
      }
     },
     "324c83fc48bb4c2b9f126b9255a18601": {
      "model_module": "@jupyter-widgets/controls",
      "model_module_version": "1.5.0",
      "model_name": "HTMLModel",
      "state": {
       "layout": "IPY_MODEL_3c23d036078448c5a90c47dcee313958",
       "style": "IPY_MODEL_7172bccdfd8c41e7811689078be39015",
       "value": " 61/61 [00:26&lt;00:00,  2.32it/s]"
      }
     },
     "3279a6186b2a4f1f82d09471a49e80d2": {
      "model_module": "@jupyter-widgets/base",
      "model_module_version": "1.2.0",
      "model_name": "LayoutModel",
      "state": {
       "display": "inline-flex",
       "flex_flow": "row wrap",
       "visibility": "hidden",
       "width": "100%"
      }
     },
     "3424b09e18a845bab3fb6c2fa3832bff": {
      "model_module": "@jupyter-widgets/controls",
      "model_module_version": "1.5.0",
      "model_name": "DescriptionStyleModel",
      "state": {
       "description_width": ""
      }
     },
     "373996a36d434778b103edb605a94605": {
      "model_module": "@jupyter-widgets/base",
      "model_module_version": "1.2.0",
      "model_name": "LayoutModel",
      "state": {}
     },
     "37b40232a97d4ec5b9069ca94fd6c89f": {
      "model_module": "@jupyter-widgets/controls",
      "model_module_version": "1.5.0",
      "model_name": "HTMLModel",
      "state": {
       "layout": "IPY_MODEL_cb86ddd0c3fa47388c4b758381377b2b",
       "style": "IPY_MODEL_b64fe02214dc4fe0b131a95f4b5276bc",
       "value": " 61/61 [00:26&lt;00:00,  2.32it/s]"
      }
     },
     "37c4354844a7411880de12a85228faff": {
      "model_module": "@jupyter-widgets/base",
      "model_module_version": "1.2.0",
      "model_name": "LayoutModel",
      "state": {
       "flex": "2"
      }
     },
     "37f75f072d5e47f89d2afb5dfb4a2bc5": {
      "model_module": "@jupyter-widgets/controls",
      "model_module_version": "1.5.0",
      "model_name": "ProgressStyleModel",
      "state": {
       "description_width": ""
      }
     },
     "384f1dfd46164316bf504ed757dffd19": {
      "model_module": "@jupyter-widgets/base",
      "model_module_version": "1.2.0",
      "model_name": "LayoutModel",
      "state": {}
     },
     "390918f13c53473e8b3a1807bf2448b6": {
      "model_module": "@jupyter-widgets/controls",
      "model_module_version": "1.5.0",
      "model_name": "DescriptionStyleModel",
      "state": {
       "description_width": ""
      }
     },
     "395a76c9322241369b69c6f11497ded8": {
      "model_module": "@jupyter-widgets/controls",
      "model_module_version": "1.5.0",
      "model_name": "DescriptionStyleModel",
      "state": {
       "description_width": ""
      }
     },
     "3a0e372351b448d19a0e40f3ee264081": {
      "model_module": "@jupyter-widgets/controls",
      "model_module_version": "1.5.0",
      "model_name": "ProgressStyleModel",
      "state": {
       "description_width": ""
      }
     },
     "3bc16dabdc9a4b75b65f9f842a4bb32d": {
      "model_module": "@jupyter-widgets/controls",
      "model_module_version": "1.5.0",
      "model_name": "HTMLModel",
      "state": {
       "layout": "IPY_MODEL_e0e11f714e94480abcd21b6d41af7acf",
       "style": "IPY_MODEL_3424b09e18a845bab3fb6c2fa3832bff",
       "value": "Validation DataLoader 0: 100%"
      }
     },
     "3beb6d7879764175b76bcabb35646f2a": {
      "model_module": "@jupyter-widgets/controls",
      "model_module_version": "1.5.0",
      "model_name": "DescriptionStyleModel",
      "state": {
       "description_width": ""
      }
     },
     "3c23d036078448c5a90c47dcee313958": {
      "model_module": "@jupyter-widgets/base",
      "model_module_version": "1.2.0",
      "model_name": "LayoutModel",
      "state": {}
     },
     "4093fcc3a0584b04bc7ddce315da022e": {
      "model_module": "@jupyter-widgets/base",
      "model_module_version": "1.2.0",
      "model_name": "LayoutModel",
      "state": {
       "flex": "2"
      }
     },
     "4161103b33314e98bafab998852fbb62": {
      "model_module": "@jupyter-widgets/controls",
      "model_module_version": "1.5.0",
      "model_name": "HTMLModel",
      "state": {
       "layout": "IPY_MODEL_ba81ac7c31744ed095cff9352b30afc2",
       "style": "IPY_MODEL_0d40d0b6d0004459bb2ce1b6dfb75f4b",
       "value": "Validation DataLoader 0: 100%"
      }
     },
     "41e9c8f478784ec2b1e9e25382192667": {
      "model_module": "@jupyter-widgets/base",
      "model_module_version": "1.2.0",
      "model_name": "LayoutModel",
      "state": {
       "display": "inline-flex",
       "flex_flow": "row wrap",
       "visibility": "hidden",
       "width": "100%"
      }
     },
     "4219294183804f7a8bc7d5bcc06b9cef": {
      "model_module": "@jupyter-widgets/base",
      "model_module_version": "1.2.0",
      "model_name": "LayoutModel",
      "state": {
       "flex": "2"
      }
     },
     "43d7ac570b594951811a24839d871df0": {
      "model_module": "@jupyter-widgets/controls",
      "model_module_version": "1.5.0",
      "model_name": "DescriptionStyleModel",
      "state": {
       "description_width": ""
      }
     },
     "459a366454794d5f80703ff5b11f8a0e": {
      "model_module": "@jupyter-widgets/base",
      "model_module_version": "1.2.0",
      "model_name": "LayoutModel",
      "state": {}
     },
     "47b2751bb9e64b89830eb4ca690fe4b4": {
      "model_module": "@jupyter-widgets/controls",
      "model_module_version": "1.5.0",
      "model_name": "ProgressStyleModel",
      "state": {
       "description_width": ""
      }
     },
     "48eaef20c4cc4c168059228020055dc6": {
      "model_module": "@jupyter-widgets/base",
      "model_module_version": "1.2.0",
      "model_name": "LayoutModel",
      "state": {}
     },
     "4997347381da4636a88a8d3f3541c009": {
      "model_module": "@jupyter-widgets/base",
      "model_module_version": "1.2.0",
      "model_name": "LayoutModel",
      "state": {}
     },
     "4a3ed7cc615d48b8b04fc25475e7d1d6": {
      "model_module": "@jupyter-widgets/controls",
      "model_module_version": "1.5.0",
      "model_name": "DescriptionStyleModel",
      "state": {
       "description_width": ""
      }
     },
     "4a6b33fd50df4fbebe2b50e97f5b01e0": {
      "model_module": "@jupyter-widgets/base",
      "model_module_version": "1.2.0",
      "model_name": "LayoutModel",
      "state": {
       "flex": "2"
      }
     },
     "4af755ffa31c4358bf4f1de6952b9109": {
      "model_module": "@jupyter-widgets/controls",
      "model_module_version": "1.5.0",
      "model_name": "DescriptionStyleModel",
      "state": {
       "description_width": ""
      }
     },
     "4b7632ef0326456b88a305feb5e93432": {
      "model_module": "@jupyter-widgets/base",
      "model_module_version": "1.2.0",
      "model_name": "LayoutModel",
      "state": {
       "display": "inline-flex",
       "flex_flow": "row wrap",
       "visibility": "hidden",
       "width": "100%"
      }
     },
     "4be830725ab14b2f8132c1f8011c5df4": {
      "model_module": "@jupyter-widgets/controls",
      "model_module_version": "1.5.0",
      "model_name": "ProgressStyleModel",
      "state": {
       "description_width": ""
      }
     },
     "4c6cee4cf3a848088fc770344942970c": {
      "model_module": "@jupyter-widgets/base",
      "model_module_version": "1.2.0",
      "model_name": "LayoutModel",
      "state": {}
     },
     "4db19ac71d8e4dce8e7936424ff6bf3a": {
      "model_module": "@jupyter-widgets/base",
      "model_module_version": "1.2.0",
      "model_name": "LayoutModel",
      "state": {}
     },
     "4de01d7a1373417baa2cafa886f43342": {
      "model_module": "@jupyter-widgets/base",
      "model_module_version": "1.2.0",
      "model_name": "LayoutModel",
      "state": {
       "display": "inline-flex",
       "flex_flow": "row wrap",
       "visibility": "hidden",
       "width": "100%"
      }
     },
     "4de1d6064dd44b32bff5d344b1f4500d": {
      "model_module": "@jupyter-widgets/base",
      "model_module_version": "1.2.0",
      "model_name": "LayoutModel",
      "state": {
       "display": "inline-flex",
       "flex_flow": "row wrap",
       "visibility": "hidden",
       "width": "100%"
      }
     },
     "4e22d953c0e3433ba6d76f5a437e1b73": {
      "model_module": "@jupyter-widgets/controls",
      "model_module_version": "1.5.0",
      "model_name": "DescriptionStyleModel",
      "state": {
       "description_width": ""
      }
     },
     "5132274e42cd4268a5bb0e3f174b5ff1": {
      "model_module": "@jupyter-widgets/controls",
      "model_module_version": "1.5.0",
      "model_name": "HTMLModel",
      "state": {
       "layout": "IPY_MODEL_ae3ea4f2ae2e4df6a53b0764c11c4f82",
       "style": "IPY_MODEL_1ddb1e86ad5a4108a7ea7676835cab82",
       "value": "Validation DataLoader 0: 100%"
      }
     },
     "515008a48396464aa4cf6410b90bc993": {
      "model_module": "@jupyter-widgets/controls",
      "model_module_version": "1.5.0",
      "model_name": "ProgressStyleModel",
      "state": {
       "description_width": ""
      }
     },
     "51ccb19847294a258f50181774e332e5": {
      "model_module": "@jupyter-widgets/controls",
      "model_module_version": "1.5.0",
      "model_name": "DescriptionStyleModel",
      "state": {
       "description_width": ""
      }
     },
     "52d1a4b667b44d4ba7241f9ded550d8b": {
      "model_module": "@jupyter-widgets/base",
      "model_module_version": "1.2.0",
      "model_name": "LayoutModel",
      "state": {
       "display": "inline-flex",
       "flex_flow": "row wrap",
       "visibility": "hidden",
       "width": "100%"
      }
     },
     "52e0d696f1a24771bba2bb61b4df656e": {
      "model_module": "@jupyter-widgets/controls",
      "model_module_version": "1.5.0",
      "model_name": "DescriptionStyleModel",
      "state": {
       "description_width": ""
      }
     },
     "54583792ff884851a34d940041db2797": {
      "model_module": "@jupyter-widgets/controls",
      "model_module_version": "1.5.0",
      "model_name": "HTMLModel",
      "state": {
       "layout": "IPY_MODEL_5cb4c9ad028f41fb9e3b4ca5708274d5",
       "style": "IPY_MODEL_65bad681fc3a4510b0dc21bdb98cce6b",
       "value": "Validation DataLoader 0: 100%"
      }
     },
     "5503ea90bc434f418ffa151f9f50bd97": {
      "model_module": "@jupyter-widgets/controls",
      "model_module_version": "1.5.0",
      "model_name": "HTMLModel",
      "state": {
       "layout": "IPY_MODEL_300181cddcd34e89b8a0d1c21dc437c7",
       "style": "IPY_MODEL_e177bb107b2e468689ee85de38a129af",
       "value": "Validation DataLoader 0: 100%"
      }
     },
     "565ceff448c6410b9700a233d37a7144": {
      "model_module": "@jupyter-widgets/base",
      "model_module_version": "1.2.0",
      "model_name": "LayoutModel",
      "state": {}
     },
     "5670ca117cfe43a985b986826ffd30fa": {
      "model_module": "@jupyter-widgets/controls",
      "model_module_version": "1.5.0",
      "model_name": "FloatProgressModel",
      "state": {
       "layout": "IPY_MODEL_4093fcc3a0584b04bc7ddce315da022e",
       "max": 61,
       "style": "IPY_MODEL_c12435589fa947939532f249ac7d55e8",
       "value": 61
      }
     },
     "567b2f9f08c749d6b161796cb1267030": {
      "model_module": "@jupyter-widgets/controls",
      "model_module_version": "1.5.0",
      "model_name": "HTMLModel",
      "state": {
       "layout": "IPY_MODEL_c5fee1a1cf994debb98809b311cd6b52",
       "style": "IPY_MODEL_ec36be6b1513465e960c73a9630c8d7b",
       "value": " 61/61 [00:26&lt;00:00,  2.31it/s]"
      }
     },
     "56f8a52a53554fb08c774da0ef4a0622": {
      "model_module": "@jupyter-widgets/base",
      "model_module_version": "1.2.0",
      "model_name": "LayoutModel",
      "state": {}
     },
     "5709c1b81e6340e9a66b05c3463a2241": {
      "model_module": "@jupyter-widgets/base",
      "model_module_version": "1.2.0",
      "model_name": "LayoutModel",
      "state": {}
     },
     "572a1b97f746452eb435b0f928f3e502": {
      "model_module": "@jupyter-widgets/controls",
      "model_module_version": "1.5.0",
      "model_name": "HTMLModel",
      "state": {
       "layout": "IPY_MODEL_0e178168c90b4435af6dcae2a56e8e78",
       "style": "IPY_MODEL_efcec154a9424c3592fbef555a724800",
       "value": " 61/61 [00:26&lt;00:00,  2.32it/s]"
      }
     },
     "5b3d026cf168417c93b506ae66fc4297": {
      "model_module": "@jupyter-widgets/controls",
      "model_module_version": "1.5.0",
      "model_name": "DescriptionStyleModel",
      "state": {
       "description_width": ""
      }
     },
     "5c78cfa8d4f041c38ae9f8df80cd6582": {
      "model_module": "@jupyter-widgets/base",
      "model_module_version": "1.2.0",
      "model_name": "LayoutModel",
      "state": {}
     },
     "5cb4c9ad028f41fb9e3b4ca5708274d5": {
      "model_module": "@jupyter-widgets/base",
      "model_module_version": "1.2.0",
      "model_name": "LayoutModel",
      "state": {}
     },
     "5d4f8b6b837343dbbb6feb3315de0629": {
      "model_module": "@jupyter-widgets/base",
      "model_module_version": "1.2.0",
      "model_name": "LayoutModel",
      "state": {}
     },
     "5ede15777e2a4a909d832877be6f5576": {
      "model_module": "@jupyter-widgets/controls",
      "model_module_version": "1.5.0",
      "model_name": "DescriptionStyleModel",
      "state": {
       "description_width": ""
      }
     },
     "5f270ca5e75d4fe5a5e3a7b9d385c83b": {
      "model_module": "@jupyter-widgets/controls",
      "model_module_version": "1.5.0",
      "model_name": "DescriptionStyleModel",
      "state": {
       "description_width": ""
      }
     },
     "5fa16bc144c241b4bb7fa5cdd82863e9": {
      "model_module": "@jupyter-widgets/base",
      "model_module_version": "1.2.0",
      "model_name": "LayoutModel",
      "state": {
       "display": "inline-flex",
       "flex_flow": "row wrap",
       "visibility": "hidden",
       "width": "100%"
      }
     },
     "64995bed846049d38125238973b18444": {
      "model_module": "@jupyter-widgets/controls",
      "model_module_version": "1.5.0",
      "model_name": "HTMLModel",
      "state": {
       "layout": "IPY_MODEL_80463719a1c947cd81bf31c9eeffbf24",
       "style": "IPY_MODEL_5b3d026cf168417c93b506ae66fc4297",
       "value": " 61/61 [00:26&lt;00:00,  2.32it/s]"
      }
     },
     "6521a7fcc02d4aa596e09235c5accd8d": {
      "model_module": "@jupyter-widgets/base",
      "model_module_version": "1.2.0",
      "model_name": "LayoutModel",
      "state": {
       "flex": "2"
      }
     },
     "65bad681fc3a4510b0dc21bdb98cce6b": {
      "model_module": "@jupyter-widgets/controls",
      "model_module_version": "1.5.0",
      "model_name": "DescriptionStyleModel",
      "state": {
       "description_width": ""
      }
     },
     "65e322eb07cb4f07becff7201fc1da19": {
      "model_module": "@jupyter-widgets/controls",
      "model_module_version": "1.5.0",
      "model_name": "FloatProgressModel",
      "state": {
       "layout": "IPY_MODEL_ea5094dd9f774b92a28b7a2f7351dc28",
       "max": 61,
       "style": "IPY_MODEL_47b2751bb9e64b89830eb4ca690fe4b4",
       "value": 61
      }
     },
     "6600f7f851cc49df831a47edd6dc96b2": {
      "model_module": "@jupyter-widgets/controls",
      "model_module_version": "1.5.0",
      "model_name": "DescriptionStyleModel",
      "state": {
       "description_width": ""
      }
     },
     "6616090a905b424986434be8bf03465a": {
      "model_module": "@jupyter-widgets/base",
      "model_module_version": "1.2.0",
      "model_name": "LayoutModel",
      "state": {}
     },
     "67b4fe7c5df54cee872a485f4cbd3d1a": {
      "model_module": "@jupyter-widgets/controls",
      "model_module_version": "1.5.0",
      "model_name": "HTMLModel",
      "state": {
       "layout": "IPY_MODEL_56f8a52a53554fb08c774da0ef4a0622",
       "style": "IPY_MODEL_52e0d696f1a24771bba2bb61b4df656e",
       "value": "Validation DataLoader 0: 100%"
      }
     },
     "67f16922690c44eaa33e983f7d923c0a": {
      "model_module": "@jupyter-widgets/base",
      "model_module_version": "1.2.0",
      "model_name": "LayoutModel",
      "state": {
       "display": "inline-flex",
       "flex_flow": "row wrap",
       "visibility": "hidden",
       "width": "100%"
      }
     },
     "6a9bbcb1ef9548258226c7e0c4508338": {
      "model_module": "@jupyter-widgets/controls",
      "model_module_version": "1.5.0",
      "model_name": "DescriptionStyleModel",
      "state": {
       "description_width": ""
      }
     },
     "6c56fd78b72d49ee94da3a8275bd7ce0": {
      "model_module": "@jupyter-widgets/base",
      "model_module_version": "1.2.0",
      "model_name": "LayoutModel",
      "state": {
       "display": "inline-flex",
       "flex_flow": "row wrap",
       "visibility": "hidden",
       "width": "100%"
      }
     },
     "6e13cad6e3574c638396daa4688f521b": {
      "model_module": "@jupyter-widgets/controls",
      "model_module_version": "1.5.0",
      "model_name": "FloatProgressModel",
      "state": {
       "layout": "IPY_MODEL_94464583d2a74d029c5511e894de5f41",
       "max": 61,
       "style": "IPY_MODEL_8f99fe706a1c415c8f2ca5b32cd04165",
       "value": 61
      }
     },
     "6e340a77802344d08b81dd0d375f7d95": {
      "model_module": "@jupyter-widgets/controls",
      "model_module_version": "1.5.0",
      "model_name": "DescriptionStyleModel",
      "state": {
       "description_width": ""
      }
     },
     "6f361d2fa5a5451eafc510226d8618db": {
      "model_module": "@jupyter-widgets/base",
      "model_module_version": "1.2.0",
      "model_name": "LayoutModel",
      "state": {}
     },
     "70b37c8735cc4cc8af5b0a78824109ca": {
      "model_module": "@jupyter-widgets/controls",
      "model_module_version": "1.5.0",
      "model_name": "FloatProgressModel",
      "state": {
       "layout": "IPY_MODEL_2f0bf4934fb744f88a136c3c92cd3794",
       "max": 61,
       "style": "IPY_MODEL_37f75f072d5e47f89d2afb5dfb4a2bc5",
       "value": 61
      }
     },
     "70c89d78d2a1473a9ada5d9cdbd658d8": {
      "model_module": "@jupyter-widgets/controls",
      "model_module_version": "1.5.0",
      "model_name": "FloatProgressModel",
      "state": {
       "layout": "IPY_MODEL_9101ee9972624fd9be4f89370ebbd449",
       "max": 61,
       "style": "IPY_MODEL_cb33e40ff8fe4fb2830556e289c797b1",
       "value": 61
      }
     },
     "715d935cd15b4fc2be0d8f502fca5313": {
      "model_module": "@jupyter-widgets/controls",
      "model_module_version": "1.5.0",
      "model_name": "FloatProgressModel",
      "state": {
       "layout": "IPY_MODEL_e683d48df4764f9cb731fdde44644e2d",
       "max": 61,
       "style": "IPY_MODEL_1ff2f2eced4f42c9988a606fa786c457",
       "value": 61
      }
     },
     "7172bccdfd8c41e7811689078be39015": {
      "model_module": "@jupyter-widgets/controls",
      "model_module_version": "1.5.0",
      "model_name": "DescriptionStyleModel",
      "state": {
       "description_width": ""
      }
     },
     "7187420599d74ec6a9ad21122768b93f": {
      "model_module": "@jupyter-widgets/base",
      "model_module_version": "1.2.0",
      "model_name": "LayoutModel",
      "state": {
       "display": "inline-flex",
       "flex_flow": "row wrap",
       "visibility": "hidden",
       "width": "100%"
      }
     },
     "72b30b90145d435aac92e5a0d11c823d": {
      "model_module": "@jupyter-widgets/controls",
      "model_module_version": "1.5.0",
      "model_name": "DescriptionStyleModel",
      "state": {
       "description_width": ""
      }
     },
     "7363498dfb2142efbd27d5334eccbdf5": {
      "model_module": "@jupyter-widgets/base",
      "model_module_version": "1.2.0",
      "model_name": "LayoutModel",
      "state": {
       "flex": "2"
      }
     },
     "74629410be834bea8a3e157233e64000": {
      "model_module": "@jupyter-widgets/base",
      "model_module_version": "1.2.0",
      "model_name": "LayoutModel",
      "state": {
       "flex": "2"
      }
     },
     "747c73240476417bbce5cac8698c76d4": {
      "model_module": "@jupyter-widgets/controls",
      "model_module_version": "1.5.0",
      "model_name": "HTMLModel",
      "state": {
       "layout": "IPY_MODEL_e10f4abebb4a40019d929099bbec5296",
       "style": "IPY_MODEL_ee5855726ce249a9ae6575e4773a7462",
       "value": " 61/61 [00:26&lt;00:00,  2.31it/s]"
      }
     },
     "74ae98a9967c4abe8fb3ea4e37d9d7eb": {
      "model_module": "@jupyter-widgets/base",
      "model_module_version": "1.2.0",
      "model_name": "LayoutModel",
      "state": {
       "display": "inline-flex",
       "flex_flow": "row wrap",
       "visibility": "hidden",
       "width": "100%"
      }
     },
     "74b99a748fd2493897f52c7356f0d932": {
      "model_module": "@jupyter-widgets/base",
      "model_module_version": "1.2.0",
      "model_name": "LayoutModel",
      "state": {}
     },
     "75cfe827d5ae4641bbca0e59cc37833b": {
      "model_module": "@jupyter-widgets/base",
      "model_module_version": "1.2.0",
      "model_name": "LayoutModel",
      "state": {}
     },
     "75f5e62eaacb40d4a15264d8909480bf": {
      "model_module": "@jupyter-widgets/controls",
      "model_module_version": "1.5.0",
      "model_name": "HTMLModel",
      "state": {
       "layout": "IPY_MODEL_48eaef20c4cc4c168059228020055dc6",
       "style": "IPY_MODEL_43d7ac570b594951811a24839d871df0",
       "value": "Validation DataLoader 0: 100%"
      }
     },
     "7717b5f441ec44649fc8584796836bd1": {
      "model_module": "@jupyter-widgets/controls",
      "model_module_version": "1.5.0",
      "model_name": "HTMLModel",
      "state": {
       "layout": "IPY_MODEL_db32c14ad93240cc9b9c1a59874ee660",
       "style": "IPY_MODEL_dc4f03e679264fc5ac7def34e3b5f80a",
       "value": " 61/61 [00:26&lt;00:00,  2.32it/s]"
      }
     },
     "785350e5eefb4a06b46dac5791d2e7a8": {
      "model_module": "@jupyter-widgets/controls",
      "model_module_version": "1.5.0",
      "model_name": "FloatProgressModel",
      "state": {
       "layout": "IPY_MODEL_acacc00383734622a47e3b4559a832e4",
       "max": 61,
       "style": "IPY_MODEL_3a0e372351b448d19a0e40f3ee264081",
       "value": 61
      }
     },
     "7a849421f0fb4e2bbe8c55b4c9b39656": {
      "model_module": "@jupyter-widgets/controls",
      "model_module_version": "1.5.0",
      "model_name": "HTMLModel",
      "state": {
       "layout": "IPY_MODEL_5c78cfa8d4f041c38ae9f8df80cd6582",
       "style": "IPY_MODEL_6a9bbcb1ef9548258226c7e0c4508338",
       "value": "Validation DataLoader 0: 100%"
      }
     },
     "7afc1ca001134ca88ff26dcb02dbfc9a": {
      "model_module": "@jupyter-widgets/base",
      "model_module_version": "1.2.0",
      "model_name": "LayoutModel",
      "state": {}
     },
     "7b11f8fe1a2a4cf8987538a477e08d1b": {
      "model_module": "@jupyter-widgets/controls",
      "model_module_version": "1.5.0",
      "model_name": "ProgressStyleModel",
      "state": {
       "description_width": ""
      }
     },
     "7b4324a5fb37416ab6a5b281c556a924": {
      "model_module": "@jupyter-widgets/controls",
      "model_module_version": "1.5.0",
      "model_name": "HTMLModel",
      "state": {
       "layout": "IPY_MODEL_0253aa5133544d628af5d2aba511aca9",
       "style": "IPY_MODEL_390918f13c53473e8b3a1807bf2448b6",
       "value": "Validation DataLoader 0: 100%"
      }
     },
     "7ba5bfe08daf449b941fb126b09d6e93": {
      "model_module": "@jupyter-widgets/controls",
      "model_module_version": "1.5.0",
      "model_name": "HTMLModel",
      "state": {
       "layout": "IPY_MODEL_ff27293a98aa4c58aff11b4428590fa3",
       "style": "IPY_MODEL_21a0e825dcd946bfaa4d47760eb445f9",
       "value": " 61/61 [00:26&lt;00:00,  2.32it/s]"
      }
     },
     "7bb731fa147d491989a58667e276bff1": {
      "model_module": "@jupyter-widgets/base",
      "model_module_version": "1.2.0",
      "model_name": "LayoutModel",
      "state": {
       "display": "inline-flex",
       "flex_flow": "row wrap",
       "visibility": "hidden",
       "width": "100%"
      }
     },
     "7c157f3be23a426eb18528c546d6334e": {
      "model_module": "@jupyter-widgets/controls",
      "model_module_version": "1.5.0",
      "model_name": "HTMLModel",
      "state": {
       "layout": "IPY_MODEL_31960d753da84463b7f56e05fee21e2c",
       "style": "IPY_MODEL_920bc72ff62e42f8bbc8a980eeeb885d",
       "value": "Validation DataLoader 0: 100%"
      }
     },
     "7c19202f28c34616ac47abb21499c87a": {
      "model_module": "@jupyter-widgets/base",
      "model_module_version": "1.2.0",
      "model_name": "LayoutModel",
      "state": {
       "display": "inline-flex",
       "flex_flow": "row wrap",
       "visibility": "hidden",
       "width": "100%"
      }
     },
     "7f3fe10d770a41cb9c95dd44c7226c6e": {
      "model_module": "@jupyter-widgets/base",
      "model_module_version": "1.2.0",
      "model_name": "LayoutModel",
      "state": {
       "display": "inline-flex",
       "flex_flow": "row wrap",
       "visibility": "hidden",
       "width": "100%"
      }
     },
     "80463719a1c947cd81bf31c9eeffbf24": {
      "model_module": "@jupyter-widgets/base",
      "model_module_version": "1.2.0",
      "model_name": "LayoutModel",
      "state": {}
     },
     "809420bc35934f22be023f9f8f80fc17": {
      "model_module": "@jupyter-widgets/controls",
      "model_module_version": "1.5.0",
      "model_name": "FloatProgressModel",
      "state": {
       "layout": "IPY_MODEL_fd2e94ba765b4c2fba6a354efba6382c",
       "max": 61,
       "style": "IPY_MODEL_daaf2975c0904a499494bf38b4852473",
       "value": 61
      }
     },
     "815ac4718b8e4971ab1046ea804fe12a": {
      "model_module": "@jupyter-widgets/controls",
      "model_module_version": "1.5.0",
      "model_name": "HTMLModel",
      "state": {
       "layout": "IPY_MODEL_5709c1b81e6340e9a66b05c3463a2241",
       "style": "IPY_MODEL_5ede15777e2a4a909d832877be6f5576",
       "value": " 61/61 [00:26&lt;00:00,  2.32it/s]"
      }
     },
     "81e39ad62ac04b1b867ad91a4ad3f992": {
      "model_module": "@jupyter-widgets/base",
      "model_module_version": "1.2.0",
      "model_name": "LayoutModel",
      "state": {}
     },
     "8221bd40753b4d4595a27560e657becb": {
      "model_module": "@jupyter-widgets/controls",
      "model_module_version": "1.5.0",
      "model_name": "FloatProgressModel",
      "state": {
       "layout": "IPY_MODEL_74629410be834bea8a3e157233e64000",
       "max": 61,
       "style": "IPY_MODEL_8402de9028124d5dbf030b83db2b81a1",
       "value": 61
      }
     },
     "83b0bac0d6624dbfa04bf557226be56a": {
      "model_module": "@jupyter-widgets/controls",
      "model_module_version": "1.5.0",
      "model_name": "FloatProgressModel",
      "state": {
       "layout": "IPY_MODEL_05e6936cd1a04bf9a6c056cbaeb58ea4",
       "max": 61,
       "style": "IPY_MODEL_ccf63e85633f4227a70e1c50cb3fc508",
       "value": 61
      }
     },
     "8402de9028124d5dbf030b83db2b81a1": {
      "model_module": "@jupyter-widgets/controls",
      "model_module_version": "1.5.0",
      "model_name": "ProgressStyleModel",
      "state": {
       "description_width": ""
      }
     },
     "8485819a3178409f9807ba0b71967574": {
      "model_module": "@jupyter-widgets/controls",
      "model_module_version": "1.5.0",
      "model_name": "FloatProgressModel",
      "state": {
       "layout": "IPY_MODEL_7363498dfb2142efbd27d5334eccbdf5",
       "max": 61,
       "style": "IPY_MODEL_290dcc7c341d4505adb2d43ff37a4fce",
       "value": 61
      }
     },
     "85ef6d383c99424884fa223c87550689": {
      "model_module": "@jupyter-widgets/controls",
      "model_module_version": "1.5.0",
      "model_name": "HTMLModel",
      "state": {
       "layout": "IPY_MODEL_d84fc6b913c943128ba96e563d5aa9ae",
       "style": "IPY_MODEL_af778681154d409f9a1c3b0a7ac8a980",
       "value": "Validation DataLoader 0: 100%"
      }
     },
     "88690cab9778400789f4ca94b3a3c998": {
      "model_module": "@jupyter-widgets/controls",
      "model_module_version": "1.5.0",
      "model_name": "HTMLModel",
      "state": {
       "layout": "IPY_MODEL_bfa37971d4b047aba64d2f154579b16a",
       "style": "IPY_MODEL_d6981b0ff9b5403f806edcbfe4e276f3",
       "value": " 61/61 [00:26&lt;00:00,  2.32it/s]"
      }
     },
     "88698104cb2a4a24a3a1ef3f1f885ea7": {
      "model_module": "@jupyter-widgets/base",
      "model_module_version": "1.2.0",
      "model_name": "LayoutModel",
      "state": {
       "flex": "2"
      }
     },
     "8987a6b7a4fe4a03a83a5fc0be4ef7f3": {
      "model_module": "@jupyter-widgets/controls",
      "model_module_version": "1.5.0",
      "model_name": "FloatProgressModel",
      "state": {
       "layout": "IPY_MODEL_4a6b33fd50df4fbebe2b50e97f5b01e0",
       "max": 61,
       "style": "IPY_MODEL_2a3b458c160d4e79b5ad48e2ab377e69",
       "value": 61
      }
     },
     "89c1d63379c340c7bfcd24bf0a22fba8": {
      "model_module": "@jupyter-widgets/base",
      "model_module_version": "1.2.0",
      "model_name": "LayoutModel",
      "state": {}
     },
     "89fba37cfaaf4ab2a92ccac34f6ba1ba": {
      "model_module": "@jupyter-widgets/base",
      "model_module_version": "1.2.0",
      "model_name": "LayoutModel",
      "state": {}
     },
     "8b29752a8a5d4dfc89058ebf71d6533a": {
      "model_module": "@jupyter-widgets/controls",
      "model_module_version": "1.5.0",
      "model_name": "FloatProgressModel",
      "state": {
       "layout": "IPY_MODEL_6521a7fcc02d4aa596e09235c5accd8d",
       "max": 61,
       "style": "IPY_MODEL_f47c5ca9016b41b58691c280f42462b8",
       "value": 61
      }
     },
     "8c271abc4eee4b729425d583f82fc825": {
      "model_module": "@jupyter-widgets/controls",
      "model_module_version": "1.5.0",
      "model_name": "ProgressStyleModel",
      "state": {
       "description_width": ""
      }
     },
     "8f99fe706a1c415c8f2ca5b32cd04165": {
      "model_module": "@jupyter-widgets/controls",
      "model_module_version": "1.5.0",
      "model_name": "ProgressStyleModel",
      "state": {
       "description_width": ""
      }
     },
     "8fc7631c91244cf69794a37af1c5009f": {
      "model_module": "@jupyter-widgets/controls",
      "model_module_version": "1.5.0",
      "model_name": "DescriptionStyleModel",
      "state": {
       "description_width": ""
      }
     },
     "9101ee9972624fd9be4f89370ebbd449": {
      "model_module": "@jupyter-widgets/base",
      "model_module_version": "1.2.0",
      "model_name": "LayoutModel",
      "state": {
       "flex": "2"
      }
     },
     "920bc72ff62e42f8bbc8a980eeeb885d": {
      "model_module": "@jupyter-widgets/controls",
      "model_module_version": "1.5.0",
      "model_name": "DescriptionStyleModel",
      "state": {
       "description_width": ""
      }
     },
     "93042d62b5cd4523829624d9168c8e3d": {
      "model_module": "@jupyter-widgets/base",
      "model_module_version": "1.2.0",
      "model_name": "LayoutModel",
      "state": {
       "flex": "2"
      }
     },
     "932b836e3b5742a3b05fc6766a90386b": {
      "model_module": "@jupyter-widgets/base",
      "model_module_version": "1.2.0",
      "model_name": "LayoutModel",
      "state": {}
     },
     "94464583d2a74d029c5511e894de5f41": {
      "model_module": "@jupyter-widgets/base",
      "model_module_version": "1.2.0",
      "model_name": "LayoutModel",
      "state": {
       "flex": "2"
      }
     },
     "96eb0e79b96b474bb398cbdb2863a784": {
      "model_module": "@jupyter-widgets/base",
      "model_module_version": "1.2.0",
      "model_name": "LayoutModel",
      "state": {}
     },
     "97367838b0f44bdcb0cd4bd587c63085": {
      "model_module": "@jupyter-widgets/controls",
      "model_module_version": "1.5.0",
      "model_name": "FloatProgressModel",
      "state": {
       "layout": "IPY_MODEL_df43341e586b403399c9aee0e3afef1a",
       "max": 61,
       "style": "IPY_MODEL_515008a48396464aa4cf6410b90bc993",
       "value": 61
      }
     },
     "997995871e55408d97fcb2baa7033bb4": {
      "model_module": "@jupyter-widgets/controls",
      "model_module_version": "1.5.0",
      "model_name": "DescriptionStyleModel",
      "state": {
       "description_width": ""
      }
     },
     "99dca06080394a08b9d45daa025253dd": {
      "model_module": "@jupyter-widgets/base",
      "model_module_version": "1.2.0",
      "model_name": "LayoutModel",
      "state": {
       "display": "inline-flex",
       "flex_flow": "row wrap",
       "visibility": "hidden",
       "width": "100%"
      }
     },
     "9a815a6e91d1442e817e3180e95b80f5": {
      "model_module": "@jupyter-widgets/base",
      "model_module_version": "1.2.0",
      "model_name": "LayoutModel",
      "state": {}
     },
     "9a95b4236d834346aa93b1f04386e2fd": {
      "model_module": "@jupyter-widgets/base",
      "model_module_version": "1.2.0",
      "model_name": "LayoutModel",
      "state": {
       "display": "inline-flex",
       "flex_flow": "row wrap",
       "visibility": "hidden",
       "width": "100%"
      }
     },
     "9b3ce62884914c5c97d10c01ff9cf107": {
      "model_module": "@jupyter-widgets/controls",
      "model_module_version": "1.5.0",
      "model_name": "HTMLModel",
      "state": {
       "layout": "IPY_MODEL_dd9f4d69d55a4e86b45e74a69989fd08",
       "style": "IPY_MODEL_a3de565f7542401aa579c24581a5d417",
       "value": " 61/61 [00:26&lt;00:00,  2.31it/s]"
      }
     },
     "9f180c6303f94a1faf0b3d6f51fd68e0": {
      "model_module": "@jupyter-widgets/base",
      "model_module_version": "1.2.0",
      "model_name": "LayoutModel",
      "state": {
       "display": "inline-flex",
       "flex_flow": "row wrap",
       "visibility": "hidden",
       "width": "100%"
      }
     },
     "9ff175db5bcb4dbbbae2027bd335e874": {
      "model_module": "@jupyter-widgets/controls",
      "model_module_version": "1.5.0",
      "model_name": "ProgressStyleModel",
      "state": {
       "description_width": ""
      }
     },
     "a0a0efd325c748779fbe6777fd3c5b21": {
      "model_module": "@jupyter-widgets/controls",
      "model_module_version": "1.5.0",
      "model_name": "DescriptionStyleModel",
      "state": {
       "description_width": ""
      }
     },
     "a0f3b8f90ba7461d84accc7841dc90bb": {
      "model_module": "@jupyter-widgets/controls",
      "model_module_version": "1.5.0",
      "model_name": "HTMLModel",
      "state": {
       "layout": "IPY_MODEL_9a815a6e91d1442e817e3180e95b80f5",
       "style": "IPY_MODEL_ac2c5eff11e34d4ca334463a1a333ce6",
       "value": " 61/61 [00:26&lt;00:00,  2.31it/s]"
      }
     },
     "a34f79dca7544f64ae7f61b5c0321ff8": {
      "model_module": "@jupyter-widgets/controls",
      "model_module_version": "1.5.0",
      "model_name": "HTMLModel",
      "state": {
       "layout": "IPY_MODEL_4db19ac71d8e4dce8e7936424ff6bf3a",
       "style": "IPY_MODEL_17231b5b5c3c48e4b9ac409c95121766",
       "value": " 61/61 [00:39&lt;00:00,  1.55it/s]"
      }
     },
     "a3de565f7542401aa579c24581a5d417": {
      "model_module": "@jupyter-widgets/controls",
      "model_module_version": "1.5.0",
      "model_name": "DescriptionStyleModel",
      "state": {
       "description_width": ""
      }
     },
     "a797882bc2b3433bba50d26fc55a3b02": {
      "model_module": "@jupyter-widgets/controls",
      "model_module_version": "1.5.0",
      "model_name": "HTMLModel",
      "state": {
       "layout": "IPY_MODEL_4c6cee4cf3a848088fc770344942970c",
       "style": "IPY_MODEL_997995871e55408d97fcb2baa7033bb4",
       "value": "Validation DataLoader 0: 100%"
      }
     },
     "a80a87e6a7704bb096fbdce0b699c06b": {
      "model_module": "@jupyter-widgets/base",
      "model_module_version": "1.2.0",
      "model_name": "LayoutModel",
      "state": {
       "flex": "2"
      }
     },
     "ab0a7f3687994182b13537fbd418c57b": {
      "model_module": "@jupyter-widgets/controls",
      "model_module_version": "1.5.0",
      "model_name": "HTMLModel",
      "state": {
       "layout": "IPY_MODEL_e5023670334a4729bb1c4615bb8048dc",
       "style": "IPY_MODEL_bfcf875276174715ac696025dee72a27",
       "value": " 61/61 [00:26&lt;00:00,  2.32it/s]"
      }
     },
     "ac2c5eff11e34d4ca334463a1a333ce6": {
      "model_module": "@jupyter-widgets/controls",
      "model_module_version": "1.5.0",
      "model_name": "DescriptionStyleModel",
      "state": {
       "description_width": ""
      }
     },
     "ac5c0ed95daf490b98ab893b750f375b": {
      "model_module": "@jupyter-widgets/base",
      "model_module_version": "1.2.0",
      "model_name": "LayoutModel",
      "state": {
       "display": "inline-flex",
       "flex_flow": "row wrap",
       "visibility": "hidden",
       "width": "100%"
      }
     },
     "ac7db7b6d1d84af2aa01a2512735d495": {
      "model_module": "@jupyter-widgets/controls",
      "model_module_version": "1.5.0",
      "model_name": "DescriptionStyleModel",
      "state": {
       "description_width": ""
      }
     },
     "acacc00383734622a47e3b4559a832e4": {
      "model_module": "@jupyter-widgets/base",
      "model_module_version": "1.2.0",
      "model_name": "LayoutModel",
      "state": {
       "flex": "2"
      }
     },
     "ad4a0f56a62f4ccd82e3071f95a8d4c7": {
      "model_module": "@jupyter-widgets/base",
      "model_module_version": "1.2.0",
      "model_name": "LayoutModel",
      "state": {
       "flex": "2"
      }
     },
     "adebf40fb9a44bd4817259d06a6148c0": {
      "model_module": "@jupyter-widgets/controls",
      "model_module_version": "1.5.0",
      "model_name": "DescriptionStyleModel",
      "state": {
       "description_width": ""
      }
     },
     "ae3ea4f2ae2e4df6a53b0764c11c4f82": {
      "model_module": "@jupyter-widgets/base",
      "model_module_version": "1.2.0",
      "model_name": "LayoutModel",
      "state": {}
     },
     "af1e7bebb1c24bb39080f587fc97c6b5": {
      "model_module": "@jupyter-widgets/base",
      "model_module_version": "1.2.0",
      "model_name": "LayoutModel",
      "state": {}
     },
     "af778681154d409f9a1c3b0a7ac8a980": {
      "model_module": "@jupyter-widgets/controls",
      "model_module_version": "1.5.0",
      "model_name": "DescriptionStyleModel",
      "state": {
       "description_width": ""
      }
     },
     "b1171f111d83488a8a41d36f57c0c7af": {
      "model_module": "@jupyter-widgets/controls",
      "model_module_version": "1.5.0",
      "model_name": "ProgressStyleModel",
      "state": {
       "description_width": ""
      }
     },
     "b1f58d697fd5411882cbfce0fcecae48": {
      "model_module": "@jupyter-widgets/controls",
      "model_module_version": "1.5.0",
      "model_name": "HTMLModel",
      "state": {
       "layout": "IPY_MODEL_75cfe827d5ae4641bbca0e59cc37833b",
       "style": "IPY_MODEL_c78d289164644213975b08e39defdbba",
       "value": "Validation DataLoader 0: 100%"
      }
     },
     "b3d2cf97881d49d5a2b0fea240b8eaf6": {
      "model_module": "@jupyter-widgets/base",
      "model_module_version": "1.2.0",
      "model_name": "LayoutModel",
      "state": {}
     },
     "b64fe02214dc4fe0b131a95f4b5276bc": {
      "model_module": "@jupyter-widgets/controls",
      "model_module_version": "1.5.0",
      "model_name": "DescriptionStyleModel",
      "state": {
       "description_width": ""
      }
     },
     "b7dfc735f10d48b0b1efe00b0606ca0c": {
      "model_module": "@jupyter-widgets/base",
      "model_module_version": "1.2.0",
      "model_name": "LayoutModel",
      "state": {}
     },
     "b7f7f915c31a4adb8ad5d72f46b77e87": {
      "model_module": "@jupyter-widgets/base",
      "model_module_version": "1.2.0",
      "model_name": "LayoutModel",
      "state": {
       "display": "inline-flex",
       "flex_flow": "row wrap",
       "visibility": "hidden",
       "width": "100%"
      }
     },
     "b8df1058a3234db883b1d27fd6d1d437": {
      "model_module": "@jupyter-widgets/controls",
      "model_module_version": "1.5.0",
      "model_name": "DescriptionStyleModel",
      "state": {
       "description_width": ""
      }
     },
     "b8f08626c09d45aebce0696c3ae138ba": {
      "model_module": "@jupyter-widgets/controls",
      "model_module_version": "1.5.0",
      "model_name": "DescriptionStyleModel",
      "state": {
       "description_width": ""
      }
     },
     "b940e9b075c242a4be971f1f2a163075": {
      "model_module": "@jupyter-widgets/controls",
      "model_module_version": "1.5.0",
      "model_name": "HTMLModel",
      "state": {
       "layout": "IPY_MODEL_459a366454794d5f80703ff5b11f8a0e",
       "style": "IPY_MODEL_d97a3191caa54e55b0dde474df4933e6",
       "value": " 61/61 [00:26&lt;00:00,  2.32it/s]"
      }
     },
     "b9a6381eee4045098364264593035ff8": {
      "model_module": "@jupyter-widgets/controls",
      "model_module_version": "1.5.0",
      "model_name": "HTMLModel",
      "state": {
       "layout": "IPY_MODEL_89fba37cfaaf4ab2a92ccac34f6ba1ba",
       "style": "IPY_MODEL_a0a0efd325c748779fbe6777fd3c5b21",
       "value": " 61/61 [00:26&lt;00:00,  2.32it/s]"
      }
     },
     "ba81ac7c31744ed095cff9352b30afc2": {
      "model_module": "@jupyter-widgets/base",
      "model_module_version": "1.2.0",
      "model_name": "LayoutModel",
      "state": {}
     },
     "bd9e39ac283246d09fd77ab588c4bad5": {
      "model_module": "@jupyter-widgets/controls",
      "model_module_version": "1.5.0",
      "model_name": "FloatProgressModel",
      "state": {
       "layout": "IPY_MODEL_f1697b0aa5d74bdc8d0739317294c8ca",
       "max": 61,
       "style": "IPY_MODEL_8c271abc4eee4b729425d583f82fc825",
       "value": 61
      }
     },
     "bda764c8c6ad45c887a01ec3682ff95e": {
      "model_module": "@jupyter-widgets/controls",
      "model_module_version": "1.5.0",
      "model_name": "HTMLModel",
      "state": {
       "layout": "IPY_MODEL_be05b11379f34672aac4814d03c52e58",
       "style": "IPY_MODEL_c24b55fa9ed34f118c1075e83aa72da8",
       "value": "Validation DataLoader 0: 100%"
      }
     },
     "be05b11379f34672aac4814d03c52e58": {
      "model_module": "@jupyter-widgets/base",
      "model_module_version": "1.2.0",
      "model_name": "LayoutModel",
      "state": {}
     },
     "bfa37971d4b047aba64d2f154579b16a": {
      "model_module": "@jupyter-widgets/base",
      "model_module_version": "1.2.0",
      "model_name": "LayoutModel",
      "state": {}
     },
     "bfcf875276174715ac696025dee72a27": {
      "model_module": "@jupyter-widgets/controls",
      "model_module_version": "1.5.0",
      "model_name": "DescriptionStyleModel",
      "state": {
       "description_width": ""
      }
     },
     "c09e45c6cbc247bfb65af795389c75d0": {
      "model_module": "@jupyter-widgets/base",
      "model_module_version": "1.2.0",
      "model_name": "LayoutModel",
      "state": {
       "display": "inline-flex",
       "flex_flow": "row wrap",
       "visibility": "hidden",
       "width": "100%"
      }
     },
     "c12435589fa947939532f249ac7d55e8": {
      "model_module": "@jupyter-widgets/controls",
      "model_module_version": "1.5.0",
      "model_name": "ProgressStyleModel",
      "state": {
       "description_width": ""
      }
     },
     "c18ffd779f764182b1e9be68160d0e9f": {
      "model_module": "@jupyter-widgets/controls",
      "model_module_version": "1.5.0",
      "model_name": "HTMLModel",
      "state": {
       "layout": "IPY_MODEL_1cf40399f19e488f9a5c7d909aabd707",
       "style": "IPY_MODEL_313f42a0cd2c4dfbba8b5827b2d317da",
       "value": "Validation DataLoader 0: 100%"
      }
     },
     "c24b55fa9ed34f118c1075e83aa72da8": {
      "model_module": "@jupyter-widgets/controls",
      "model_module_version": "1.5.0",
      "model_name": "DescriptionStyleModel",
      "state": {
       "description_width": ""
      }
     },
     "c42ed8c5b80e4d35b865eda01f13db63": {
      "model_module": "@jupyter-widgets/base",
      "model_module_version": "1.2.0",
      "model_name": "LayoutModel",
      "state": {
       "flex": "2"
      }
     },
     "c5b3fa1eceb04cb3b47ebae8ea3ddbcd": {
      "model_module": "@jupyter-widgets/controls",
      "model_module_version": "1.5.0",
      "model_name": "HTMLModel",
      "state": {
       "layout": "IPY_MODEL_96eb0e79b96b474bb398cbdb2863a784",
       "style": "IPY_MODEL_72b30b90145d435aac92e5a0d11c823d",
       "value": "Validation DataLoader 0: 100%"
      }
     },
     "c5fee1a1cf994debb98809b311cd6b52": {
      "model_module": "@jupyter-widgets/base",
      "model_module_version": "1.2.0",
      "model_name": "LayoutModel",
      "state": {}
     },
     "c6209e08f8f64ee6804c59571af08470": {
      "model_module": "@jupyter-widgets/controls",
      "model_module_version": "1.5.0",
      "model_name": "HTMLModel",
      "state": {
       "layout": "IPY_MODEL_e2b8f06c64e04b4aa0c70775efc3bd8f",
       "style": "IPY_MODEL_b8f08626c09d45aebce0696c3ae138ba",
       "value": "Validation DataLoader 0: 100%"
      }
     },
     "c78d289164644213975b08e39defdbba": {
      "model_module": "@jupyter-widgets/controls",
      "model_module_version": "1.5.0",
      "model_name": "DescriptionStyleModel",
      "state": {
       "description_width": ""
      }
     },
     "c944255b8ad54472a4643f12ae4455ef": {
      "model_module": "@jupyter-widgets/controls",
      "model_module_version": "1.5.0",
      "model_name": "DescriptionStyleModel",
      "state": {
       "description_width": ""
      }
     },
     "ca080547525847aabf106b80738386d1": {
      "model_module": "@jupyter-widgets/controls",
      "model_module_version": "1.5.0",
      "model_name": "HTMLModel",
      "state": {
       "layout": "IPY_MODEL_1e6e0d89bfc1434daa2d10d93c480e73",
       "style": "IPY_MODEL_3beb6d7879764175b76bcabb35646f2a",
       "value": " 61/61 [00:26&lt;00:00,  2.32it/s]"
      }
     },
     "cabf216439a94ef889e8b07d511e0818": {
      "model_module": "@jupyter-widgets/controls",
      "model_module_version": "1.5.0",
      "model_name": "HTMLModel",
      "state": {
       "layout": "IPY_MODEL_b3d2cf97881d49d5a2b0fea240b8eaf6",
       "style": "IPY_MODEL_8fc7631c91244cf69794a37af1c5009f",
       "value": " 2/2 [00:43&lt;00:00,  0.05it/s]"
      }
     },
     "cb33e40ff8fe4fb2830556e289c797b1": {
      "model_module": "@jupyter-widgets/controls",
      "model_module_version": "1.5.0",
      "model_name": "ProgressStyleModel",
      "state": {
       "description_width": ""
      }
     },
     "cb86ddd0c3fa47388c4b758381377b2b": {
      "model_module": "@jupyter-widgets/base",
      "model_module_version": "1.2.0",
      "model_name": "LayoutModel",
      "state": {}
     },
     "ccc4e9fcbd374b3aa9b012177323bcbc": {
      "model_module": "@jupyter-widgets/controls",
      "model_module_version": "1.5.0",
      "model_name": "FloatProgressModel",
      "state": {
       "layout": "IPY_MODEL_a80a87e6a7704bb096fbdce0b699c06b",
       "max": 61,
       "style": "IPY_MODEL_e551e3bf2ff44972b9f21fb7182cb1a4",
       "value": 61
      }
     },
     "ccf63e85633f4227a70e1c50cb3fc508": {
      "model_module": "@jupyter-widgets/controls",
      "model_module_version": "1.5.0",
      "model_name": "ProgressStyleModel",
      "state": {
       "description_width": ""
      }
     },
     "cd4664c2495742ab873bc4e4b0239d67": {
      "model_module": "@jupyter-widgets/base",
      "model_module_version": "1.2.0",
      "model_name": "LayoutModel",
      "state": {
       "flex": "2"
      }
     },
     "ce7dd75451df47c18f271bf0112ee154": {
      "model_module": "@jupyter-widgets/base",
      "model_module_version": "1.2.0",
      "model_name": "LayoutModel",
      "state": {
       "display": "inline-flex",
       "flex_flow": "row wrap",
       "visibility": "hidden",
       "width": "100%"
      }
     },
     "cf74bd209e7f456cb885a3124182a94e": {
      "model_module": "@jupyter-widgets/controls",
      "model_module_version": "1.5.0",
      "model_name": "HTMLModel",
      "state": {
       "layout": "IPY_MODEL_565ceff448c6410b9700a233d37a7144",
       "style": "IPY_MODEL_6600f7f851cc49df831a47edd6dc96b2",
       "value": "Validation DataLoader 0: 100%"
      }
     },
     "cfe3ba7c98464fcea710802554062100": {
      "model_module": "@jupyter-widgets/controls",
      "model_module_version": "1.5.0",
      "model_name": "DescriptionStyleModel",
      "state": {
       "description_width": ""
      }
     },
     "d133e5cff3f94238aed8a10764f6652f": {
      "model_module": "@jupyter-widgets/base",
      "model_module_version": "1.2.0",
      "model_name": "LayoutModel",
      "state": {}
     },
     "d1b878931321473ebaa6f045964e5a89": {
      "model_module": "@jupyter-widgets/controls",
      "model_module_version": "1.5.0",
      "model_name": "HTMLModel",
      "state": {
       "layout": "IPY_MODEL_b7dfc735f10d48b0b1efe00b0606ca0c",
       "style": "IPY_MODEL_4e22d953c0e3433ba6d76f5a437e1b73",
       "value": "Validation DataLoader 0: 100%"
      }
     },
     "d2e83fba198442f284da406a0e60c88a": {
      "model_module": "@jupyter-widgets/controls",
      "model_module_version": "1.5.0",
      "model_name": "FloatProgressModel",
      "state": {
       "layout": "IPY_MODEL_37c4354844a7411880de12a85228faff",
       "max": 2,
       "style": "IPY_MODEL_9ff175db5bcb4dbbbae2027bd335e874",
       "value": 2
      }
     },
     "d3e774fce6c7485982beb414c810f8b3": {
      "model_module": "@jupyter-widgets/controls",
      "model_module_version": "1.5.0",
      "model_name": "HTMLModel",
      "state": {
       "layout": "IPY_MODEL_932b836e3b5742a3b05fc6766a90386b",
       "style": "IPY_MODEL_f37da9ebc31844fa9f19ab97be2d3d51",
       "value": "Validation DataLoader 0: 100%"
      }
     },
     "d6981b0ff9b5403f806edcbfe4e276f3": {
      "model_module": "@jupyter-widgets/controls",
      "model_module_version": "1.5.0",
      "model_name": "DescriptionStyleModel",
      "state": {
       "description_width": ""
      }
     },
     "d69e28ce94d849d9b3a322e1bdf65a02": {
      "model_module": "@jupyter-widgets/controls",
      "model_module_version": "1.5.0",
      "model_name": "ProgressStyleModel",
      "state": {
       "description_width": ""
      }
     },
     "d6f96d2736ed4781847b7f890ff98556": {
      "model_module": "@jupyter-widgets/controls",
      "model_module_version": "1.5.0",
      "model_name": "FloatProgressModel",
      "state": {
       "layout": "IPY_MODEL_cd4664c2495742ab873bc4e4b0239d67",
       "max": 61,
       "style": "IPY_MODEL_d69e28ce94d849d9b3a322e1bdf65a02",
       "value": 61
      }
     },
     "d7b107a36a614ab8a7f9bf3bcf667a8b": {
      "model_module": "@jupyter-widgets/controls",
      "model_module_version": "1.5.0",
      "model_name": "HTMLModel",
      "state": {
       "layout": "IPY_MODEL_af1e7bebb1c24bb39080f587fc97c6b5",
       "style": "IPY_MODEL_395a76c9322241369b69c6f11497ded8",
       "value": " 61/61 [00:26&lt;00:00,  2.32it/s]"
      }
     },
     "d84fc6b913c943128ba96e563d5aa9ae": {
      "model_module": "@jupyter-widgets/base",
      "model_module_version": "1.2.0",
      "model_name": "LayoutModel",
      "state": {}
     },
     "d95b11b74dc946f190d5bb3db8e0809b": {
      "model_module": "@jupyter-widgets/controls",
      "model_module_version": "1.5.0",
      "model_name": "HTMLModel",
      "state": {
       "layout": "IPY_MODEL_5d4f8b6b837343dbbb6feb3315de0629",
       "style": "IPY_MODEL_fbcbfe0197304f9993c5ffd83efcd125",
       "value": "Validation DataLoader 0: 100%"
      }
     },
     "d97a3191caa54e55b0dde474df4933e6": {
      "model_module": "@jupyter-widgets/controls",
      "model_module_version": "1.5.0",
      "model_name": "DescriptionStyleModel",
      "state": {
       "description_width": ""
      }
     },
     "da92712c3a304ab298050f90690b36e2": {
      "model_module": "@jupyter-widgets/base",
      "model_module_version": "1.2.0",
      "model_name": "LayoutModel",
      "state": {
       "flex": "2"
      }
     },
     "daaf2975c0904a499494bf38b4852473": {
      "model_module": "@jupyter-widgets/controls",
      "model_module_version": "1.5.0",
      "model_name": "ProgressStyleModel",
      "state": {
       "description_width": ""
      }
     },
     "db32c14ad93240cc9b9c1a59874ee660": {
      "model_module": "@jupyter-widgets/base",
      "model_module_version": "1.2.0",
      "model_name": "LayoutModel",
      "state": {}
     },
     "dc4f03e679264fc5ac7def34e3b5f80a": {
      "model_module": "@jupyter-widgets/controls",
      "model_module_version": "1.5.0",
      "model_name": "DescriptionStyleModel",
      "state": {
       "description_width": ""
      }
     },
     "dc6d738530f34705a8531be736431767": {
      "model_module": "@jupyter-widgets/base",
      "model_module_version": "1.2.0",
      "model_name": "LayoutModel",
      "state": {}
     },
     "dd0c1805633d44f089b9a502586485a9": {
      "model_module": "@jupyter-widgets/controls",
      "model_module_version": "1.5.0",
      "model_name": "FloatProgressModel",
      "state": {
       "layout": "IPY_MODEL_fdea05daf99b4b949be9c2caf16fa0d0",
       "max": 61,
       "style": "IPY_MODEL_11a9fc8f06fd4993903174dc08a39e35",
       "value": 61
      }
     },
     "dd9f4d69d55a4e86b45e74a69989fd08": {
      "model_module": "@jupyter-widgets/base",
      "model_module_version": "1.2.0",
      "model_name": "LayoutModel",
      "state": {}
     },
     "df43341e586b403399c9aee0e3afef1a": {
      "model_module": "@jupyter-widgets/base",
      "model_module_version": "1.2.0",
      "model_name": "LayoutModel",
      "state": {
       "flex": "2"
      }
     },
     "dfcb58e9bb62495c8e3d39cca837329f": {
      "model_module": "@jupyter-widgets/base",
      "model_module_version": "1.2.0",
      "model_name": "LayoutModel",
      "state": {}
     },
     "e0e11f714e94480abcd21b6d41af7acf": {
      "model_module": "@jupyter-widgets/base",
      "model_module_version": "1.2.0",
      "model_name": "LayoutModel",
      "state": {}
     },
     "e10f4abebb4a40019d929099bbec5296": {
      "model_module": "@jupyter-widgets/base",
      "model_module_version": "1.2.0",
      "model_name": "LayoutModel",
      "state": {}
     },
     "e160df3528b047658ff52b6f95100cfe": {
      "model_module": "@jupyter-widgets/base",
      "model_module_version": "1.2.0",
      "model_name": "LayoutModel",
      "state": {
       "display": "inline-flex",
       "flex_flow": "row wrap",
       "visibility": "hidden",
       "width": "100%"
      }
     },
     "e177bb107b2e468689ee85de38a129af": {
      "model_module": "@jupyter-widgets/controls",
      "model_module_version": "1.5.0",
      "model_name": "DescriptionStyleModel",
      "state": {
       "description_width": ""
      }
     },
     "e2b8f06c64e04b4aa0c70775efc3bd8f": {
      "model_module": "@jupyter-widgets/base",
      "model_module_version": "1.2.0",
      "model_name": "LayoutModel",
      "state": {}
     },
     "e5023670334a4729bb1c4615bb8048dc": {
      "model_module": "@jupyter-widgets/base",
      "model_module_version": "1.2.0",
      "model_name": "LayoutModel",
      "state": {}
     },
     "e551e3bf2ff44972b9f21fb7182cb1a4": {
      "model_module": "@jupyter-widgets/controls",
      "model_module_version": "1.5.0",
      "model_name": "ProgressStyleModel",
      "state": {
       "description_width": ""
      }
     },
     "e683d48df4764f9cb731fdde44644e2d": {
      "model_module": "@jupyter-widgets/base",
      "model_module_version": "1.2.0",
      "model_name": "LayoutModel",
      "state": {
       "flex": "2"
      }
     },
     "e6efa70a855545d1a676640657653a5c": {
      "model_module": "@jupyter-widgets/base",
      "model_module_version": "1.2.0",
      "model_name": "LayoutModel",
      "state": {
       "flex": "2"
      }
     },
     "e9cd1133565c46708975e99ebd471230": {
      "model_module": "@jupyter-widgets/controls",
      "model_module_version": "1.5.0",
      "model_name": "HTMLModel",
      "state": {
       "layout": "IPY_MODEL_dfcb58e9bb62495c8e3d39cca837329f",
       "style": "IPY_MODEL_6e340a77802344d08b81dd0d375f7d95",
       "value": " 61/61 [00:26&lt;00:00,  2.31it/s]"
      }
     },
     "ea5094dd9f774b92a28b7a2f7351dc28": {
      "model_module": "@jupyter-widgets/base",
      "model_module_version": "1.2.0",
      "model_name": "LayoutModel",
      "state": {
       "flex": "2"
      }
     },
     "ea6ccfd0f0e94659af61a215b8f6a621": {
      "model_module": "@jupyter-widgets/controls",
      "model_module_version": "1.5.0",
      "model_name": "FloatProgressModel",
      "state": {
       "layout": "IPY_MODEL_f15ce2e871944cbd84c998327ffa958c",
       "max": 61,
       "style": "IPY_MODEL_22fe105fe6744a4d8cfc7a1850fad7f8",
       "value": 61
      }
     },
     "eaa7a862cbc94f67ac66a7b2ab0d1bd2": {
      "model_module": "@jupyter-widgets/controls",
      "model_module_version": "1.5.0",
      "model_name": "HTMLModel",
      "state": {
       "layout": "IPY_MODEL_fe4e8dcd3ecd439f888fd9f5efba12a4",
       "style": "IPY_MODEL_4af755ffa31c4358bf4f1de6952b9109",
       "value": " 61/61 [00:26&lt;00:00,  2.32it/s]"
      }
     },
     "eb50e23980d44dad8cec2f3da5fd6c7d": {
      "model_module": "@jupyter-widgets/controls",
      "model_module_version": "1.5.0",
      "model_name": "HTMLModel",
      "state": {
       "layout": "IPY_MODEL_f4a47ebe420043b8b64c24db687343bc",
       "style": "IPY_MODEL_5f270ca5e75d4fe5a5e3a7b9d385c83b",
       "value": "Validation DataLoader 0: 100%"
      }
     },
     "ec36be6b1513465e960c73a9630c8d7b": {
      "model_module": "@jupyter-widgets/controls",
      "model_module_version": "1.5.0",
      "model_name": "DescriptionStyleModel",
      "state": {
       "description_width": ""
      }
     },
     "ed36e2230a724f4793b781ae4badbb1e": {
      "model_module": "@jupyter-widgets/controls",
      "model_module_version": "1.5.0",
      "model_name": "HTMLModel",
      "state": {
       "layout": "IPY_MODEL_6f361d2fa5a5451eafc510226d8618db",
       "style": "IPY_MODEL_adebf40fb9a44bd4817259d06a6148c0",
       "value": " 61/61 [00:26&lt;00:00,  2.32it/s]"
      }
     },
     "ee39fb183cf14a738e7067a7b56258ee": {
      "model_module": "@jupyter-widgets/base",
      "model_module_version": "1.2.0",
      "model_name": "LayoutModel",
      "state": {}
     },
     "ee5855726ce249a9ae6575e4773a7462": {
      "model_module": "@jupyter-widgets/controls",
      "model_module_version": "1.5.0",
      "model_name": "DescriptionStyleModel",
      "state": {
       "description_width": ""
      }
     },
     "ee6bc8a1b8b04117b042d3677a9348b7": {
      "model_module": "@jupyter-widgets/base",
      "model_module_version": "1.2.0",
      "model_name": "LayoutModel",
      "state": {
       "display": "inline-flex",
       "flex_flow": "row wrap",
       "visibility": "hidden",
       "width": "100%"
      }
     },
     "eea199ccdaa4483d91f00b6b5c44314e": {
      "model_module": "@jupyter-widgets/controls",
      "model_module_version": "1.5.0",
      "model_name": "ProgressStyleModel",
      "state": {
       "description_width": ""
      }
     },
     "efcec154a9424c3592fbef555a724800": {
      "model_module": "@jupyter-widgets/controls",
      "model_module_version": "1.5.0",
      "model_name": "DescriptionStyleModel",
      "state": {
       "description_width": ""
      }
     },
     "f0e9d2d6c47746e38756df5fb4e5556f": {
      "model_module": "@jupyter-widgets/base",
      "model_module_version": "1.2.0",
      "model_name": "LayoutModel",
      "state": {}
     },
     "f15ce2e871944cbd84c998327ffa958c": {
      "model_module": "@jupyter-widgets/base",
      "model_module_version": "1.2.0",
      "model_name": "LayoutModel",
      "state": {
       "flex": "2"
      }
     },
     "f1697b0aa5d74bdc8d0739317294c8ca": {
      "model_module": "@jupyter-widgets/base",
      "model_module_version": "1.2.0",
      "model_name": "LayoutModel",
      "state": {
       "flex": "2"
      }
     },
     "f3389ee3db4640cb80548174474e34c8": {
      "model_module": "@jupyter-widgets/controls",
      "model_module_version": "1.5.0",
      "model_name": "ProgressStyleModel",
      "state": {
       "description_width": ""
      }
     },
     "f37da9ebc31844fa9f19ab97be2d3d51": {
      "model_module": "@jupyter-widgets/controls",
      "model_module_version": "1.5.0",
      "model_name": "DescriptionStyleModel",
      "state": {
       "description_width": ""
      }
     },
     "f47c5ca9016b41b58691c280f42462b8": {
      "model_module": "@jupyter-widgets/controls",
      "model_module_version": "1.5.0",
      "model_name": "ProgressStyleModel",
      "state": {
       "description_width": ""
      }
     },
     "f4a47ebe420043b8b64c24db687343bc": {
      "model_module": "@jupyter-widgets/base",
      "model_module_version": "1.2.0",
      "model_name": "LayoutModel",
      "state": {}
     },
     "f651500e1c5a4125b704d47de330621f": {
      "model_module": "@jupyter-widgets/controls",
      "model_module_version": "1.5.0",
      "model_name": "ProgressStyleModel",
      "state": {
       "description_width": ""
      }
     },
     "f6b0913c52b74ae29d7669ae87077cff": {
      "model_module": "@jupyter-widgets/controls",
      "model_module_version": "1.5.0",
      "model_name": "FloatProgressModel",
      "state": {
       "layout": "IPY_MODEL_4219294183804f7a8bc7d5bcc06b9cef",
       "max": 61,
       "style": "IPY_MODEL_f651500e1c5a4125b704d47de330621f",
       "value": 61
      }
     },
     "f773c809e355414682eac0f595690a62": {
      "model_module": "@jupyter-widgets/controls",
      "model_module_version": "1.5.0",
      "model_name": "HTMLModel",
      "state": {
       "layout": "IPY_MODEL_4997347381da4636a88a8d3f3541c009",
       "style": "IPY_MODEL_f945decaed40491a917735097098a10b",
       "value": "Validation DataLoader 0: 100%"
      }
     },
     "f945decaed40491a917735097098a10b": {
      "model_module": "@jupyter-widgets/controls",
      "model_module_version": "1.5.0",
      "model_name": "DescriptionStyleModel",
      "state": {
       "description_width": ""
      }
     },
     "fb2513839da54db8a284626facdb1df9": {
      "model_module": "@jupyter-widgets/controls",
      "model_module_version": "1.5.0",
      "model_name": "DescriptionStyleModel",
      "state": {
       "description_width": ""
      }
     },
     "fbcbfe0197304f9993c5ffd83efcd125": {
      "model_module": "@jupyter-widgets/controls",
      "model_module_version": "1.5.0",
      "model_name": "DescriptionStyleModel",
      "state": {
       "description_width": ""
      }
     },
     "fc83d84eb12d4d37baab8688d70b3f35": {
      "model_module": "@jupyter-widgets/controls",
      "model_module_version": "1.5.0",
      "model_name": "FloatProgressModel",
      "state": {
       "layout": "IPY_MODEL_0d1aa21b082f43a696bc7a3421f1523d",
       "max": 61,
       "style": "IPY_MODEL_1ae52696e79d4374a0f74a5e027cd467",
       "value": 61
      }
     },
     "fceb3368968a4e28990c5db096bd9bf1": {
      "model_module": "@jupyter-widgets/controls",
      "model_module_version": "1.5.0",
      "model_name": "DescriptionStyleModel",
      "state": {
       "description_width": ""
      }
     },
     "fd1b755e6794454588736dabd1671d3b": {
      "model_module": "@jupyter-widgets/controls",
      "model_module_version": "1.5.0",
      "model_name": "HBoxModel",
      "state": {
       "children": [
        "IPY_MODEL_2b927effacdf4360951477de6797352c",
        "IPY_MODEL_0d620f4ff7ad4e999eac36fc9e2f811b",
        "IPY_MODEL_1875f33de3ef4e58880732da0c50e59b"
       ],
       "layout": "IPY_MODEL_0f9ed6fbdd8e45c6b52e5825fa4605ec"
      }
     },
     "fd2e94ba765b4c2fba6a354efba6382c": {
      "model_module": "@jupyter-widgets/base",
      "model_module_version": "1.2.0",
      "model_name": "LayoutModel",
      "state": {
       "flex": "2"
      }
     },
     "fdea05daf99b4b949be9c2caf16fa0d0": {
      "model_module": "@jupyter-widgets/base",
      "model_module_version": "1.2.0",
      "model_name": "LayoutModel",
      "state": {
       "flex": "2"
      }
     },
     "fe4e8dcd3ecd439f888fd9f5efba12a4": {
      "model_module": "@jupyter-widgets/base",
      "model_module_version": "1.2.0",
      "model_name": "LayoutModel",
      "state": {}
     },
     "ff27293a98aa4c58aff11b4428590fa3": {
      "model_module": "@jupyter-widgets/base",
      "model_module_version": "1.2.0",
      "model_name": "LayoutModel",
      "state": {}
     }
    },
    "version_major": 2,
    "version_minor": 0
   }
  }
 },
 "nbformat": 4,
 "nbformat_minor": 5
}
