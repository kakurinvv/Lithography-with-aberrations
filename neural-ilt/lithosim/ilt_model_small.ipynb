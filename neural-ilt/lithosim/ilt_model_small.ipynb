{
 "cells": [
  {
   "cell_type": "code",
   "execution_count": 1,
   "id": "ea72e0f0",
   "metadata": {
    "execution": {
     "iopub.execute_input": "2025-06-22T23:23:07.222463Z",
     "iopub.status.busy": "2025-06-22T23:23:07.222268Z",
     "iopub.status.idle": "2025-06-22T23:23:21.445692Z",
     "shell.execute_reply": "2025-06-22T23:23:21.444811Z",
     "shell.execute_reply.started": "2025-06-22T23:23:07.222446Z"
    },
    "id": "ea72e0f0",
    "trusted": true
   },
   "outputs": [],
   "source": [
    "import os\n",
    "import torch\n",
    "from torch.utils.data import Dataset, DataLoader\n",
    "from torchvision import transforms\n",
    "from torchvision.transforms import functional as TF\n",
    "import torchvision.models as models\n",
    "from PIL import Image\n",
    "from matplotlib import pyplot as plt\n",
    "# %matplotlib widget\n",
    "import numpy as np\n",
    "from pytorch_lightning import LightningModule, Trainer\n",
    "from pytorch_lightning.callbacks import ModelCheckpoint\n",
    "from pytorch_lightning.loggers import TensorBoardLogger\n",
    "from torch.utils.data import random_split\n",
    "from ilt_data import PNGFolderDataset\n",
    "from ilt_model import LithoZernikeRegressor, get_backbone\n",
    "# torch.multiprocessing.set_start_method('spawn')# good solution !!!!"
   ]
  },
  {
   "cell_type": "code",
   "execution_count": 2,
   "id": "3e3ea839",
   "metadata": {},
   "outputs": [],
   "source": [
    "# # get_backbone('mobilenet_v3_small')\n",
    "# import torchvision.models as models\n",
    "# models.mobilenet_v3_small()"
   ]
  },
  {
   "cell_type": "code",
   "execution_count": 3,
   "id": "1a147bb5",
   "metadata": {},
   "outputs": [],
   "source": [
    "DATASET_ROOT = os.path.join('..', 'dataset', 'train_layouts')\n",
    "# device = torch.device('cuda' if torch.cuda.is_available() else 'cpu')\n",
    "# torch.zeros((1,), device=device)"
   ]
  },
  {
   "cell_type": "code",
   "execution_count": 4,
   "id": "abc88b28",
   "metadata": {
    "execution": {
     "iopub.execute_input": "2025-06-22T23:23:21.517282Z",
     "iopub.status.busy": "2025-06-22T23:23:21.517041Z",
     "iopub.status.idle": "2025-06-22T23:23:21.533931Z",
     "shell.execute_reply": "2025-06-22T23:23:21.533091Z",
     "shell.execute_reply.started": "2025-06-22T23:23:21.517265Z"
    },
    "id": "abc88b28",
    "trusted": true
   },
   "outputs": [],
   "source": [
    "# -------- 3. DataLoader --------\n",
    "def make_dataloaders(root, batch_size=16, num_zernike=20, split=0.8, workers=1):\n",
    "    dataset = PNGFolderDataset(root, N_zernike=num_zernike, image_size=2048, aberr_max=3.)\n",
    "    train_size = int(split * len(dataset))\n",
    "    val_size = len(dataset) - train_size\n",
    "    train_dataset, val_dataset = random_split(dataset, [train_size, val_size])\n",
    "    train_loader = DataLoader(train_dataset, batch_size=batch_size, shuffle=True, num_workers=workers)\n",
    "    val_loader = DataLoader(val_dataset, batch_size=batch_size, shuffle=False, num_workers=workers)\n",
    "    return train_loader, val_loader, dataset"
   ]
  },
  {
   "cell_type": "code",
   "execution_count": 5,
   "id": "5c55a1d1",
   "metadata": {
    "execution": {
     "iopub.execute_input": "2025-06-22T23:23:21.535182Z",
     "iopub.status.busy": "2025-06-22T23:23:21.534857Z",
     "iopub.status.idle": "2025-06-22T23:23:23.214656Z",
     "shell.execute_reply": "2025-06-22T23:23:23.213779Z",
     "shell.execute_reply.started": "2025-06-22T23:23:21.535158Z"
    },
    "id": "5c55a1d1",
    "trusted": true
   },
   "outputs": [
    {
     "name": "stdout",
     "output_type": "stream",
     "text": [
      "Aberrations: Z=[ 1.7874377   0.30897474 -2.0640807   2.593452   -2.635035   -0.3344164 ]\n"
     ]
    },
    {
     "data": {
      "image/png": "[encoded data removed]",
      "text/plain": [
       "<Figure size 1200x500 with 2 Axes>"
      ]
     },
     "metadata": {},
     "output_type": "display_data"
    }
   ],
   "source": [
    "train_loader, val_loader, dataset = make_dataloaders(DATASET_ROOT, batch_size=1, num_zernike=6, workers=0)\n",
    "a = next(iter(train_loader))\n",
    "i = 0\n",
    "\n",
    "fig = plt.figure(figsize=(12,5))\n",
    "ax = plt.subplot(1,2,1)\n",
    "plt.imshow(dataset.intensity_tensor_to_image(a[0][i][0]))\n",
    "ax.set_title(\"Design\")\n",
    "ax = plt.subplot(1,2,2)\n",
    "plt.imshow(dataset.intensity_tensor_to_image(a[0][i][1]))\n",
    "ax.set_title(\"Aberrated\")\n",
    "print(f\"Aberrations: Z={a[1][i].cpu().numpy()}\")\n",
    "plt.show()"
   ]
  },
  {
   "cell_type": "code",
   "execution_count": null,
   "id": "6f25737a",
   "metadata": {
    "execution": {
     "execution_failed": "2025-06-22T23:24:26.250Z",
     "iopub.execute_input": "2025-06-22T23:23:23.216036Z",
     "iopub.status.busy": "2025-06-22T23:23:23.215735Z"
    },
    "id": "6f25737a",
    "trusted": true
   },
   "outputs": [
    {
     "name": "stderr",
     "output_type": "stream",
     "text": [
      "/root/anaconda3/envs/SK/lib/python3.11/site-packages/torchvision/models/_utils.py:208: UserWarning: The parameter 'pretrained' is deprecated since 0.13 and may be removed in the future, please use 'weights' instead.\n",
      "  warnings.warn(\n",
      "/root/anaconda3/envs/SK/lib/python3.11/site-packages/torchvision/models/_utils.py:223: UserWarning: Arguments other than a weight enum or `None` for 'weights' are deprecated since 0.13 and may be removed in the future. The current behavior is equivalent to passing `weights=MobileNet_V3_Small_Weights.IMAGENET1K_V1`. You can also use `weights=MobileNet_V3_Small_Weights.DEFAULT` to get the most up-to-date weights.\n",
      "  warnings.warn(msg)\n",
      "Using 16bit Automatic Mixed Precision (AMP)\n",
      "GPU available: True (cuda), used: True\n",
      "TPU available: False, using: 0 TPU cores\n",
      "HPU available: False, using: 0 HPUs\n",
      "You are using a CUDA device ('NVIDIA GeForce RTX 3060 Laptop GPU') that has Tensor Cores. To properly utilize them, you should set `torch.set_float32_matmul_precision('medium' | 'high')` which will trade-off precision for performance. For more details, read https://pytorch.org/docs/stable/generated/torch.set_float32_matmul_precision.html#torch.set_float32_matmul_precision\n",
      "LOCAL_RANK: 0 - CUDA_VISIBLE_DEVICES: [0]\n",
      "\n",
      "  | Name     | Type        | Params | Mode \n",
      "-------------------------------------------------\n",
      "0 | backbone | MobileNetV3 | 1.5 M  | train\n",
      "1 | sim      | LTSimulator | 0      | train\n",
      "-------------------------------------------------\n",
      "1.5 M     Trainable params\n",
      "0         Non-trainable params\n",
      "1.5 M     Total params\n",
      "6.095     Total estimated model params size (MB)\n",
      "210       Modules in train mode\n",
      "0         Modules in eval mode\n"
     ]
    },
    {
     "data": {
      "application/vnd.jupyter.widget-view+json": {
       "model_id": "3b750c5e3b854ec78318ec3ec1373e23",
       "version_major": 2,
       "version_minor": 0
      },
      "text/plain": [
       "Sanity Checking: |          | 0/? [00:00<?, ?it/s]"
      ]
     },
     "metadata": {},
     "output_type": "display_data"
    },
    {
     "name": "stderr",
     "output_type": "stream",
     "text": [
      "/root/anaconda3/envs/SK/lib/python3.11/site-packages/pytorch_lightning/trainer/connectors/data_connector.py:425: The 'val_dataloader' does not have many workers which may be a bottleneck. Consider increasing the value of the `num_workers` argument` to `num_workers=19` in the `DataLoader` to improve performance.\n",
      "/root/anaconda3/envs/SK/lib/python3.11/site-packages/pytorch_lightning/trainer/connectors/data_connector.py:425: The 'train_dataloader' does not have many workers which may be a bottleneck. Consider increasing the value of the `num_workers` argument` to `num_workers=19` in the `DataLoader` to improve performance.\n"
     ]
    },
    {
     "data": {
      "application/vnd.jupyter.widget-view+json": {
       "model_id": "561e0797c9194295ad27e336bb1783c8",
       "version_major": 2,
       "version_minor": 0
      },
      "text/plain": [
       "Training: |          | 0/? [00:00<?, ?it/s]"
      ]
     },
     "metadata": {},
     "output_type": "display_data"
    }
   ],
   "source": [
    "# -------- 4. Training --------\n",
    "\"mobilenet_v3_small\" # 1.5 M / 1.06 m\n",
    "\"mobilenet_v3_large\" # 4.2 M / 1.13 m\n",
    "\"efficientnet_b0\"    # 4.0 M / 1.45 m\n",
    "train_loader, val_loader, dataset = make_dataloaders(DATASET_ROOT, batch_size=1, num_zernike=6, workers=1)\n",
    "model = LithoZernikeRegressor(\"mobilenet_v3_small\", num_zernike=6, lr=1e-3)\n",
    "checkpoint_callback = ModelCheckpoint(\n",
    "    monitor='val_loss',\n",
    "    save_top_k=1,\n",
    "    mode='min',\n",
    "    filename='best-model'\n",
    ")\n",
    "logger = TensorBoardLogger(\".\", name=\"lightning_logs\")\n",
    "\n",
    "trainer = Trainer(max_epochs=15, accelerator=\"auto\", callbacks=[checkpoint_callback],\n",
    "                  accumulate_grad_batches = 8, gradient_clip_val=1.,\n",
    "                  logger=logger,\n",
    "                  precision=\"16-mixed\"\n",
    "          )\n",
    "trainer.fit(model, train_loader, val_loader)"
   ]
  },
  {
   "cell_type": "code",
   "execution_count": null,
   "id": "e47c22b9-3881-4832-af09-fbc479bd03b0",
   "metadata": {
    "execution": {
     "execution_failed": "2025-06-22T23:24:26.250Z"
    },
    "trusted": true
   },
   "outputs": [],
   "source": [
    "# Получить финальный val_loss\n",
    "final_val_loss = trainer.callback_metrics['val_loss'].item()\n",
    "print('Final validation loss:', final_val_loss)\n",
    "\n",
    "# Где лежит best checkpoint\n",
    "print('Best model saved at:', checkpoint_callback.best_model_path)\n",
    "\n",
    "# Сохранить вручную\n",
    "torch.save(model.state_dict(), 'final_model.pt')"
   ]
  }
 ],
 "metadata": {
  "accelerator": "GPU",
  "colab": {
   "gpuType": "T4",
   "provenance": []
  },
  "kaggle": {
   "accelerator": "gpu",
   "dataSources": [
    {
     "datasetId": 7719098,
     "sourceId": 12250816,
     "sourceType": "datasetVersion"
    }
   ],
   "dockerImageVersionId": 31041,
   "isGpuEnabled": true,
   "isInternetEnabled": true,
   "language": "python",
   "sourceType": "notebook"
  },
  "kernelspec": {
   "display_name": "SK",
   "language": "python",
   "name": "python3"
  },
  "language_info": {
   "codemirror_mode": {
    "name": "ipython",
    "version": 3
   },
   "file_extension": ".py",
   "mimetype": "text/x-python",
   "name": "python",
   "nbconvert_exporter": "python",
   "pygments_lexer": "ipython3",
   "version": "3.11.10"
  }
 },
 "nbformat": 4,
 "nbformat_minor": 5
}
